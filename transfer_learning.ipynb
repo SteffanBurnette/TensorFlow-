{
  "nbformat": 4,
  "nbformat_minor": 0,
  "metadata": {
    "colab": {
      "provenance": [],
      "gpuType": "T4",
      "authorship_tag": "ABX9TyM+YHLxi8ypQDykTSvUsszL",
      "include_colab_link": true
    },
    "kernelspec": {
      "name": "python3",
      "display_name": "Python 3"
    },
    "language_info": {
      "name": "python"
    },
    "accelerator": "GPU"
  },
  "cells": [
    {
      "cell_type": "markdown",
      "metadata": {
        "id": "view-in-github",
        "colab_type": "text"
      },
      "source": [
        "<a href=\"https://colab.research.google.com/github/SteffanBurnette/TensorFlow-/blob/Convolutional-Neural-Networks/transfer_learning.ipynb\" target=\"_parent\"><img src=\"https://colab.research.google.com/assets/colab-badge.svg\" alt=\"Open In Colab\"/></a>"
      ]
    },
    {
      "cell_type": "markdown",
      "source": [
        "##Transfer learning with tensorflow Part 1: Feature Extraction\n",
        "\n",
        "**Transfer Learning** is leveraging a working models existing architecture and learned patterns for our own problems.\n",
        "\n",
        "There are two main benefits:\n",
        "* Can leverage an existing **neural network architecture** proven to work on problems similar to our own.\n",
        "* Can leverage a **working neural network architecture** which has already learned patterns on similar data to our own, then we can adapt those patterns to our own data."
      ],
      "metadata": {
        "id": "CVtSEXx9AL7j"
      }
    },
    {
      "cell_type": "code",
      "source": [
        "!nvidia-smi\n"
      ],
      "metadata": {
        "colab": {
          "base_uri": "https://localhost:8080/"
        },
        "id": "lD8fP7FaAVvO",
        "outputId": "6deac877-8f58-4205-ed34-4b1585eb2b52"
      },
      "execution_count": 1,
      "outputs": [
        {
          "output_type": "stream",
          "name": "stdout",
          "text": [
            "Fri Feb  2 21:36:17 2024       \n",
            "+---------------------------------------------------------------------------------------+\n",
            "| NVIDIA-SMI 535.104.05             Driver Version: 535.104.05   CUDA Version: 12.2     |\n",
            "|-----------------------------------------+----------------------+----------------------+\n",
            "| GPU  Name                 Persistence-M | Bus-Id        Disp.A | Volatile Uncorr. ECC |\n",
            "| Fan  Temp   Perf          Pwr:Usage/Cap |         Memory-Usage | GPU-Util  Compute M. |\n",
            "|                                         |                      |               MIG M. |\n",
            "|=========================================+======================+======================|\n",
            "|   0  Tesla T4                       Off | 00000000:00:04.0 Off |                    0 |\n",
            "| N/A   70C    P8              11W /  70W |      0MiB / 15360MiB |      0%      Default |\n",
            "|                                         |                      |                  N/A |\n",
            "+-----------------------------------------+----------------------+----------------------+\n",
            "                                                                                         \n",
            "+---------------------------------------------------------------------------------------+\n",
            "| Processes:                                                                            |\n",
            "|  GPU   GI   CI        PID   Type   Process name                            GPU Memory |\n",
            "|        ID   ID                                                             Usage      |\n",
            "|=======================================================================================|\n",
            "|  No running processes found                                                           |\n",
            "+---------------------------------------------------------------------------------------+\n"
          ]
        }
      ]
    },
    {
      "cell_type": "code",
      "source": [
        "import tensorflow as tf\n",
        "import matplotlib.pyplot as plt\n",
        "import pandas as pd\n",
        "import numpy as np\n",
        "import tensorflow_hub as hub\n",
        "from tensorflow.keras import layers\n",
        "from tensorflow.keras.models import Sequential\n",
        "from tensorflow.keras.layers import Conv2D, Dense, MaxPool2D, Flatten\n",
        "from tensorflow.keras.optimizers import Adam, SGD\n",
        "from tensorflow.keras.losses import BinaryCrossentropy, CategoricalCrossentropy, SparseCategoricalCrossentropy\n"
      ],
      "metadata": {
        "id": "frjFJdyWY3Qf"
      },
      "execution_count": 2,
      "outputs": []
    },
    {
      "cell_type": "markdown",
      "source": [
        "#Download and becoming one with the data"
      ],
      "metadata": {
        "id": "10j3VPetBxC0"
      }
    },
    {
      "cell_type": "code",
      "source": [
        "# Get data (10% of labels)\n",
        "import zipfile\n",
        "\n",
        "# Download data\n",
        "!wget https://storage.googleapis.com/ztm_tf_course/food_vision/10_food_classes_10_percent.zip\n",
        "\n",
        "# Unzip the downloaded file\n",
        "zip_ref = zipfile.ZipFile(\"10_food_classes_10_percent.zip\", \"r\")\n",
        "zip_ref.extractall()\n",
        "zip_ref.close()"
      ],
      "metadata": {
        "colab": {
          "base_uri": "https://localhost:8080/"
        },
        "id": "_J3J9mPjByxz",
        "outputId": "a2bbb992-7b01-4e5e-bbc6-f8d45228bebc"
      },
      "execution_count": 3,
      "outputs": [
        {
          "output_type": "stream",
          "name": "stdout",
          "text": [
            "--2024-02-02 21:36:22--  https://storage.googleapis.com/ztm_tf_course/food_vision/10_food_classes_10_percent.zip\n",
            "Resolving storage.googleapis.com (storage.googleapis.com)... 64.233.182.207, 64.233.183.207, 173.194.193.207, ...\n",
            "Connecting to storage.googleapis.com (storage.googleapis.com)|64.233.182.207|:443... connected.\n",
            "HTTP request sent, awaiting response... 200 OK\n",
            "Length: 168546183 (161M) [application/zip]\n",
            "Saving to: ‘10_food_classes_10_percent.zip’\n",
            "\n",
            "10_food_classes_10_ 100%[===================>] 160.74M   150MB/s    in 1.1s    \n",
            "\n",
            "2024-02-02 21:36:23 (150 MB/s) - ‘10_food_classes_10_percent.zip’ saved [168546183/168546183]\n",
            "\n"
          ]
        }
      ]
    },
    {
      "cell_type": "code",
      "source": [
        "\n",
        "# How many images in each folder?\n",
        "import os\n",
        "\n",
        "# Walk through 10 percent data directory and list number of files\n",
        "for dirpath, dirnames, filenames in os.walk(\"10_food_classes_10_percent\"):\n",
        "  print(f\"There are {len(dirnames)} directories and {len(filenames)} images in '{dirpath}'.\")"
      ],
      "metadata": {
        "colab": {
          "base_uri": "https://localhost:8080/"
        },
        "id": "6d4QqgOzCTjR",
        "outputId": "9c1d57c0-1c22-4a4c-d717-4615dc96ba80"
      },
      "execution_count": 4,
      "outputs": [
        {
          "output_type": "stream",
          "name": "stdout",
          "text": [
            "There are 2 directories and 0 images in '10_food_classes_10_percent'.\n",
            "There are 10 directories and 0 images in '10_food_classes_10_percent/train'.\n",
            "There are 0 directories and 75 images in '10_food_classes_10_percent/train/ramen'.\n",
            "There are 0 directories and 75 images in '10_food_classes_10_percent/train/steak'.\n",
            "There are 0 directories and 75 images in '10_food_classes_10_percent/train/pizza'.\n",
            "There are 0 directories and 75 images in '10_food_classes_10_percent/train/grilled_salmon'.\n",
            "There are 0 directories and 75 images in '10_food_classes_10_percent/train/chicken_curry'.\n",
            "There are 0 directories and 75 images in '10_food_classes_10_percent/train/hamburger'.\n",
            "There are 0 directories and 75 images in '10_food_classes_10_percent/train/fried_rice'.\n",
            "There are 0 directories and 75 images in '10_food_classes_10_percent/train/sushi'.\n",
            "There are 0 directories and 75 images in '10_food_classes_10_percent/train/ice_cream'.\n",
            "There are 0 directories and 75 images in '10_food_classes_10_percent/train/chicken_wings'.\n",
            "There are 10 directories and 0 images in '10_food_classes_10_percent/test'.\n",
            "There are 0 directories and 250 images in '10_food_classes_10_percent/test/ramen'.\n",
            "There are 0 directories and 250 images in '10_food_classes_10_percent/test/steak'.\n",
            "There are 0 directories and 250 images in '10_food_classes_10_percent/test/pizza'.\n",
            "There are 0 directories and 250 images in '10_food_classes_10_percent/test/grilled_salmon'.\n",
            "There are 0 directories and 250 images in '10_food_classes_10_percent/test/chicken_curry'.\n",
            "There are 0 directories and 250 images in '10_food_classes_10_percent/test/hamburger'.\n",
            "There are 0 directories and 250 images in '10_food_classes_10_percent/test/fried_rice'.\n",
            "There are 0 directories and 250 images in '10_food_classes_10_percent/test/sushi'.\n",
            "There are 0 directories and 250 images in '10_food_classes_10_percent/test/ice_cream'.\n",
            "There are 0 directories and 250 images in '10_food_classes_10_percent/test/chicken_wings'.\n"
          ]
        }
      ]
    },
    {
      "cell_type": "markdown",
      "source": [
        "### Creating Data Loaders(Preparing the data)\n",
        "\n",
        "We'll use the `ImageDataGenerator` class to load in our images into batches."
      ],
      "metadata": {
        "id": "HSD9ChYZGTll"
      }
    },
    {
      "cell_type": "code",
      "source": [
        "#Set up the data inputs\n",
        "from tensorflow.keras.preprocessing.image import ImageDataGenerator\n",
        "IMAGE_SHAPE = (224, 224)\n",
        "BATCH_SIZE = 32\n",
        "#When something is written in all capital letters that typically indicates that it is some\n",
        "#sort of hyperparamter\n",
        "\n",
        "train_dir = \"/content/10_food_classes_10_percent/train\"\n",
        "test_dir = \"/content/10_food_classes_10_percent/test\"\n",
        "\n",
        "train_datagen = ImageDataGenerator(rescale = 1./255.)\n",
        "test_datagen = ImageDataGenerator(rescale = 1./255.)\n",
        "\n",
        "#we wre using less train data because will be using transfer learning with the train data\n",
        "#but we are keeping the same amount of test data\n",
        "print(\"Training Images: \")\n",
        "train_data_10_percent = train_datagen.flow_from_directory(directory = train_dir,\n",
        "                                                          target_size = IMAGE_SHAPE,\n",
        "                                                          batch_size = BATCH_SIZE,\n",
        "                                                         class_mode = \"categorical\" )\n",
        "\n",
        "print(\"Testing Data: \")\n",
        "test_data = test_datagen.flow_from_directory(test_dir,\n",
        "                                                        target_size= IMAGE_SHAPE,\n",
        "                                                        batch_size = BATCH_SIZE,\n",
        "                                                        class_mode = \"categorical\")\n",
        "\n",
        "\n",
        "\n"
      ],
      "metadata": {
        "id": "ZGk1YTmTGjSt",
        "colab": {
          "base_uri": "https://localhost:8080/"
        },
        "outputId": "5e392cb8-ed31-400c-eabb-c3b2bad50729"
      },
      "execution_count": 5,
      "outputs": [
        {
          "output_type": "stream",
          "name": "stdout",
          "text": [
            "Training Images: \n",
            "Found 750 images belonging to 10 classes.\n",
            "Testing Data: \n",
            "Found 2500 images belonging to 10 classes.\n"
          ]
        }
      ]
    },
    {
      "cell_type": "markdown",
      "source": [
        "###Setting up **`Callbacks`**(Things to run while our model trains)\n",
        "\n",
        "**Callbacks** are an extra functionlity that you can add to your models top be performed during or after training. Some of the most popular callbacks are:\n",
        "* Tracking experiments with the **Tensor Board Callbacks**.\n",
        "* Model checkpointing with the **ModelCheckpoint** callback.\n",
        "* Stopping model from training before it trains too long and **overfits** with the **EarlyStopping** callback."
      ],
      "metadata": {
        "id": "L1nO-wwZRFwS"
      }
    },
    {
      "cell_type": "code",
      "source": [
        "#Will build a function to track our experiments using the TensorBoard callback\n",
        "#Create a TensorBoard callback (functionized because we need to create a new one for each model)\n",
        "import datetime #Will use a timestamp for when the model was ran\n",
        "\n",
        "def create_tensorboard_callback(dir_name, experiment_name):\n",
        "  #Creating a directory path for where to store the data\n",
        "  log_dir = dir_name + \"/\" + experiment_name + \"/\" + datetime.datetime.now().strftime(\"%y%m%d-%H%M%S\") #Gets the current timestamp when invoked\n",
        "  tensorboard_callback = tf.keras.callbacks.TensorBoard(log_dir = log_dir)\n",
        "  print(f\"Saving tensorBoard log files to {log_dir}\")\n",
        "  return tensorboard_callback\n"
      ],
      "metadata": {
        "id": "c9gohAhkRL6U"
      },
      "execution_count": 6,
      "outputs": []
    },
    {
      "cell_type": "markdown",
      "source": [
        "🔑**Note**- You can customize the directory where your **TensorBoard** logs (model training metrics) get saved to whatever you like. The `log_dir` parameter we've created above is only one option."
      ],
      "metadata": {
        "id": "RN6pU4rBagjZ"
      }
    },
    {
      "cell_type": "markdown",
      "source": [
        "###Creating models using **`Tensorflow Hub`**\n",
        "**Tensorflow Hub** is a repository of trained machine learning models.\n",
        "\n",
        "In the past, we've used **tensorflow** to create our own model, layer by layer from scratch.\n",
        "\n",
        "Now we're going to do a similar process, except the majority of our models layers are going to come from **tensorflow hub**.\n",
        "\n",
        "Browsing the tensorflow hub page and browsing for image classification models, we found the following feature vector model."
      ],
      "metadata": {
        "id": "QJZ0Nt0ua_lO"
      }
    },
    {
      "cell_type": "code",
      "source": [
        "#Lets compare the following two models\n",
        "\n",
        "# Resnet 50 V2 feature vector\n",
        "resnet_url = \"https://tfhub.dev/google/imagenet/resnet_v2_50/feature_vector/4\"\n",
        "\n",
        "\n",
        "# Original: EfficientNetB0 feature vector (version 1)\n",
        "#efficientnet_url = \"https://tfhub.dev/tensorflow/efficientnet/b0/feature-vector/1\"\n",
        "\n",
        "# # New: EfficientNetB0 feature vector (version 2)\n",
        "efficientnet_url = \"https://tfhub.dev/google/imagenet/efficientnet_v2_imagenet1k_b0/feature_vector/2\""
      ],
      "metadata": {
        "id": "ITY8G8PVfIyh"
      },
      "execution_count": 7,
      "outputs": []
    },
    {
      "cell_type": "code",
      "source": [
        "#Lets make a create model function that creates a function from a url\n",
        "def create_model(model_url, num_classes=10): #Will take in the models url and the number of categories we are working with\n",
        "    \"\"\"\n",
        "    Takes a tensorflow hub URL and creates a Sequential model from it.\n",
        "\n",
        "  Args:\n",
        "      model_url (str): A TensorFlow hub extraction URL.\n",
        "     num_classes (int): The number of output neurons (categories) in the output layer,\n",
        "     should be equal to the number of target classes (in this case 10)\n",
        "\n",
        "  Returns:\n",
        "     Returns an uncompiled keras sequential model with model_url as feature extractor layer and dense\n",
        "     output layer with num_classes output neurons.\n",
        "     \"\"\"\n",
        "    #Downloads the pretrained model and save it as a keras layer\n",
        "    feature_extraction_layer = hub.KerasLayer(model_url,\n",
        "                                             trainable = False,#Freezes the patterns that the pretrained model has learned\n",
        "                                             name = \"Feature_Extraction_Layer\",\n",
        "                                             input_shape = IMAGE_SHAPE+(3,)) #Turns shape into (224, 224, 3)\n",
        "    #We will be able to put the entire model as a layer into the model that we create\n",
        "\n",
        "    #Create our own model\n",
        "    model = Sequential([\n",
        "        feature_extraction_layer,\n",
        "        Dense(num_classes, activation=\"softmax\", name = \"output_layer\")\n",
        "    ])\n",
        "\n",
        "    return model\n",
        "\n",
        "#We made sure to change the output layer to our specific use case since resnet by default has over 1000 different outputs\n",
        "\n"
      ],
      "metadata": {
        "id": "hgXHE3U33WLx"
      },
      "execution_count": 8,
      "outputs": []
    },
    {
      "cell_type": "markdown",
      "source": [
        "###Creating and testing resnet Tensorflow hub feature extraction model"
      ],
      "metadata": {
        "id": "NadLbaOR9r5V"
      }
    },
    {
      "cell_type": "code",
      "source": [
        "#Will create a resnet model to test out our functiob\n",
        "resnet_model = create_model(model_url = resnet_url)\n",
        "\n"
      ],
      "metadata": {
        "id": "gPKo3Z199X7X"
      },
      "execution_count": 9,
      "outputs": []
    },
    {
      "cell_type": "code",
      "source": [
        "resnet_model.summary()"
      ],
      "metadata": {
        "colab": {
          "base_uri": "https://localhost:8080/"
        },
        "id": "nhJiHcF7-gWT",
        "outputId": "83590bbd-1615-4bd4-ea8d-8fed9dc0f41c"
      },
      "execution_count": 10,
      "outputs": [
        {
          "output_type": "stream",
          "name": "stdout",
          "text": [
            "Model: \"sequential\"\n",
            "_________________________________________________________________\n",
            " Layer (type)                Output Shape              Param #   \n",
            "=================================================================\n",
            " Feature_Extraction_Layer (  (None, 2048)              23564800  \n",
            " KerasLayer)                                                     \n",
            "                                                                 \n",
            " output_layer (Dense)        (None, 10)                20490     \n",
            "                                                                 \n",
            "=================================================================\n",
            "Total params: 23585290 (89.97 MB)\n",
            "Trainable params: 20490 (80.04 KB)\n",
            "Non-trainable params: 23564800 (89.89 MB)\n",
            "_________________________________________________________________\n"
          ]
        }
      ]
    },
    {
      "cell_type": "code",
      "source": [
        "#Now we need to compile the model\n",
        "resnet_model.compile(loss = CategoricalCrossentropy(),\n",
        "                     optimizer = Adam(),\n",
        "                     metrics = [\"accuracy\"])"
      ],
      "metadata": {
        "id": "MFqJX2ME-rr7"
      },
      "execution_count": 11,
      "outputs": []
    },
    {
      "cell_type": "code",
      "source": [
        "#Now that the model is compiled, we can train the model\n",
        "history_1 = resnet_model.fit(train_data_10_percent, epochs = 5,\n",
        "                 steps_per_epoch = len(train_data_10_percent),\n",
        "                 validation_data = test_data, validation_steps = len(test_data),\n",
        "                             callbacks = [create_tensorboard_callback(dir_name = \"tesorflow_hub\",\n",
        "                                                                      experiment_name = \"resnet50v2\")])\n"
      ],
      "metadata": {
        "colab": {
          "base_uri": "https://localhost:8080/"
        },
        "id": "9OvLSbmu_EMz",
        "outputId": "8567c366-b20a-4a37-e8f3-ae3871af24e4"
      },
      "execution_count": 12,
      "outputs": [
        {
          "output_type": "stream",
          "name": "stdout",
          "text": [
            "Saving tensorBoard log files to tesorflow_hub/resnet50v2/240202-213634\n",
            "Epoch 1/5\n",
            "24/24 [==============================] - 23s 610ms/step - loss: 1.9488 - accuracy: 0.3600 - val_loss: 1.2078 - val_accuracy: 0.6160\n",
            "Epoch 2/5\n",
            "24/24 [==============================] - 11s 472ms/step - loss: 0.9042 - accuracy: 0.7387 - val_loss: 0.8498 - val_accuracy: 0.7200\n",
            "Epoch 3/5\n",
            "24/24 [==============================] - 11s 479ms/step - loss: 0.6160 - accuracy: 0.8307 - val_loss: 0.7454 - val_accuracy: 0.7584\n",
            "Epoch 4/5\n",
            "24/24 [==============================] - 11s 455ms/step - loss: 0.4664 - accuracy: 0.8827 - val_loss: 0.6880 - val_accuracy: 0.7672\n",
            "Epoch 5/5\n",
            "24/24 [==============================] - 11s 469ms/step - loss: 0.3758 - accuracy: 0.9160 - val_loss: 0.6710 - val_accuracy: 0.7764\n"
          ]
        }
      ]
    },
    {
      "cell_type": "markdown",
      "source": [
        "Our **Transfer learning feature extracor** model outperformed all of the previous models that we built by hand, with a quicker training time and only 10 percent of the training data."
      ],
      "metadata": {
        "id": "FpbXF8mD1rGO"
      }
    },
    {
      "cell_type": "code",
      "source": [
        "#Lets create a function to plot our loss curves\n",
        "#Note that this function will fail if we are using an evaluation metric that is not accuracy\n",
        "#Plot the validation and training curves seperately\n",
        "def plot_loss_curves(history):\n",
        "  \"\"\"\n",
        "  Returns seperate loss curves for training and validation metrics\n",
        "  \"\"\"\n",
        "  loss = history.history[\"loss\"]\n",
        "  val_loss = history.history[\"val_loss\"]\n",
        "  accuracy = history.history[\"accuracy\"]\n",
        "  val_accuracy = history.history[\"val_accuracy\"]\n",
        "\n",
        "  epochs = range(len(history.history[\"loss\"])) #How many epochs did we run for\n",
        "\n",
        "  #Plot loss\n",
        "  plt.plot(epochs, loss, label=\"training_loss\")\n",
        "  plt.plot(epochs,val_loss, label=\"val_loss\")\n",
        "  plt.title(\"loss\")\n",
        "  plt.xlabel(\"epochs\")\n",
        "  plt.legend()\n",
        "\n",
        "    #Plot Accuracy\n",
        "  plt.figure() #Creates a new figure\n",
        "  plt.plot(epochs, accuracy, label=\"training_accuracy\")\n",
        "  plt.plot(epochs,val_accuracy, label=\"val_accuracy\")\n",
        "  plt.title(\"accuracy\")\n",
        "  plt.xlabel(\"epochs\")\n",
        "  plt.legend()"
      ],
      "metadata": {
        "id": "vQNhY8jf2Elu"
      },
      "execution_count": 13,
      "outputs": []
    },
    {
      "cell_type": "code",
      "source": [
        "plot_loss_curves(history_1)"
      ],
      "metadata": {
        "colab": {
          "base_uri": "https://localhost:8080/",
          "height": 927
        },
        "id": "3aLo8YDDF2Qk",
        "outputId": "bbc6124d-21f6-4e51-eb87-39a237598409"
      },
      "execution_count": 14,
      "outputs": [
        {
          "output_type": "display_data",
          "data": {
            "text/plain": [
              "<Figure size 640x480 with 1 Axes>"
            ],
            "image/png": "[encoded data removed]"
          },
          "metadata": {}
        },
        {
          "output_type": "display_data",
          "data": {
            "text/plain": [
              "<Figure size 640x480 with 1 Axes>"
            ],
            "image/png": "[encoded data removed]"
          },
          "metadata": {}
        }
      ]
    },
    {
      "cell_type": "markdown",
      "source": [
        "🔑**Note**- Should create a file called helper.py to hold functions like this to help when analyzing future model performances in the future."
      ],
      "metadata": {
        "id": "uATfQWdUGCPG"
      }
    },
    {
      "cell_type": "markdown",
      "source": [
        "###Creating and testing EfficentNetv2 hub so that we can compare it to the resnetv50 model"
      ],
      "metadata": {
        "id": "w-LmXCtgH3XQ"
      }
    },
    {
      "cell_type": "code",
      "source": [
        "#All we have to do is change the url given to the create model function since we create\n",
        "#a pipeline that loads in the pretrained model and creaye\n",
        "efficientnet_model = create_model(model_url = efficientnet_url)"
      ],
      "metadata": {
        "id": "UqFhTSHyIBvz"
      },
      "execution_count": 15,
      "outputs": []
    },
    {
      "cell_type": "code",
      "source": [
        "#Compile the model\n",
        "efficientnet_model.compile(loss = CategoricalCrossentropy(),\n",
        "                           optimizer = Adam(),\n",
        "                           metrics = [\"accuracy\"])"
      ],
      "metadata": {
        "id": "CVAIYWd7L34p"
      },
      "execution_count": 16,
      "outputs": []
    },
    {
      "cell_type": "code",
      "source": [
        "#Fit the model\n",
        "history_2 = efficientnet_model.fit(train_data_10_percent, epochs=5, steps_per_epoch=len(train_data_10_percent),\n",
        "                                   validation_data = test_data, validation_steps=len(test_data),\n",
        "                                     callbacks = [create_tensorboard_callback(dir_name = \"tesorflow_hub\",\n",
        "                                                                      experiment_name = \"efficientnetv2\")])"
      ],
      "metadata": {
        "colab": {
          "base_uri": "https://localhost:8080/"
        },
        "id": "0mzI0GJRMH-K",
        "outputId": "fe634d7b-ce4f-4fc7-a147-c189d0cacbc1"
      },
      "execution_count": 17,
      "outputs": [
        {
          "output_type": "stream",
          "name": "stdout",
          "text": [
            "Saving tensorBoard log files to tesorflow_hub/efficientnetv2/240202-213759\n",
            "Epoch 1/5\n",
            "24/24 [==============================] - 22s 556ms/step - loss: 1.9531 - accuracy: 0.3773 - val_loss: 1.4910 - val_accuracy: 0.6280\n",
            "Epoch 2/5\n",
            "24/24 [==============================] - 9s 401ms/step - loss: 1.3015 - accuracy: 0.6800 - val_loss: 1.1131 - val_accuracy: 0.7180\n",
            "Epoch 3/5\n",
            "24/24 [==============================] - 9s 407ms/step - loss: 1.0046 - accuracy: 0.7680 - val_loss: 0.9440 - val_accuracy: 0.7404\n",
            "Epoch 4/5\n",
            "24/24 [==============================] - 10s 420ms/step - loss: 0.8480 - accuracy: 0.8200 - val_loss: 0.8533 - val_accuracy: 0.7576\n",
            "Epoch 5/5\n",
            "24/24 [==============================] - 10s 426ms/step - loss: 0.7406 - accuracy: 0.8267 - val_loss: 0.7952 - val_accuracy: 0.7660\n"
          ]
        }
      ]
    },
    {
      "cell_type": "code",
      "source": [
        "#Plot the loss curves of the efficientnet model\n",
        "plot_loss_curves(history_2)"
      ],
      "metadata": {
        "colab": {
          "base_uri": "https://localhost:8080/",
          "height": 927
        },
        "id": "tHXjpVzSMdDl",
        "outputId": "c41bf11a-46b4-4b3a-8040-5df7cc7dca82"
      },
      "execution_count": 18,
      "outputs": [
        {
          "output_type": "display_data",
          "data": {
            "text/plain": [
              "<Figure size 640x480 with 1 Axes>"
            ],
            "image/png": "[encoded data removed]"
          },
          "metadata": {}
        },
        {
          "output_type": "display_data",
          "data": {
            "text/plain": [
              "<Figure size 640x480 with 1 Axes>"
            ],
            "image/png": "[encoded data removed]"
          },
          "metadata": {}
        }
      ]
    },
    {
      "cell_type": "code",
      "source": [
        "efficientnet_model.summary()"
      ],
      "metadata": {
        "colab": {
          "base_uri": "https://localhost:8080/"
        },
        "id": "ApuuY6DvfI60",
        "outputId": "bba90dbb-0737-4707-997c-e4a1cc09b77c"
      },
      "execution_count": 19,
      "outputs": [
        {
          "output_type": "stream",
          "name": "stdout",
          "text": [
            "Model: \"sequential_1\"\n",
            "_________________________________________________________________\n",
            " Layer (type)                Output Shape              Param #   \n",
            "=================================================================\n",
            " Feature_Extraction_Layer (  (None, 1280)              5919312   \n",
            " KerasLayer)                                                     \n",
            "                                                                 \n",
            " output_layer (Dense)        (None, 10)                12810     \n",
            "                                                                 \n",
            "=================================================================\n",
            "Total params: 5932122 (22.63 MB)\n",
            "Trainable params: 12810 (50.04 KB)\n",
            "Non-trainable params: 5919312 (22.58 MB)\n",
            "_________________________________________________________________\n"
          ]
        }
      ]
    },
    {
      "cell_type": "code",
      "source": [
        "resnet_model.summary()"
      ],
      "metadata": {
        "colab": {
          "base_uri": "https://localhost:8080/"
        },
        "id": "Fw-Y9xbnfe8r",
        "outputId": "8ed3f42e-f3c6-4465-a891-b20a12d43434"
      },
      "execution_count": 20,
      "outputs": [
        {
          "output_type": "stream",
          "name": "stdout",
          "text": [
            "Model: \"sequential\"\n",
            "_________________________________________________________________\n",
            " Layer (type)                Output Shape              Param #   \n",
            "=================================================================\n",
            " Feature_Extraction_Layer (  (None, 2048)              23564800  \n",
            " KerasLayer)                                                     \n",
            "                                                                 \n",
            " output_layer (Dense)        (None, 10)                20490     \n",
            "                                                                 \n",
            "=================================================================\n",
            "Total params: 23585290 (89.97 MB)\n",
            "Trainable params: 20490 (80.04 KB)\n",
            "Non-trainable params: 23564800 (89.89 MB)\n",
            "_________________________________________________________________\n"
          ]
        }
      ]
    },
    {
      "cell_type": "markdown",
      "source": [
        "🔑**Note**- Even though the `Resnet` model has a little over 5 times the numbers of parameters than the `efficientnet` model, the `efficientnet` model is still outperforming the `resnet` model."
      ],
      "metadata": {
        "id": "WDoSz2Ipfq2E"
      }
    },
    {
      "cell_type": "markdown",
      "source": [
        "### Different Types of **`Transfer Learning`**\n",
        "* **`\"As is\" Transfer learning`** - Using an existing model with no changes what so ever(e.g. using `imagenet` model on 1000 `imagenet` classes, none of your own)\n",
        "* **`\"Feature Extraction\" Transfer Learning`** - Using prelearned patterns of an existing model (e.g. efficientbetB0 trained on ImageNet) and adjust the `output layer` for your own problem(e.g. 1000 classes from imagenet -> 10 classes from our food dataset).\n",
        "* **`\"Fine Tuning\" Transfer Learning`** - Use the prelearned patterns of the existing models and `fine tune` many or all of the `underlying layers` (including new output layers). `Fine tuning` typically requires more data than `feature extraction`.\n"
      ],
      "metadata": {
        "id": "IGGuUZtdgC34"
      }
    },
    {
      "cell_type": "code",
      "source": [
        "#How many layers does our efficient net extractor have\n",
        "print(f\"These are all of the layers in the model: {efficientnet_model.layers}\")\n",
        "#We have two layers, the tensorflow hub keras layer and the Dense output layer\n",
        "\n",
        "print(f\"This is the amount of weights in the model: {len(efficientnet_model.layers[0].weights)}\" ) #Weights is another word for patterns"
      ],
      "metadata": {
        "colab": {
          "base_uri": "https://localhost:8080/"
        },
        "id": "l15XpCB1iriH",
        "outputId": "3926522f-df41-4c08-a854-a6ac69a4dfc4"
      },
      "execution_count": 21,
      "outputs": [
        {
          "output_type": "stream",
          "name": "stdout",
          "text": [
            "These are all of the layers in the model: [<tensorflow_hub.keras_layer.KerasLayer object at 0x7e2270b13160>, <keras.src.layers.core.dense.Dense object at 0x7e21efcb39a0>]\n",
            "This is the amount of weights in the model: 359\n"
          ]
        }
      ]
    },
    {
      "cell_type": "markdown",
      "source": [
        "### Comparing our models results using TensorBoard\n",
        "\n",
        "🔑**Note**- When you upload things to **tensorBoard.dev**, your experiments are public, so if you are running private experiments (things that you do not want others to see) do not upload them to tensorboard.dev ."
      ],
      "metadata": {
        "id": "A7S8ZDVTlfqg"
      }
    },
    {
      "cell_type": "code",
      "source": [
        "#Upload tensorbaord dev records\n",
        "!tensorboard dev upload --log_dir ./tensorflow_hub/ \\\n",
        "--name \"efficientnetv2 vs resnet50v2\" \\\n",
        "--description \"Comparing two different TF hub feature extraction model architecture using 10% of the training data\" \\\n",
        "--one_shot\n"
      ],
      "metadata": {
        "colab": {
          "base_uri": "https://localhost:8080/"
        },
        "id": "4JRN-SZyxpqh",
        "outputId": "a5f4fd60-e53e-48b9-abe2-9033872fdf32"
      },
      "execution_count": 22,
      "outputs": [
        {
          "output_type": "stream",
          "name": "stdout",
          "text": [
            "2024-02-02 21:47:00.320086: E external/local_xla/xla/stream_executor/cuda/cuda_dnn.cc:9261] Unable to register cuDNN factory: Attempting to register factory for plugin cuDNN when one has already been registered\n",
            "2024-02-02 21:47:00.320156: E external/local_xla/xla/stream_executor/cuda/cuda_fft.cc:607] Unable to register cuFFT factory: Attempting to register factory for plugin cuFFT when one has already been registered\n",
            "2024-02-02 21:47:00.321515: E external/local_xla/xla/stream_executor/cuda/cuda_blas.cc:1515] Unable to register cuBLAS factory: Attempting to register factory for plugin cuBLAS when one has already been registered\n",
            "2024-02-02 21:47:01.315248: W tensorflow/compiler/tf2tensorrt/utils/py_utils.cc:38] TF-TRT Warning: Could not find TensorRT\n",
            "****************************************************************\n",
            "****************************************************************\n",
            "****************************************************************\n",
            "\n",
            "Uploading TensorBoard logs to https://tensorboard.dev/ is no longer\n",
            "supported.\n",
            "\n",
            "TensorBoard.dev is shutting down.\n",
            "\n",
            "Please export your experiments by Dec 31, 2023.\n",
            "\n",
            "See the FAQ at https://tensorboard.dev.\n",
            "\n",
            "****************************************************************\n",
            "****************************************************************\n",
            "****************************************************************\n"
          ]
        }
      ]
    }
  ]
}