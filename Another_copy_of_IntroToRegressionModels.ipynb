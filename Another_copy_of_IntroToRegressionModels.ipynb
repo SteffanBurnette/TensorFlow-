{
  "nbformat": 4,
  "nbformat_minor": 0,
  "metadata": {
    "colab": {
      "provenance": [],
      "gpuType": "T4",
      "authorship_tag": "ABX9TyO8gBv0/suRNKEZTbANU+0H",
      "include_colab_link": true
    },
    "kernelspec": {
      "name": "python3",
      "display_name": "Python 3"
    },
    "language_info": {
      "name": "python"
    },
    "accelerator": "GPU"
  },
  "cells": [
    {
      "cell_type": "markdown",
      "metadata": {
        "id": "view-in-github",
        "colab_type": "text"
      },
      "source": [
        "<a href=\"https://colab.research.google.com/github/SteffanBurnette/TensorFlow-/blob/main/Another_copy_of_IntroToRegressionModels.ipynb\" target=\"_parent\"><img src=\"https://colab.research.google.com/assets/colab-badge.svg\" alt=\"Open In Colab\"/></a>"
      ]
    },
    {
      "cell_type": "code",
      "execution_count": null,
      "metadata": {
        "id": "5a6ky1ev6_lW",
        "colab": {
          "base_uri": "https://localhost:8080/"
        },
        "outputId": "62c6fc72-ef31-4040-890e-a21a366098d6"
      },
      "outputs": [
        {
          "output_type": "stream",
          "name": "stdout",
          "text": [
            "Lets get STARTTED\n"
          ]
        }
      ],
      "source": [
        "import tensorflow as tf #Neural network builder\n",
        "import pandas as pd  #dataframes maker\n",
        "import numpy as np #data analysis libary\n",
        "import matplotlib.pyplot as plt\n",
        "print(\"Lets get STARTTED\")"
      ]
    },
    {
      "cell_type": "code",
      "source": [
        "#Intro to regression models with tensorflow\n",
        "\n",
        "#Create Features\n",
        "X = np.array([-7.0, -4.0, -1.0, 2.0, 5.0, 8.0, 11.0, 14.0])\n",
        "#Create Labels\n",
        "Y = np.array([3.0, 6.0, 9.0, 12.0, 15.0, 18.0, 21.0, 24.0])\n",
        "\n",
        "#Visualize the data\n",
        "plt.scatter(X, Y) #Uses matplotlib to create a scatter plot of the data given\n",
        "\n",
        "#Notice that we can get to Y from X by adding 10\n",
        "#This is the relationship/function between out features and labels that we want the neural network to learn\n",
        "print(Y==X+10) #Compares each element +10 in the numpy array one by one\n",
        "\n",
        "input_shape = X.shape\n",
        "output_shape = Y.shape\n",
        "\n",
        "print(input_shape, output_shape)\n",
        "#The shape is 8, 8 but since we only need one feature to predict one labe its one to one\n",
        "#Also the X and Y tensors are scalar tensors(rank 0) meaning that their dimensions are 0"
      ],
      "metadata": {
        "id": "7BzJH5d77RUk",
        "colab": {
          "base_uri": "https://localhost:8080/",
          "height": 470
        },
        "outputId": "de2efed5-5d4b-4eae-8666-b1784e120f77"
      },
      "execution_count": null,
      "outputs": [
        {
          "output_type": "stream",
          "name": "stdout",
          "text": [
            "[ True  True  True  True  True  True  True  True]\n",
            "(8,) (8,)\n"
          ]
        },
        {
          "output_type": "display_data",
          "data": {
            "text/plain": [
              "<Figure size 640x480 with 1 Axes>"
            ],
            "image/png": "[encoded data removed]"
          },
          "metadata": {}
        }
      ]
    },
    {
      "cell_type": "markdown",
      "source": [
        "### Input and Output Shapes"
      ],
      "metadata": {
        "id": "ZCbOOwoe-pui"
      }
    },
    {
      "cell_type": "code",
      "source": [
        "#Create a demo tensor for then housing price prediction\n",
        "house_info = tf.constant([\"bedroom\", \"bathroom\", \"garage\"])\n",
        "house_price=tf.constant([939700])\n",
        "house_info, house_price    #Will get their shapes"
      ],
      "metadata": {
        "id": "XJbb_oS8-tx3",
        "colab": {
          "base_uri": "https://localhost:8080/"
        },
        "outputId": "5016a532-c387-4e49-eaa1-fb93886dbf61"
      },
      "execution_count": null,
      "outputs": [
        {
          "output_type": "execute_result",
          "data": {
            "text/plain": [
              "(<tf.Tensor: shape=(3,), dtype=string, numpy=array([b'bedroom', b'bathroom', b'garage'], dtype=object)>,\n",
              " <tf.Tensor: shape=(1,), dtype=int32, numpy=array([939700], dtype=int32)>)"
            ]
          },
          "metadata": {},
          "execution_count": 3
        }
      ]
    },
    {
      "cell_type": "code",
      "source": [
        "#Corrected Code\n",
        "# Fit the model\n",
        "#model.fit(tf.expand_dims(X, axis=-1), y, epochs=5) # <- updated line\n",
        "#The code adds an extra dimension to X on the last axis, turning it ndim=1 to ndim=2 (what the model requires)."
      ],
      "metadata": {
        "id": "T2cFLxChH5OZ"
      },
      "execution_count": null,
      "outputs": []
    },
    {
      "cell_type": "code",
      "source": [
        "#Turn numpy arrays into tensors\n",
        "X = tf.constant(X)\n",
        "Y = tf.constant(Y)\n",
        "#Gets the shapes of the input and output variables\n",
        "input_shape = X[0].shape\n",
        "output_shape = Y[0].shape\n",
        "#Since its a scalar value, its dimension is 0 so its shape is empty\n",
        "print(input_shape, output_shape)"
      ],
      "metadata": {
        "colab": {
          "base_uri": "https://localhost:8080/"
        },
        "id": "RYxXP-IAIJp6",
        "outputId": "062b2cbe-22ff-4c58-9dd3-6b4b22989e9d"
      },
      "execution_count": null,
      "outputs": [
        {
          "output_type": "stream",
          "name": "stdout",
          "text": [
            "() ()\n"
          ]
        }
      ]
    },
    {
      "cell_type": "markdown",
      "source": [
        "## Steps In Modeling With Tensorflow\n",
        "1. **Creating a Model** - Define the Input and Output Layers, aswell as the Hidden Layers of a deep learning model.\n",
        "2. **Compiling the model** - define the loss function (in other words, the function which tells our model how wrong it is) and the optimizer (tells our model how to improve the patterns its learning) and evaluation metrics (what we can use the interpret the performance of the model)\n",
        ".\n",
        "3. **Fitting a model** - letting the model try to find patterns between X & Y (features and labels)."
      ],
      "metadata": {
        "id": "7hA2e6GzOrHG"
      }
    },
    {
      "cell_type": "code",
      "source": [
        "#Sets the seed\n",
        "tf.random.set_seed(42)\n",
        "\n",
        "# 1. Creating a model using the Sequential API\n",
        "#Creates a model by sequentially going through the passed through values in the list\n",
        "model = tf.keras.Sequential([\n",
        "    tf.keras.layers.Dense(1) #This is 1 because were making a model that takes in 1 number to predict 1 number\n",
        "])\n",
        "\n",
        "\n",
        "#Another way to create a model and add layers using the Sequential API\n",
        "#model = tf.keras.Sequential()\n",
        "#model.add(tf.keras.layers.Dense(1))\n",
        "\n",
        "# 2. Compile the model\n",
        "model.compile(loss=tf.keras.losses.mae, #mae is short for mean absolute error, used to see on average how wrong are our predictions\n",
        "              optimizer = tf.keras.optimizers.SGD(), # stochastic gradient descent - Tells our neural network how it should improve\n",
        "              metrics = [\"mae\"] #Uses mae as the metric\n",
        "              )\n",
        "#3. Fitting the model\n",
        "#model.fit(X, Y, epochs=5) #five iterations to figure out the patterns/relationships between X and Y\n",
        "\n",
        "#Corrected Code\n",
        "# Fit the model\n",
        "model.fit(tf.expand_dims(X, axis=-1), Y, epochs=5) # <- updated line\n",
        "#The code adds an extra dimension to X on the last axis, turning it ndim=1 to ndim=2 (what the model requires).\n",
        "\n",
        "#4. Use the model to make predictions\n",
        "#If we have a X value of 17.0, the model will predict what the Y value should be\n",
        "#Currently pur models prediction is not accurate and will need to be improved\n",
        "model.predict([17.0])"
      ],
      "metadata": {
        "id": "MyuJ-oVwOuXI",
        "colab": {
          "base_uri": "https://localhost:8080/"
        },
        "outputId": "9ab77f5c-4ed8-4d45-cf36-0f5ed443c6b5"
      },
      "execution_count": null,
      "outputs": [
        {
          "output_type": "stream",
          "name": "stdout",
          "text": [
            "Epoch 1/5\n",
            "1/1 [==============================] - 3s 3s/step - loss: 10.3447 - mae: 10.3447\n",
            "Epoch 2/5\n",
            "1/1 [==============================] - 0s 15ms/step - loss: 10.2122 - mae: 10.2122\n",
            "Epoch 3/5\n",
            "1/1 [==============================] - 0s 34ms/step - loss: 10.0797 - mae: 10.0797\n",
            "Epoch 4/5\n",
            "1/1 [==============================] - 0s 15ms/step - loss: 9.9472 - mae: 9.9472\n",
            "Epoch 5/5\n",
            "1/1 [==============================] - 0s 14ms/step - loss: 9.8147 - mae: 9.8147\n",
            "1/1 [==============================] - 0s 360ms/step\n"
          ]
        },
        {
          "output_type": "execute_result",
          "data": {
            "text/plain": [
              "array([[18.350565]], dtype=float32)"
            ]
          },
          "metadata": {},
          "execution_count": 6
        }
      ]
    },
    {
      "cell_type": "markdown",
      "source": [
        "### Imporving Our Model\n",
        "We can improve our model by altering the steps we took to create the model.\n",
        "1. **Creating A Model** - Here we might want to add more layers, increase the number of hidden units(also called neurons), within each of the hidden layers, change the activation function of each layer.\n",
        "\n",
        "2. **Compiling A Model** - Here we might change the optimization function or perhaps the **learning rate** of the optimization function.\n",
        "\n",
        "3. **Fitting A Model** - Here we might fit the model for more **epochs** (leave it training for longer) or on more data (give the model more examples to learn from)."
      ],
      "metadata": {
        "id": "jvMmb8gG9_hP"
      }
    },
    {
      "cell_type": "code",
      "source": [
        "#Rebuild the model\n",
        "\n",
        "#1. Create the model\n",
        "model = tf.keras.Sequential([\n",
        "    tf.keras.layers.Dense(50, activation = \"relu\"), #uses the relu activation function\n",
        "    tf.keras.layers.Dense(1)\n",
        "])\n",
        "\n",
        "#2. Compile the model\n",
        "model.compile(loss=tf.keras.losses.mae,\n",
        "              #optimizer=tf.keras.optimizers.SGD(),\n",
        "               optimizer=tf.keras.optimizers.Adam(learning_rate=0.1), #increased the learning rate to see if the model performs better\n",
        "\n",
        "              metrics=[\"mae\"])\n",
        "\n",
        "#3. Train the model\n",
        "model.fit(tf.expand_dims(X, axis=-1), Y, epochs=100)"
      ],
      "metadata": {
        "colab": {
          "base_uri": "https://localhost:8080/"
        },
        "id": "1S5AXV51SVqe",
        "outputId": "84585615-5e2b-4f47-c8d5-50d4d03ebff0"
      },
      "execution_count": null,
      "outputs": [
        {
          "output_type": "stream",
          "name": "stdout",
          "text": [
            "Epoch 1/100\n",
            "1/1 [==============================] - 4s 4s/step - loss: 13.7491 - mae: 13.7491\n",
            "Epoch 2/100\n",
            "1/1 [==============================] - 0s 22ms/step - loss: 8.2568 - mae: 8.2568\n",
            "Epoch 3/100\n",
            "1/1 [==============================] - 0s 19ms/step - loss: 3.8841 - mae: 3.8841\n",
            "Epoch 4/100\n",
            "1/1 [==============================] - 0s 26ms/step - loss: 6.9273 - mae: 6.9273\n",
            "Epoch 5/100\n",
            "1/1 [==============================] - 0s 25ms/step - loss: 6.9793 - mae: 6.9793\n",
            "Epoch 6/100\n",
            "1/1 [==============================] - 0s 22ms/step - loss: 5.2580 - mae: 5.2580\n",
            "Epoch 7/100\n",
            "1/1 [==============================] - 0s 22ms/step - loss: 3.6583 - mae: 3.6583\n",
            "Epoch 8/100\n",
            "1/1 [==============================] - 0s 47ms/step - loss: 4.0828 - mae: 4.0828\n",
            "Epoch 9/100\n",
            "1/1 [==============================] - 0s 29ms/step - loss: 3.9263 - mae: 3.9263\n",
            "Epoch 10/100\n",
            "1/1 [==============================] - 0s 20ms/step - loss: 2.9698 - mae: 2.9698\n",
            "Epoch 11/100\n",
            "1/1 [==============================] - 0s 25ms/step - loss: 3.3528 - mae: 3.3528\n",
            "Epoch 12/100\n",
            "1/1 [==============================] - 0s 20ms/step - loss: 3.0674 - mae: 3.0674\n",
            "Epoch 13/100\n",
            "1/1 [==============================] - 0s 21ms/step - loss: 2.1942 - mae: 2.1942\n",
            "Epoch 14/100\n",
            "1/1 [==============================] - 0s 18ms/step - loss: 2.2834 - mae: 2.2834\n",
            "Epoch 15/100\n",
            "1/1 [==============================] - 0s 17ms/step - loss: 1.4987 - mae: 1.4987\n",
            "Epoch 16/100\n",
            "1/1 [==============================] - 0s 16ms/step - loss: 1.3370 - mae: 1.3370\n",
            "Epoch 17/100\n",
            "1/1 [==============================] - 0s 16ms/step - loss: 0.8645 - mae: 0.8645\n",
            "Epoch 18/100\n",
            "1/1 [==============================] - 0s 26ms/step - loss: 1.9304 - mae: 1.9304\n",
            "Epoch 19/100\n",
            "1/1 [==============================] - 0s 27ms/step - loss: 1.3586 - mae: 1.3586\n",
            "Epoch 20/100\n",
            "1/1 [==============================] - 0s 16ms/step - loss: 1.1017 - mae: 1.1017\n",
            "Epoch 21/100\n",
            "1/1 [==============================] - 0s 28ms/step - loss: 1.0910 - mae: 1.0910\n",
            "Epoch 22/100\n",
            "1/1 [==============================] - 0s 20ms/step - loss: 1.1513 - mae: 1.1513\n",
            "Epoch 23/100\n",
            "1/1 [==============================] - 0s 22ms/step - loss: 0.9299 - mae: 0.9299\n",
            "Epoch 24/100\n",
            "1/1 [==============================] - 0s 20ms/step - loss: 0.4373 - mae: 0.4373\n",
            "Epoch 25/100\n",
            "1/1 [==============================] - 0s 29ms/step - loss: 1.2862 - mae: 1.2862\n",
            "Epoch 26/100\n",
            "1/1 [==============================] - 0s 26ms/step - loss: 1.0264 - mae: 1.0264\n",
            "Epoch 27/100\n",
            "1/1 [==============================] - 0s 22ms/step - loss: 1.4246 - mae: 1.4246\n",
            "Epoch 28/100\n",
            "1/1 [==============================] - 0s 13ms/step - loss: 1.0855 - mae: 1.0855\n",
            "Epoch 29/100\n",
            "1/1 [==============================] - 0s 18ms/step - loss: 0.9399 - mae: 0.9399\n",
            "Epoch 30/100\n",
            "1/1 [==============================] - 0s 22ms/step - loss: 1.8603 - mae: 1.8603\n",
            "Epoch 31/100\n",
            "1/1 [==============================] - 0s 15ms/step - loss: 1.4999 - mae: 1.4999\n",
            "Epoch 32/100\n",
            "1/1 [==============================] - 0s 22ms/step - loss: 0.9022 - mae: 0.9022\n",
            "Epoch 33/100\n",
            "1/1 [==============================] - 0s 18ms/step - loss: 1.0819 - mae: 1.0819\n",
            "Epoch 34/100\n",
            "1/1 [==============================] - 0s 16ms/step - loss: 0.7890 - mae: 0.7890\n",
            "Epoch 35/100\n",
            "1/1 [==============================] - 0s 18ms/step - loss: 0.7819 - mae: 0.7819\n",
            "Epoch 36/100\n",
            "1/1 [==============================] - 0s 20ms/step - loss: 0.4537 - mae: 0.4537\n",
            "Epoch 37/100\n",
            "1/1 [==============================] - 0s 17ms/step - loss: 1.1103 - mae: 1.1103\n",
            "Epoch 38/100\n",
            "1/1 [==============================] - 0s 27ms/step - loss: 1.1159 - mae: 1.1159\n",
            "Epoch 39/100\n",
            "1/1 [==============================] - 0s 27ms/step - loss: 0.6003 - mae: 0.6003\n",
            "Epoch 40/100\n",
            "1/1 [==============================] - 0s 18ms/step - loss: 0.5288 - mae: 0.5288\n",
            "Epoch 41/100\n",
            "1/1 [==============================] - 0s 16ms/step - loss: 0.6975 - mae: 0.6975\n",
            "Epoch 42/100\n",
            "1/1 [==============================] - 0s 16ms/step - loss: 0.4921 - mae: 0.4921\n",
            "Epoch 43/100\n",
            "1/1 [==============================] - 0s 23ms/step - loss: 1.4052 - mae: 1.4052\n",
            "Epoch 44/100\n",
            "1/1 [==============================] - 0s 16ms/step - loss: 1.4420 - mae: 1.4420\n",
            "Epoch 45/100\n",
            "1/1 [==============================] - 0s 25ms/step - loss: 0.9637 - mae: 0.9637\n",
            "Epoch 46/100\n",
            "1/1 [==============================] - 0s 19ms/step - loss: 1.0408 - mae: 1.0408\n",
            "Epoch 47/100\n",
            "1/1 [==============================] - 0s 22ms/step - loss: 1.4521 - mae: 1.4521\n",
            "Epoch 48/100\n",
            "1/1 [==============================] - 0s 24ms/step - loss: 0.7477 - mae: 0.7477\n",
            "Epoch 49/100\n",
            "1/1 [==============================] - 0s 15ms/step - loss: 0.8149 - mae: 0.8149\n",
            "Epoch 50/100\n",
            "1/1 [==============================] - 0s 11ms/step - loss: 1.2494 - mae: 1.2494\n",
            "Epoch 51/100\n",
            "1/1 [==============================] - 0s 10ms/step - loss: 0.7656 - mae: 0.7656\n",
            "Epoch 52/100\n",
            "1/1 [==============================] - 0s 20ms/step - loss: 0.8873 - mae: 0.8873\n",
            "Epoch 53/100\n",
            "1/1 [==============================] - 0s 16ms/step - loss: 1.0131 - mae: 1.0131\n",
            "Epoch 54/100\n",
            "1/1 [==============================] - 0s 19ms/step - loss: 0.4305 - mae: 0.4305\n",
            "Epoch 55/100\n",
            "1/1 [==============================] - 0s 16ms/step - loss: 0.9240 - mae: 0.9240\n",
            "Epoch 56/100\n",
            "1/1 [==============================] - 0s 31ms/step - loss: 1.1583 - mae: 1.1583\n",
            "Epoch 57/100\n",
            "1/1 [==============================] - 0s 18ms/step - loss: 0.6039 - mae: 0.6039\n",
            "Epoch 58/100\n",
            "1/1 [==============================] - 0s 16ms/step - loss: 0.9214 - mae: 0.9214\n",
            "Epoch 59/100\n",
            "1/1 [==============================] - 0s 19ms/step - loss: 1.2581 - mae: 1.2581\n",
            "Epoch 60/100\n",
            "1/1 [==============================] - 0s 19ms/step - loss: 0.7027 - mae: 0.7027\n",
            "Epoch 61/100\n",
            "1/1 [==============================] - 0s 19ms/step - loss: 0.7982 - mae: 0.7982\n",
            "Epoch 62/100\n",
            "1/1 [==============================] - 0s 29ms/step - loss: 1.1866 - mae: 1.1866\n",
            "Epoch 63/100\n",
            "1/1 [==============================] - 0s 35ms/step - loss: 0.8890 - mae: 0.8890\n",
            "Epoch 64/100\n",
            "1/1 [==============================] - 0s 22ms/step - loss: 0.3484 - mae: 0.3484\n",
            "Epoch 65/100\n",
            "1/1 [==============================] - 0s 15ms/step - loss: 0.4818 - mae: 0.4818\n",
            "Epoch 66/100\n",
            "1/1 [==============================] - 0s 24ms/step - loss: 0.4738 - mae: 0.4738\n",
            "Epoch 67/100\n",
            "1/1 [==============================] - 0s 30ms/step - loss: 0.2725 - mae: 0.2725\n",
            "Epoch 68/100\n",
            "1/1 [==============================] - 0s 22ms/step - loss: 0.8053 - mae: 0.8053\n",
            "Epoch 69/100\n",
            "1/1 [==============================] - 0s 31ms/step - loss: 0.9357 - mae: 0.9357\n",
            "Epoch 70/100\n",
            "1/1 [==============================] - 0s 31ms/step - loss: 0.2257 - mae: 0.2257\n",
            "Epoch 71/100\n",
            "1/1 [==============================] - 0s 24ms/step - loss: 0.2486 - mae: 0.2486\n",
            "Epoch 72/100\n",
            "1/1 [==============================] - 0s 26ms/step - loss: 0.4525 - mae: 0.4525\n",
            "Epoch 73/100\n",
            "1/1 [==============================] - 0s 30ms/step - loss: 0.3361 - mae: 0.3361\n",
            "Epoch 74/100\n",
            "1/1 [==============================] - 0s 20ms/step - loss: 0.4505 - mae: 0.4505\n",
            "Epoch 75/100\n",
            "1/1 [==============================] - 0s 32ms/step - loss: 0.2728 - mae: 0.2728\n",
            "Epoch 76/100\n",
            "1/1 [==============================] - 0s 29ms/step - loss: 0.7336 - mae: 0.7336\n",
            "Epoch 77/100\n",
            "1/1 [==============================] - 0s 22ms/step - loss: 0.7625 - mae: 0.7625\n",
            "Epoch 78/100\n",
            "1/1 [==============================] - 0s 34ms/step - loss: 0.0878 - mae: 0.0878\n",
            "Epoch 79/100\n",
            "1/1 [==============================] - 0s 25ms/step - loss: 0.8091 - mae: 0.8091\n",
            "Epoch 80/100\n",
            "1/1 [==============================] - 0s 24ms/step - loss: 0.7955 - mae: 0.7955\n",
            "Epoch 81/100\n",
            "1/1 [==============================] - 0s 18ms/step - loss: 0.1671 - mae: 0.1671\n",
            "Epoch 82/100\n",
            "1/1 [==============================] - 0s 16ms/step - loss: 1.1379 - mae: 1.1379\n",
            "Epoch 83/100\n",
            "1/1 [==============================] - 0s 37ms/step - loss: 1.3659 - mae: 1.3659\n",
            "Epoch 84/100\n",
            "1/1 [==============================] - 0s 24ms/step - loss: 0.6897 - mae: 0.6897\n",
            "Epoch 85/100\n",
            "1/1 [==============================] - 0s 24ms/step - loss: 0.7042 - mae: 0.7042\n",
            "Epoch 86/100\n",
            "1/1 [==============================] - 0s 29ms/step - loss: 1.1629 - mae: 1.1629\n",
            "Epoch 87/100\n",
            "1/1 [==============================] - 0s 25ms/step - loss: 0.8851 - mae: 0.8851\n",
            "Epoch 88/100\n",
            "1/1 [==============================] - 0s 14ms/step - loss: 0.1821 - mae: 0.1821\n",
            "Epoch 89/100\n",
            "1/1 [==============================] - 0s 13ms/step - loss: 0.4985 - mae: 0.4985\n",
            "Epoch 90/100\n",
            "1/1 [==============================] - 0s 18ms/step - loss: 0.1055 - mae: 0.1055\n",
            "Epoch 91/100\n",
            "1/1 [==============================] - 0s 27ms/step - loss: 0.9360 - mae: 0.9360\n",
            "Epoch 92/100\n",
            "1/1 [==============================] - 0s 13ms/step - loss: 1.2174 - mae: 1.2174\n",
            "Epoch 93/100\n",
            "1/1 [==============================] - 0s 19ms/step - loss: 0.7337 - mae: 0.7337\n",
            "Epoch 94/100\n",
            "1/1 [==============================] - 0s 20ms/step - loss: 0.4314 - mae: 0.4314\n",
            "Epoch 95/100\n",
            "1/1 [==============================] - 0s 19ms/step - loss: 0.7301 - mae: 0.7301\n",
            "Epoch 96/100\n",
            "1/1 [==============================] - 0s 29ms/step - loss: 0.1635 - mae: 0.1635\n",
            "Epoch 97/100\n",
            "1/1 [==============================] - 0s 11ms/step - loss: 1.1120 - mae: 1.1120\n",
            "Epoch 98/100\n",
            "1/1 [==============================] - 0s 11ms/step - loss: 1.4902 - mae: 1.4902\n",
            "Epoch 99/100\n",
            "1/1 [==============================] - 0s 9ms/step - loss: 1.1131 - mae: 1.1131\n",
            "Epoch 100/100\n",
            "1/1 [==============================] - 0s 11ms/step - loss: 0.4018 - mae: 0.4018\n"
          ]
        },
        {
          "output_type": "execute_result",
          "data": {
            "text/plain": [
              "<keras.src.callbacks.History at 0x7c937b978520>"
            ]
          },
          "metadata": {},
          "execution_count": 7
        }
      ]
    },
    {
      "cell_type": "code",
      "source": [
        "#Now lets see if our prediction is more accurate\n",
        "model.predict([17.0])"
      ],
      "metadata": {
        "colab": {
          "base_uri": "https://localhost:8080/"
        },
        "id": "Qkp499iJTpRj",
        "outputId": "2385dd51-0e2a-4f17-bb06-041d03fdc100"
      },
      "execution_count": null,
      "outputs": [
        {
          "output_type": "stream",
          "name": "stdout",
          "text": [
            "1/1 [==============================] - 0s 118ms/step\n"
          ]
        },
        {
          "output_type": "execute_result",
          "data": {
            "text/plain": [
              "array([[29.897125]], dtype=float32)"
            ]
          },
          "metadata": {},
          "execution_count": 8
        }
      ]
    },
    {
      "cell_type": "markdown",
      "source": [
        "## Evaluating A model\n",
        "A typical workflow youll go through when building a model is:\n",
        "\n",
        "```\n",
        "Build a Model -> Fit the model -> Evaluate it -> Tweak a model -> Fit it -> Evaluate it -> Tweak a model -> Fit it -> Evaluate it....\n",
        "\n",
        "It is important to visualize things when evaluating a model:\n",
        "The data- What data are we working with? What does it look like?\n",
        "The model itself- What does our model look like\n",
        "The training of a model- How does the model perform while it learns?\n",
        "The predictions of a model- How do the predictions of a model line up against the ground truth(the original labels)?\n"
      ],
      "metadata": {
        "id": "KrXmGNPGhUxo"
      }
    },
    {
      "cell_type": "code",
      "source": [
        "#Make a bigger dataset\n",
        "#In a increment of four gets all numbers between -100 to 100\n",
        "X = tf.range(-100, 100, 4)\n",
        "\n",
        "#Make labels for the dataset\n",
        "Y = X+10  # X+10 is the formula we want the model to learn\n",
        "\n",
        "#Visulizes the data\n",
        "plt.scatter(X, Y)"
      ],
      "metadata": {
        "colab": {
          "base_uri": "https://localhost:8080/",
          "height": 447
        },
        "id": "bdhBWhOzkkqk",
        "outputId": "c93b8439-e428-4f30-9175-909a7f687aba"
      },
      "execution_count": null,
      "outputs": [
        {
          "output_type": "execute_result",
          "data": {
            "text/plain": [
              "<matplotlib.collections.PathCollection at 0x7c9360196bc0>"
            ]
          },
          "metadata": {},
          "execution_count": 9
        },
        {
          "output_type": "display_data",
          "data": {
            "text/plain": [
              "<Figure size 640x480 with 1 Axes>"
            ],
            "image/png": "[encoded data removed]"
          },
          "metadata": {}
        }
      ]
    },
    {
      "cell_type": "markdown",
      "source": [
        "### 3 Sets\n",
        "**Training Set** - The model learns from this data and is typically 70-80% of the total data you have avaliable.\n",
        "\n",
        "**Validation Set** - The model gets fine tuned on this dataset. Youll test how the tweaks effect the models performance with the validation set. Typically 10-15% of te data avaliable.\n",
        "\n",
        "**Test Set** - The model gets evaluated on this dataset to test what it has learned. This set is typically 10-15% of the total data avaliable.\n",
        "\n",
        "The validation set is optinal in some cases but the training and test sets are mandatory."
      ],
      "metadata": {
        "id": "k8SiZP4JziGB"
      }
    },
    {
      "cell_type": "code",
      "source": [
        "#Check the length of the original dataset before splitting it up into sets\n",
        "print(len(X))\n",
        "\n",
        "#Split the data into train and test sets\n",
        "X_train = X[:40] #80% of the data\n",
        "Y_train = Y[:40]\n",
        "X_test = X[40:] #The last 10 are teting samples (20% of the data)\n",
        "Y_test = Y[40:]\n",
        "\n"
      ],
      "metadata": {
        "colab": {
          "base_uri": "https://localhost:8080/"
        },
        "id": "Ml7AkIXK2SfX",
        "outputId": "0264f726-d5a8-4feb-b018-48efdddaa694"
      },
      "execution_count": null,
      "outputs": [
        {
          "output_type": "stream",
          "name": "stdout",
          "text": [
            "50\n"
          ]
        }
      ]
    },
    {
      "cell_type": "markdown",
      "source": [
        "### Visualizing the New Datasets"
      ],
      "metadata": {
        "id": "RRTFVeZ04FC0"
      }
    },
    {
      "cell_type": "code",
      "source": [
        "plt.figure(figsize=(10, 7))\n",
        "\n",
        "#Plots the x and y training data in blue\n",
        "plt.scatter(X_train, Y_train, c=\"b\", label=\"Training Data\")\n",
        "#Plots the x and y testing data in green\n",
        "plt.scatter(X_test, Y_test, c=\"g\", label=\"Testing Data\")\n",
        "#Shows a legend that contains the label and associated data\n",
        "plt.legend();\n"
      ],
      "metadata": {
        "colab": {
          "base_uri": "https://localhost:8080/",
          "height": 599
        },
        "id": "6wudxMHq4J0a",
        "outputId": "4fdf4530-aaae-4c7f-a49e-659cb56dcc8a"
      },
      "execution_count": null,
      "outputs": [
        {
          "output_type": "display_data",
          "data": {
            "text/plain": [
              "<Figure size 1000x700 with 1 Axes>"
            ],
            "image/png": "[encoded data removed]"
          },
          "metadata": {}
        }
      ]
    },
    {
      "cell_type": "markdown",
      "source": [
        "### Create a Neural network for the data to figureout the correlation between X and Y"
      ],
      "metadata": {
        "id": "7Mv0zAh86kRh"
      }
    },
    {
      "cell_type": "code",
      "source": [
        "#Creating my neural network\n",
        "model = tf.keras.Sequential([\n",
        "    tf.keras.layers.Dense(1) #One hidden layer because we are using one x value to predict one y value\n",
        "])\n",
        "\n",
        "model.compile( loss = tf.keras.losses.mae,\n",
        "              optimizer = tf.keras.optimizers.Adam(learning_rate= 0.01),\n",
        "               metrics = [\"mae\"]\n",
        ")\n",
        "\n",
        "#model.fit(X_train, Y_train, epochs=100)\n",
        "\n",
        "#model.summary()\n",
        "\n",
        "#model.predict(X_test, Y_test)"
      ],
      "metadata": {
        "id": "RjilLgRE6tI3"
      },
      "execution_count": null,
      "outputs": []
    },
    {
      "cell_type": "code",
      "source": [
        "#Used to build a model based on the input shape recieved. Used as a substitute for calling a model on real data to build it\n",
        "#model.build()\n",
        "\n",
        "\n",
        "#Lets create a model that builds automatically by defining the inputshape in the first layer\n",
        "tf.random.set_seed(42) #Used for reproducible results\n",
        "\n",
        "model = tf.keras.Sequential([\n",
        "    tf.keras.layers.Dense(1, input_shape = [1], name=\"Input_Layer\"), #One hidden layer because we are using one x value to predict one y value\n",
        "    #The input shape is 1 because we are passing through one number from the tensor.\n",
        "    tf.keras.layers.Dense(1, name=\"Output_Layer\")\n",
        "], name=\"The_first_of_many_models_that_will_be_built\")\n",
        "\n",
        "model.compile( loss = tf.keras.losses.mae,\n",
        "              optimizer = tf.keras.optimizers.SGD(),\n",
        "               metrics = [\"mae\"]\n",
        ")\n",
        "\n",
        "#Now model.summary will work before we fit the model since the input_shape is specified (The model knows what its input will be before encountering the data)\n",
        "model.summary()\n",
        "\n",
        "#Trains the model on the training data\n",
        "model.fit(X_train, Y_train, epochs=100, verbose=0) #Stops the fitting process from outputing anything"
      ],
      "metadata": {
        "colab": {
          "base_uri": "https://localhost:8080/"
        },
        "id": "PO5X9iTASOXb",
        "outputId": "dd9daf34-51cb-430e-8b4d-8d6e7db8e24c"
      },
      "execution_count": null,
      "outputs": [
        {
          "output_type": "stream",
          "name": "stdout",
          "text": [
            "Model: \"The_first_of_many_models_that_will_be_built\"\n",
            "_________________________________________________________________\n",
            " Layer (type)                Output Shape              Param #   \n",
            "=================================================================\n",
            " Input_Layer (Dense)         (None, 1)                 2         \n",
            "                                                                 \n",
            " Output_Layer (Dense)        (None, 1)                 2         \n",
            "                                                                 \n",
            "=================================================================\n",
            "Total params: 4 (16.00 Byte)\n",
            "Trainable params: 4 (16.00 Byte)\n",
            "Non-trainable params: 0 (0.00 Byte)\n",
            "_________________________________________________________________\n"
          ]
        },
        {
          "output_type": "execute_result",
          "data": {
            "text/plain": [
              "<keras.src.callbacks.History at 0x7c93600992a0>"
            ]
          },
          "metadata": {},
          "execution_count": 13
        }
      ]
    },
    {
      "cell_type": "markdown",
      "source": [
        "* Total params - Total number of parameters in the model.\n",
        "* Trainable params- These are the parameters(patterns) that the model can update as it trains.\n",
        "* Non- Trainable params - These paramters arent updated during training (this is typical when you bring in already learned patterns or parameters from other models during **Transfer Learning**)"
      ],
      "metadata": {
        "id": "TDtWrf8mfrm1"
      }
    },
    {
      "cell_type": "code",
      "source": [
        "model.summary()\n",
        "\n",
        "from tensorflow.keras.utils import plot_model\n",
        "\n",
        "plot_model(model=model, show_shapes=True)\n",
        "#to_file='model_name.png'   saves the plot as an image"
      ],
      "metadata": {
        "colab": {
          "base_uri": "https://localhost:8080/",
          "height": 538
        },
        "id": "pygem7uYCEjj",
        "outputId": "8548fc50-f897-4ca6-d78e-88460bcaedb6"
      },
      "execution_count": null,
      "outputs": [
        {
          "output_type": "stream",
          "name": "stdout",
          "text": [
            "Model: \"The_first_of_many_models_that_will_be_built\"\n",
            "_________________________________________________________________\n",
            " Layer (type)                Output Shape              Param #   \n",
            "=================================================================\n",
            " Input_Layer (Dense)         (None, 1)                 2         \n",
            "                                                                 \n",
            " Output_Layer (Dense)        (None, 1)                 2         \n",
            "                                                                 \n",
            "=================================================================\n",
            "Total params: 4 (16.00 Byte)\n",
            "Trainable params: 4 (16.00 Byte)\n",
            "Non-trainable params: 0 (0.00 Byte)\n",
            "_________________________________________________________________\n"
          ]
        },
        {
          "output_type": "execute_result",
          "data": {
            "image/png": "[encoded data removed]",
            "text/plain": [
              "<IPython.core.display.Image object>"
            ]
          },
          "metadata": {},
          "execution_count": 14
        }
      ]
    },
    {
      "cell_type": "markdown",
      "source": [
        "### Visualizing our Models Prediction\n",
        "When visualizing our models predictions its a good idea to plot them against the ground truth labels.\n",
        "\n",
        "Often, youll see this in the form of `y_test` or `y_true` versus `y_pred`(ground truth versus your models predictions)"
      ],
      "metadata": {
        "id": "dsGXrfzHKmpz"
      }
    },
    {
      "cell_type": "code",
      "source": [
        "y_pred = model.predict(X_test)\n",
        "y_pred"
      ],
      "metadata": {
        "colab": {
          "base_uri": "https://localhost:8080/"
        },
        "id": "oa_JaeaeLk9P",
        "outputId": "d158b7d4-1482-4709-b3d0-43115ef0a889"
      },
      "execution_count": null,
      "outputs": [
        {
          "output_type": "stream",
          "name": "stdout",
          "text": [
            "1/1 [==============================] - 0s 222ms/step\n"
          ]
        },
        {
          "output_type": "execute_result",
          "data": {
            "text/plain": [
              "array([[ 69.51578 ],\n",
              "       [ 74.03423 ],\n",
              "       [ 78.55269 ],\n",
              "       [ 83.071144],\n",
              "       [ 87.5896  ],\n",
              "       [ 92.108055],\n",
              "       [ 96.62652 ],\n",
              "       [101.14497 ],\n",
              "       [105.66343 ],\n",
              "       [110.18189 ]], dtype=float32)"
            ]
          },
          "metadata": {},
          "execution_count": 15
        }
      ]
    },
    {
      "cell_type": "markdown",
      "source": [
        "If you feel like your going to reuse some sort of functionality in the future its a good idea to create a function."
      ],
      "metadata": {
        "id": "94EjHbkHPjOS"
      }
    },
    {
      "cell_type": "code",
      "source": [
        "def plot_predictions(train_data=X_train, train_labels=Y_train, test_data=X_test, test_labels=Y_test, predictions=y_pred):\n",
        "     #Plots training data, test data and compares predictions to ground truth labels\n",
        "     plt.figure(figsize=(10,7))\n",
        "     #Plot training data in blue\n",
        "     plt.scatter(train_data, train_labels, c=\"b\", label=\"Training Data\")\n",
        "     #Plot testing data in green\n",
        "     plt.scatter(test_data, test_labels, c=\"g\", label=\"Testing Data\")\n",
        "     #plot predictions in red\n",
        "     plt.scatter(test_data, predictions, c=\"r\", label=\"Predictions\")\n",
        "     plt.legend();\n"
      ],
      "metadata": {
        "id": "RLVTaJ6JPqc5"
      },
      "execution_count": null,
      "outputs": []
    },
    {
      "cell_type": "code",
      "source": [
        "plot_predictions(train_data=X_train, train_labels=Y_train, test_data=X_test, test_labels=Y_test, predictions=y_pred)"
      ],
      "metadata": {
        "colab": {
          "base_uri": "https://localhost:8080/",
          "height": 599
        },
        "id": "NlLwLawsRx8z",
        "outputId": "9a132ce6-0e3b-496f-a272-0bfcad3e4297"
      },
      "execution_count": null,
      "outputs": [
        {
          "output_type": "display_data",
          "data": {
            "text/plain": [
              "<Figure size 1000x700 with 1 Axes>"
            ],
            "image/png": "[encoded data removed]"
          },
          "metadata": {}
        }
      ]
    },
    {
      "cell_type": "markdown",
      "source": [
        "### Evaluating our Model with regression evaluation metrics\n",
        "\n",
        "Depending on the problem your working on, there will be different evaluation metrics to evaluate your models performance.\n",
        "\n",
        "Since we're working on regression two of the main metrics are:\n",
        "* MAE- Mean Absolute Error- On average, how wrong are my models predictions.\n",
        "*MSE-Mean Square Error- Take the errors from the models predictions, square them and then find the average.\n"
      ],
      "metadata": {
        "id": "LeaBL3VMhgvv"
      }
    },
    {
      "cell_type": "code",
      "source": [
        "model.evaluate(X_test, Y_test)\n"
      ],
      "metadata": {
        "colab": {
          "base_uri": "https://localhost:8080/"
        },
        "id": "NMKO8cQ4q_E5",
        "outputId": "41ea4996-f32b-4667-cdfc-4a74929a8df1"
      },
      "execution_count": null,
      "outputs": [
        {
          "output_type": "stream",
          "name": "stdout",
          "text": [
            "1/1 [==============================] - 0s 484ms/step - loss: 1.9457 - mae: 1.9457\n"
          ]
        },
        {
          "output_type": "execute_result",
          "data": {
            "text/plain": [
              "[1.9456756114959717, 1.9456756114959717]"
            ]
          },
          "metadata": {},
          "execution_count": 18
        }
      ]
    },
    {
      "cell_type": "markdown",
      "source": [
        "### Calculating The Mean Absolute Error"
      ],
      "metadata": {
        "id": "jxp85eF56HyD"
      }
    },
    {
      "cell_type": "code",
      "source": [
        "#Calculate the mean absolute error manually\n",
        "mae = tf.metrics.mean_absolute_error(y_true=Y_test, y_pred=y_pred)\n",
        "print(mae) #We obtain a metric for each of our test labels and predictions\n",
        "#If we ever want to comapare tensors they need to be in the same format/shape so that we can properly perform the dot product."
      ],
      "metadata": {
        "colab": {
          "base_uri": "https://localhost:8080/"
        },
        "id": "a1TYiprU4GSB",
        "outputId": "146f5ef9-7640-484d-95c6-3b6b0020c92f"
      },
      "execution_count": null,
      "outputs": [
        {
          "output_type": "stream",
          "name": "stdout",
          "text": [
            "tf.Tensor(\n",
            "[18.484222 14.77946  12.178925 10.585772 10.       10.421611 11.850607\n",
            " 14.286984 17.730743 22.181892], shape=(10,), dtype=float32)\n"
          ]
        }
      ]
    },
    {
      "cell_type": "code",
      "source": [
        "#We use tf.squeeze to remove the 1 dim in y_pred shape so that the mean absolute error can be calculated properly\n",
        "mae = tf.metrics.mean_absolute_error(y_true=Y_test, y_pred=tf.squeeze(y_pred))\n",
        "print(mae)"
      ],
      "metadata": {
        "colab": {
          "base_uri": "https://localhost:8080/"
        },
        "id": "XoMB9qbF5tjq",
        "outputId": "150b3caa-e1aa-4ec2-9413-d9f85037fa5b"
      },
      "execution_count": null,
      "outputs": [
        {
          "output_type": "stream",
          "name": "stdout",
          "text": [
            "tf.Tensor(1.9456756, shape=(), dtype=float32)\n"
          ]
        }
      ]
    },
    {
      "cell_type": "markdown",
      "source": [
        "### Calculating the Mean Square Error"
      ],
      "metadata": {
        "id": "RuxsQ8kT6Mt6"
      }
    },
    {
      "cell_type": "code",
      "source": [
        "#Calculate the Mean Square Error\n",
        "mse = tf.metrics.mean_squared_error(y_true=Y_test, y_pred=tf.squeeze(y_pred))\n",
        "print(mse)"
      ],
      "metadata": {
        "colab": {
          "base_uri": "https://localhost:8080/"
        },
        "id": "G6NuI72M6GDF",
        "outputId": "b8b440b8-0bff-4e1b-eaf0-b11bd088bf87"
      },
      "execution_count": null,
      "outputs": [
        {
          "output_type": "stream",
          "name": "stdout",
          "text": [
            "tf.Tensor(5.635758, shape=(), dtype=float32)\n"
          ]
        }
      ]
    },
    {
      "cell_type": "code",
      "source": [
        "#A Function thats used to predict MSE and MAE\n",
        "def predict_mae_mse(y_true, y_pred):\n",
        "    mae =tf.metrics.mean_absolute_error(y_true=y_true, y_pred=tf.squeeze(y_pred))\n",
        "    mse = tf.metrics.mean_squared_error(y_true=y_true, y_pred=tf.squeeze(y_pred))\n",
        "    return(\"Mean Absolute Error: \",mae, \"Mean Squared Error: \",mse)\n",
        "\n",
        "def mae(y_true, y_pred):\n",
        "      return tf.metrics.mean_absolute_error(y_true=y_true, y_pred=tf.squeeze(y_pred))\n",
        "\n",
        "def mse(y_true, y_pred):\n",
        "        return tf.metrics.mean_squared_error(y_true=y_true, y_pred=tf.squeeze(y_pred))"
      ],
      "metadata": {
        "id": "Si5yBOYR9xua"
      },
      "execution_count": null,
      "outputs": []
    },
    {
      "cell_type": "code",
      "source": [
        "print(predict_mae_mse(Y_test,tf.squeeze(y_pred)))"
      ],
      "metadata": {
        "colab": {
          "base_uri": "https://localhost:8080/"
        },
        "id": "pdRRq44399FW",
        "outputId": "143ff4e0-e540-4675-ed0c-a0960a5e3ddc"
      },
      "execution_count": null,
      "outputs": [
        {
          "output_type": "stream",
          "name": "stdout",
          "text": [
            "('Mean Absolute Error: ', <tf.Tensor: shape=(), dtype=float32, numpy=1.9456756>, 'Mean Squared Error: ', <tf.Tensor: shape=(), dtype=float32, numpy=5.635758>)\n"
          ]
        }
      ]
    },
    {
      "cell_type": "markdown",
      "source": [
        "### Running Experiments to improve our model\n",
        "1. Get more data- get more examples for your model to train on (more opprotunities to learn patterns or relationships between features and labels)\n",
        "2. Make your model larger (using a more complex model) - this might come in the form of more layers or more hidden units in each layer.\n",
        "3. Train for longer- give your model more of a chance to find patterns in the data.\n",
        "\n",
        "Lets do 3 modeling experiments:\n",
        "`model_1`- same as original model, 1 layer trained for 100 epochs.\n",
        "`model_2` - 2 layers, trained for 100 epochs.\n",
        "`model_3` - 2 layers, trained for 500 epochs.\n",
        "\n",
        "**Build `model_1`**"
      ],
      "metadata": {
        "id": "Nw0Jwvp2_pOb"
      }
    },
    {
      "cell_type": "code",
      "source": [
        "\n",
        "\n",
        "#Set the random seed for as much reproducability as possible\n",
        "tf.random.set_seed(42)\n",
        "\n",
        "model_1 = tf.keras.Sequential([\n",
        "    tf.keras.layers.Dense(1, input_shape=[1], name=\"Input_Layer\")\n",
        "], name=\"model_1\")\n",
        "\n",
        "model_1.compile(loss=tf.keras.losses.mae,\n",
        "                optimizer = tf.keras.optimizers.SGD(),\n",
        "                metrics = [\"mae\"]\n",
        "                )\n",
        "model_1.fit(X_train, Y_train, epochs=100)"
      ],
      "metadata": {
        "colab": {
          "base_uri": "https://localhost:8080/"
        },
        "id": "ev5jlLRs_say",
        "outputId": "2243c1e5-8401-46a0-bc42-b502351b81bb"
      },
      "execution_count": null,
      "outputs": [
        {
          "output_type": "stream",
          "name": "stdout",
          "text": [
            "Epoch 1/100\n",
            "2/2 [==============================] - 0s 21ms/step - loss: 103.5700 - mae: 103.5700\n",
            "Epoch 2/100\n",
            "2/2 [==============================] - 0s 11ms/step - loss: 68.1145 - mae: 68.1145\n",
            "Epoch 3/100\n",
            "2/2 [==============================] - 0s 9ms/step - loss: 30.7038 - mae: 30.7038\n",
            "Epoch 4/100\n",
            "2/2 [==============================] - 0s 11ms/step - loss: 9.9056 - mae: 9.9056\n",
            "Epoch 5/100\n",
            "2/2 [==============================] - 0s 7ms/step - loss: 10.8607 - mae: 10.8607\n",
            "Epoch 6/100\n",
            "2/2 [==============================] - 0s 9ms/step - loss: 10.0447 - mae: 10.0447\n",
            "Epoch 7/100\n",
            "2/2 [==============================] - 0s 6ms/step - loss: 9.0881 - mae: 9.0881\n",
            "Epoch 8/100\n",
            "2/2 [==============================] - 0s 7ms/step - loss: 9.1168 - mae: 9.1168\n",
            "Epoch 9/100\n",
            "2/2 [==============================] - 0s 8ms/step - loss: 19.9911 - mae: 19.9911\n",
            "Epoch 10/100\n",
            "2/2 [==============================] - 0s 6ms/step - loss: 10.8252 - mae: 10.8252\n",
            "Epoch 11/100\n",
            "2/2 [==============================] - 0s 6ms/step - loss: 8.7105 - mae: 8.7105\n",
            "Epoch 12/100\n",
            "2/2 [==============================] - 0s 7ms/step - loss: 9.6912 - mae: 9.6912\n",
            "Epoch 13/100\n",
            "2/2 [==============================] - 0s 6ms/step - loss: 13.0745 - mae: 13.0745\n",
            "Epoch 14/100\n",
            "2/2 [==============================] - 0s 7ms/step - loss: 14.1616 - mae: 14.1616\n",
            "Epoch 15/100\n",
            "2/2 [==============================] - 0s 7ms/step - loss: 11.5649 - mae: 11.5649\n",
            "Epoch 16/100\n",
            "2/2 [==============================] - 0s 6ms/step - loss: 8.5296 - mae: 8.5296\n",
            "Epoch 17/100\n",
            "2/2 [==============================] - 0s 6ms/step - loss: 13.5774 - mae: 13.5774\n",
            "Epoch 18/100\n",
            "2/2 [==============================] - 0s 7ms/step - loss: 11.3829 - mae: 11.3829\n",
            "Epoch 19/100\n",
            "2/2 [==============================] - 0s 8ms/step - loss: 18.0741 - mae: 18.0741\n",
            "Epoch 20/100\n",
            "2/2 [==============================] - 0s 6ms/step - loss: 15.2076 - mae: 15.2076\n",
            "Epoch 21/100\n",
            "2/2 [==============================] - 0s 6ms/step - loss: 11.1615 - mae: 11.1615\n",
            "Epoch 22/100\n",
            "2/2 [==============================] - 0s 7ms/step - loss: 8.2889 - mae: 8.2889\n",
            "Epoch 23/100\n",
            "2/2 [==============================] - 0s 7ms/step - loss: 9.4711 - mae: 9.4711\n",
            "Epoch 24/100\n",
            "2/2 [==============================] - 0s 7ms/step - loss: 7.7199 - mae: 7.7199\n",
            "Epoch 25/100\n",
            "2/2 [==============================] - 0s 11ms/step - loss: 13.0269 - mae: 13.0269\n",
            "Epoch 26/100\n",
            "2/2 [==============================] - 0s 9ms/step - loss: 16.5770 - mae: 16.5770\n",
            "Epoch 27/100\n",
            "2/2 [==============================] - 0s 7ms/step - loss: 13.3014 - mae: 13.3014\n",
            "Epoch 28/100\n",
            "2/2 [==============================] - 0s 8ms/step - loss: 14.4231 - mae: 14.4231\n",
            "Epoch 29/100\n",
            "2/2 [==============================] - 0s 7ms/step - loss: 10.1378 - mae: 10.1378\n",
            "Epoch 30/100\n",
            "2/2 [==============================] - 0s 7ms/step - loss: 16.5706 - mae: 16.5706\n",
            "Epoch 31/100\n",
            "2/2 [==============================] - 0s 7ms/step - loss: 23.4606 - mae: 23.4606\n",
            "Epoch 32/100\n",
            "2/2 [==============================] - 0s 7ms/step - loss: 7.3982 - mae: 7.3982\n",
            "Epoch 33/100\n",
            "2/2 [==============================] - 0s 7ms/step - loss: 9.8275 - mae: 9.8275\n",
            "Epoch 34/100\n",
            "2/2 [==============================] - 0s 6ms/step - loss: 12.2710 - mae: 12.2710\n",
            "Epoch 35/100\n",
            "2/2 [==============================] - 0s 7ms/step - loss: 11.2000 - mae: 11.2000\n",
            "Epoch 36/100\n",
            "2/2 [==============================] - 0s 7ms/step - loss: 13.4294 - mae: 13.4294\n",
            "Epoch 37/100\n",
            "2/2 [==============================] - 0s 6ms/step - loss: 9.4734 - mae: 9.4734\n",
            "Epoch 38/100\n",
            "2/2 [==============================] - 0s 6ms/step - loss: 10.1251 - mae: 10.1251\n",
            "Epoch 39/100\n",
            "2/2 [==============================] - 0s 7ms/step - loss: 9.0010 - mae: 9.0010\n",
            "Epoch 40/100\n",
            "2/2 [==============================] - 0s 6ms/step - loss: 9.6301 - mae: 9.6301\n",
            "Epoch 41/100\n",
            "2/2 [==============================] - 0s 6ms/step - loss: 10.5894 - mae: 10.5894\n",
            "Epoch 42/100\n",
            "2/2 [==============================] - 0s 7ms/step - loss: 10.6429 - mae: 10.6429\n",
            "Epoch 43/100\n",
            "2/2 [==============================] - 0s 7ms/step - loss: 7.2413 - mae: 7.2413\n",
            "Epoch 44/100\n",
            "2/2 [==============================] - 0s 7ms/step - loss: 8.0418 - mae: 8.0418\n",
            "Epoch 45/100\n",
            "2/2 [==============================] - 0s 6ms/step - loss: 9.8443 - mae: 9.8443\n",
            "Epoch 46/100\n",
            "2/2 [==============================] - 0s 9ms/step - loss: 8.9227 - mae: 8.9227\n",
            "Epoch 47/100\n",
            "2/2 [==============================] - 0s 6ms/step - loss: 7.5975 - mae: 7.5975\n",
            "Epoch 48/100\n",
            "2/2 [==============================] - 0s 6ms/step - loss: 8.5658 - mae: 8.5658\n",
            "Epoch 49/100\n",
            "2/2 [==============================] - 0s 9ms/step - loss: 10.0553 - mae: 10.0553\n",
            "Epoch 50/100\n",
            "2/2 [==============================] - 0s 7ms/step - loss: 9.0123 - mae: 9.0123\n",
            "Epoch 51/100\n",
            "2/2 [==============================] - 0s 8ms/step - loss: 10.7312 - mae: 10.7312\n",
            "Epoch 52/100\n",
            "2/2 [==============================] - 0s 7ms/step - loss: 15.2894 - mae: 15.2894\n",
            "Epoch 53/100\n",
            "2/2 [==============================] - 0s 7ms/step - loss: 14.3159 - mae: 14.3159\n",
            "Epoch 54/100\n",
            "2/2 [==============================] - 0s 8ms/step - loss: 21.5675 - mae: 21.5675\n",
            "Epoch 55/100\n",
            "2/2 [==============================] - 0s 9ms/step - loss: 16.0557 - mae: 16.0557\n",
            "Epoch 56/100\n",
            "2/2 [==============================] - 0s 8ms/step - loss: 10.2727 - mae: 10.2727\n",
            "Epoch 57/100\n",
            "2/2 [==============================] - 0s 7ms/step - loss: 9.8201 - mae: 9.8201\n",
            "Epoch 58/100\n",
            "2/2 [==============================] - 0s 7ms/step - loss: 9.1038 - mae: 9.1038\n",
            "Epoch 59/100\n",
            "2/2 [==============================] - 0s 7ms/step - loss: 8.3043 - mae: 8.3043\n",
            "Epoch 60/100\n",
            "2/2 [==============================] - 0s 7ms/step - loss: 9.4005 - mae: 9.4005\n",
            "Epoch 61/100\n",
            "2/2 [==============================] - 0s 7ms/step - loss: 11.2273 - mae: 11.2273\n",
            "Epoch 62/100\n",
            "2/2 [==============================] - 0s 7ms/step - loss: 12.0603 - mae: 12.0603\n",
            "Epoch 63/100\n",
            "2/2 [==============================] - 0s 7ms/step - loss: 7.2994 - mae: 7.2994\n",
            "Epoch 64/100\n",
            "2/2 [==============================] - 0s 7ms/step - loss: 12.4812 - mae: 12.4812\n",
            "Epoch 65/100\n",
            "2/2 [==============================] - 0s 7ms/step - loss: 10.5632 - mae: 10.5632\n",
            "Epoch 66/100\n",
            "2/2 [==============================] - 0s 6ms/step - loss: 15.5908 - mae: 15.5908\n",
            "Epoch 67/100\n",
            "2/2 [==============================] - 0s 7ms/step - loss: 10.0079 - mae: 10.0079\n",
            "Epoch 68/100\n",
            "2/2 [==============================] - 0s 7ms/step - loss: 8.7375 - mae: 8.7375\n",
            "Epoch 69/100\n",
            "2/2 [==============================] - 0s 7ms/step - loss: 13.4691 - mae: 13.4691\n",
            "Epoch 70/100\n",
            "2/2 [==============================] - 0s 7ms/step - loss: 7.4990 - mae: 7.4990\n",
            "Epoch 71/100\n",
            "2/2 [==============================] - 0s 7ms/step - loss: 12.2900 - mae: 12.2900\n",
            "Epoch 72/100\n",
            "2/2 [==============================] - 0s 7ms/step - loss: 8.5374 - mae: 8.5374\n",
            "Epoch 73/100\n",
            "2/2 [==============================] - 0s 7ms/step - loss: 7.0653 - mae: 7.0653\n",
            "Epoch 74/100\n",
            "2/2 [==============================] - 0s 7ms/step - loss: 9.9148 - mae: 9.9148\n",
            "Epoch 75/100\n",
            "2/2 [==============================] - 0s 7ms/step - loss: 9.9889 - mae: 9.9889\n",
            "Epoch 76/100\n",
            "2/2 [==============================] - 0s 7ms/step - loss: 10.1494 - mae: 10.1494\n",
            "Epoch 77/100\n",
            "2/2 [==============================] - 0s 7ms/step - loss: 13.0162 - mae: 13.0162\n",
            "Epoch 78/100\n",
            "2/2 [==============================] - 0s 7ms/step - loss: 10.9187 - mae: 10.9187\n",
            "Epoch 79/100\n",
            "2/2 [==============================] - 0s 7ms/step - loss: 15.3911 - mae: 15.3911\n",
            "Epoch 80/100\n",
            "2/2 [==============================] - 0s 7ms/step - loss: 11.7617 - mae: 11.7617\n",
            "Epoch 81/100\n",
            "2/2 [==============================] - 0s 7ms/step - loss: 9.2690 - mae: 9.2690\n",
            "Epoch 82/100\n",
            "2/2 [==============================] - 0s 7ms/step - loss: 12.7564 - mae: 12.7564\n",
            "Epoch 83/100\n",
            "2/2 [==============================] - 0s 7ms/step - loss: 8.3126 - mae: 8.3126\n",
            "Epoch 84/100\n",
            "2/2 [==============================] - 0s 7ms/step - loss: 7.3326 - mae: 7.3326\n",
            "Epoch 85/100\n",
            "2/2 [==============================] - 0s 7ms/step - loss: 10.4878 - mae: 10.4878\n",
            "Epoch 86/100\n",
            "2/2 [==============================] - 0s 8ms/step - loss: 9.1631 - mae: 9.1631\n",
            "Epoch 87/100\n",
            "2/2 [==============================] - 0s 11ms/step - loss: 11.8692 - mae: 11.8692\n",
            "Epoch 88/100\n",
            "2/2 [==============================] - 0s 8ms/step - loss: 10.4799 - mae: 10.4799\n",
            "Epoch 89/100\n",
            "2/2 [==============================] - 0s 10ms/step - loss: 6.9981 - mae: 6.9981\n",
            "Epoch 90/100\n",
            "2/2 [==============================] - 0s 7ms/step - loss: 13.8024 - mae: 13.8024\n",
            "Epoch 91/100\n",
            "2/2 [==============================] - 0s 7ms/step - loss: 7.8899 - mae: 7.8899\n",
            "Epoch 92/100\n",
            "2/2 [==============================] - 0s 7ms/step - loss: 7.9422 - mae: 7.9422\n",
            "Epoch 93/100\n",
            "2/2 [==============================] - 0s 8ms/step - loss: 9.4383 - mae: 9.4383\n",
            "Epoch 94/100\n",
            "2/2 [==============================] - 0s 7ms/step - loss: 8.7589 - mae: 8.7589\n",
            "Epoch 95/100\n",
            "2/2 [==============================] - 0s 8ms/step - loss: 9.8760 - mae: 9.8760\n",
            "Epoch 96/100\n",
            "2/2 [==============================] - 0s 7ms/step - loss: 7.3678 - mae: 7.3678\n",
            "Epoch 97/100\n",
            "2/2 [==============================] - 0s 7ms/step - loss: 6.8828 - mae: 6.8828\n",
            "Epoch 98/100\n",
            "2/2 [==============================] - 0s 7ms/step - loss: 7.2758 - mae: 7.2758\n",
            "Epoch 99/100\n",
            "2/2 [==============================] - 0s 6ms/step - loss: 7.4282 - mae: 7.4282\n",
            "Epoch 100/100\n",
            "2/2 [==============================] - 0s 7ms/step - loss: 11.1285 - mae: 11.1285\n"
          ]
        },
        {
          "output_type": "execute_result",
          "data": {
            "text/plain": [
              "<keras.src.callbacks.History at 0x7c9349f97a00>"
            ]
          },
          "metadata": {},
          "execution_count": 24
        }
      ]
    },
    {
      "cell_type": "code",
      "source": [
        "#Make and plot predictions with model_1\n",
        "#Using the test data since the model has never seen it before and we want to see how well it performs on unseen data\n",
        "y_preds_model_1 = model_1.predict(X_test)\n",
        "plot_predictions(predictions= y_preds_model_1)"
      ],
      "metadata": {
        "colab": {
          "base_uri": "https://localhost:8080/",
          "height": 616
        },
        "id": "a-BeaMlWHP0-",
        "outputId": "a7f86c09-1810-40a8-cdac-43f8400a96d5"
      },
      "execution_count": null,
      "outputs": [
        {
          "output_type": "stream",
          "name": "stdout",
          "text": [
            "1/1 [==============================] - 0s 41ms/step\n"
          ]
        },
        {
          "output_type": "display_data",
          "data": {
            "text/plain": [
              "<Figure size 1000x700 with 1 Axes>"
            ],
            "image/png": "[encoded data removed]"
          },
          "metadata": {}
        }
      ]
    },
    {
      "cell_type": "code",
      "source": [
        "#Calculate model_1 evaluation metrics:\n",
        "mae_1 = mae(Y_test, y_preds_model_1)\n",
        "mse_1 = mse(Y_test, y_preds_model_1)\n",
        "print(\"Mean Absolute Error of model_1: \", mae_1, \"Mean Squared Error of model_1: \", mse_1)"
      ],
      "metadata": {
        "colab": {
          "base_uri": "https://localhost:8080/"
        },
        "id": "RNbZUkn_IW0h",
        "outputId": "5baff7dc-05f9-42ba-b791-2e587fb3d979"
      },
      "execution_count": null,
      "outputs": [
        {
          "output_type": "stream",
          "name": "stdout",
          "text": [
            "Mean Absolute Error of model_1:  tf.Tensor(21.348328, shape=(), dtype=float32) Mean Squared Error of model_1:  tf.Tensor(459.20874, shape=(), dtype=float32)\n"
          ]
        }
      ]
    },
    {
      "cell_type": "markdown",
      "source": [
        "**Build `model_2`**  - 2 dense layers, trained for 100 epochs"
      ],
      "metadata": {
        "id": "hO2O4MKnKVxN"
      }
    },
    {
      "cell_type": "code",
      "source": [
        "tf.random.set_seed(42)\n",
        "\n",
        "model_2 = tf.keras.Sequential([\n",
        "    tf.keras.layers.Dense(10, input_shape=[1], name=\"input_layer\"),\n",
        "    tf.keras.layers.Dense(1, input_shape=[1], name=\"output_layer\")\n",
        "], name=\"model_2\")\n",
        "\n",
        "model_2.compile(loss=tf.keras.losses.mae,\n",
        "              optimizer = tf.keras.optimizers.SGD(),\n",
        "              metrics=[\"mse\"])\n",
        "\n",
        "model_2.fit(X_train, Y_train, epochs=100)"
      ],
      "metadata": {
        "id": "Xh4t0Yx9Kfnb",
        "colab": {
          "base_uri": "https://localhost:8080/"
        },
        "outputId": "05f8f612-fc01-4c09-b98c-e18804b0f5fa"
      },
      "execution_count": null,
      "outputs": [
        {
          "output_type": "stream",
          "name": "stdout",
          "text": [
            "Epoch 1/100\n",
            "2/2 [==============================] - 0s 13ms/step - loss: 51.1133 - mse: 4104.6787\n",
            "Epoch 2/100\n",
            "2/2 [==============================] - 0s 8ms/step - loss: 21.8517 - mse: 750.5097\n",
            "Epoch 3/100\n",
            "2/2 [==============================] - 0s 10ms/step - loss: 19.4213 - mse: 550.6162\n",
            "Epoch 4/100\n",
            "2/2 [==============================] - 0s 9ms/step - loss: 14.0468 - mse: 257.8136\n",
            "Epoch 5/100\n",
            "2/2 [==============================] - 0s 7ms/step - loss: 15.6257 - mse: 316.1050\n",
            "Epoch 6/100\n",
            "2/2 [==============================] - 0s 7ms/step - loss: 12.3945 - mse: 195.3570\n",
            "Epoch 7/100\n",
            "2/2 [==============================] - 0s 7ms/step - loss: 11.6752 - mse: 167.4294\n",
            "Epoch 8/100\n",
            "2/2 [==============================] - 0s 7ms/step - loss: 12.0769 - mse: 199.2036\n",
            "Epoch 9/100\n",
            "2/2 [==============================] - 0s 7ms/step - loss: 37.8320 - mse: 2207.2339\n",
            "Epoch 10/100\n",
            "2/2 [==============================] - 0s 8ms/step - loss: 25.4476 - mse: 908.9386\n",
            "Epoch 11/100\n",
            "2/2 [==============================] - 0s 6ms/step - loss: 10.2484 - mse: 147.5791\n",
            "Epoch 12/100\n",
            "2/2 [==============================] - 0s 6ms/step - loss: 25.3527 - mse: 895.4567\n",
            "Epoch 13/100\n",
            "2/2 [==============================] - 0s 7ms/step - loss: 16.9546 - mse: 397.9483\n",
            "Epoch 14/100\n",
            "2/2 [==============================] - 0s 7ms/step - loss: 25.8640 - mse: 1044.3234\n",
            "Epoch 15/100\n",
            "2/2 [==============================] - 0s 7ms/step - loss: 17.9472 - mse: 447.9251\n",
            "Epoch 16/100\n",
            "2/2 [==============================] - 0s 7ms/step - loss: 7.3428 - mse: 80.7289\n",
            "Epoch 17/100\n",
            "2/2 [==============================] - 0s 7ms/step - loss: 10.8739 - mse: 174.9103\n",
            "Epoch 18/100\n",
            "2/2 [==============================] - 0s 8ms/step - loss: 19.5455 - mse: 566.7689\n",
            "Epoch 19/100\n",
            "2/2 [==============================] - 0s 7ms/step - loss: 10.3491 - mse: 167.4908\n",
            "Epoch 20/100\n",
            "2/2 [==============================] - 0s 7ms/step - loss: 17.7089 - mse: 456.5302\n",
            "Epoch 21/100\n",
            "2/2 [==============================] - 0s 7ms/step - loss: 15.9088 - mse: 347.7246\n",
            "Epoch 22/100\n",
            "2/2 [==============================] - 0s 7ms/step - loss: 14.2138 - mse: 285.6585\n",
            "Epoch 23/100\n",
            "2/2 [==============================] - 0s 8ms/step - loss: 8.7578 - mse: 91.7948\n",
            "Epoch 24/100\n",
            "2/2 [==============================] - 0s 8ms/step - loss: 11.0422 - mse: 153.6473\n",
            "Epoch 25/100\n",
            "2/2 [==============================] - 0s 8ms/step - loss: 12.6680 - mse: 232.4085\n",
            "Epoch 26/100\n",
            "2/2 [==============================] - 0s 7ms/step - loss: 26.1525 - mse: 1021.5477\n",
            "Epoch 27/100\n",
            "2/2 [==============================] - 0s 7ms/step - loss: 11.7315 - mse: 194.0787\n",
            "Epoch 28/100\n",
            "2/2 [==============================] - 0s 8ms/step - loss: 30.7513 - mse: 1546.5914\n",
            "Epoch 29/100\n",
            "2/2 [==============================] - 0s 7ms/step - loss: 9.2775 - mse: 92.3089\n",
            "Epoch 30/100\n",
            "2/2 [==============================] - 0s 7ms/step - loss: 31.1550 - mse: 1795.6830\n",
            "Epoch 31/100\n",
            "2/2 [==============================] - 0s 7ms/step - loss: 29.6116 - mse: 1455.1344\n",
            "Epoch 32/100\n",
            "2/2 [==============================] - 0s 7ms/step - loss: 10.4431 - mse: 126.1947\n",
            "Epoch 33/100\n",
            "2/2 [==============================] - 0s 7ms/step - loss: 15.4831 - mse: 330.2585\n",
            "Epoch 34/100\n",
            "2/2 [==============================] - 0s 7ms/step - loss: 12.5839 - mse: 208.6044\n",
            "Epoch 35/100\n",
            "2/2 [==============================] - 0s 7ms/step - loss: 9.1883 - mse: 91.3853\n",
            "Epoch 36/100\n",
            "2/2 [==============================] - 0s 7ms/step - loss: 16.4651 - mse: 394.0057\n",
            "Epoch 37/100\n",
            "2/2 [==============================] - 0s 7ms/step - loss: 11.0840 - mse: 192.1179\n",
            "Epoch 38/100\n",
            "2/2 [==============================] - 0s 7ms/step - loss: 18.2140 - mse: 437.2057\n",
            "Epoch 39/100\n",
            "2/2 [==============================] - 0s 7ms/step - loss: 19.1455 - mse: 533.9437\n",
            "Epoch 40/100\n",
            "2/2 [==============================] - 0s 7ms/step - loss: 20.5141 - mse: 614.7462\n",
            "Epoch 41/100\n",
            "2/2 [==============================] - 0s 8ms/step - loss: 14.7992 - mse: 274.0620\n",
            "Epoch 42/100\n",
            "2/2 [==============================] - 0s 7ms/step - loss: 12.1967 - mse: 182.0027\n",
            "Epoch 43/100\n",
            "2/2 [==============================] - 0s 7ms/step - loss: 10.6890 - mse: 163.0252\n",
            "Epoch 44/100\n",
            "2/2 [==============================] - 0s 7ms/step - loss: 32.2795 - mse: 1713.7021\n",
            "Epoch 45/100\n",
            "2/2 [==============================] - 0s 7ms/step - loss: 12.4652 - mse: 201.7391\n",
            "Epoch 46/100\n",
            "2/2 [==============================] - 0s 8ms/step - loss: 17.5253 - mse: 460.2128\n",
            "Epoch 47/100\n",
            "2/2 [==============================] - 0s 6ms/step - loss: 15.7489 - mse: 339.0531\n",
            "Epoch 48/100\n",
            "2/2 [==============================] - 0s 7ms/step - loss: 8.3685 - mse: 112.6148\n",
            "Epoch 49/100\n",
            "2/2 [==============================] - 0s 7ms/step - loss: 13.9771 - mse: 268.6616\n",
            "Epoch 50/100\n",
            "2/2 [==============================] - 0s 7ms/step - loss: 12.8207 - mse: 215.1838\n",
            "Epoch 51/100\n",
            "2/2 [==============================] - 0s 7ms/step - loss: 14.8311 - mse: 309.2153\n",
            "Epoch 52/100\n",
            "2/2 [==============================] - 0s 7ms/step - loss: 18.7169 - mse: 529.2104\n",
            "Epoch 53/100\n",
            "2/2 [==============================] - 0s 7ms/step - loss: 24.1628 - mse: 828.0836\n",
            "Epoch 54/100\n",
            "2/2 [==============================] - 0s 7ms/step - loss: 23.1914 - mse: 805.6832\n",
            "Epoch 55/100\n",
            "2/2 [==============================] - 0s 7ms/step - loss: 24.0449 - mse: 870.0148\n",
            "Epoch 56/100\n",
            "2/2 [==============================] - 0s 6ms/step - loss: 11.1591 - mse: 170.9356\n",
            "Epoch 57/100\n",
            "2/2 [==============================] - 0s 8ms/step - loss: 13.1163 - mse: 214.1763\n",
            "Epoch 58/100\n",
            "2/2 [==============================] - 0s 6ms/step - loss: 9.8089 - mse: 106.2178\n",
            "Epoch 59/100\n",
            "2/2 [==============================] - 0s 8ms/step - loss: 13.3070 - mse: 249.5939\n",
            "Epoch 60/100\n",
            "2/2 [==============================] - 0s 9ms/step - loss: 10.8686 - mse: 139.3364\n",
            "Epoch 61/100\n",
            "2/2 [==============================] - 0s 8ms/step - loss: 13.4737 - mse: 241.8670\n",
            "Epoch 62/100\n",
            "2/2 [==============================] - 0s 8ms/step - loss: 17.5119 - mse: 467.9820\n",
            "Epoch 63/100\n",
            "2/2 [==============================] - 0s 11ms/step - loss: 9.1572 - mse: 87.5965\n",
            "Epoch 64/100\n",
            "2/2 [==============================] - 0s 8ms/step - loss: 18.3845 - mse: 491.3097\n",
            "Epoch 65/100\n",
            "2/2 [==============================] - 0s 10ms/step - loss: 10.1130 - mse: 114.8564\n",
            "Epoch 66/100\n",
            "2/2 [==============================] - 0s 8ms/step - loss: 24.2527 - mse: 887.7418\n",
            "Epoch 67/100\n",
            "2/2 [==============================] - 0s 7ms/step - loss: 10.8831 - mse: 142.6632\n",
            "Epoch 68/100\n",
            "2/2 [==============================] - 0s 7ms/step - loss: 10.7654 - mse: 159.0874\n",
            "Epoch 69/100\n",
            "2/2 [==============================] - 0s 7ms/step - loss: 23.2444 - mse: 780.9158\n",
            "Epoch 70/100\n",
            "2/2 [==============================] - 0s 6ms/step - loss: 8.8129 - mse: 143.3878\n",
            "Epoch 71/100\n",
            "2/2 [==============================] - 0s 8ms/step - loss: 15.9796 - mse: 347.7838\n",
            "Epoch 72/100\n",
            "2/2 [==============================] - 0s 7ms/step - loss: 8.1379 - mse: 109.5892\n",
            "Epoch 73/100\n",
            "2/2 [==============================] - 0s 7ms/step - loss: 9.4628 - mse: 153.1126\n",
            "Epoch 74/100\n",
            "2/2 [==============================] - 0s 7ms/step - loss: 28.1567 - mse: 1110.6115\n",
            "Epoch 75/100\n",
            "2/2 [==============================] - 0s 7ms/step - loss: 10.1917 - mse: 145.3967\n",
            "Epoch 76/100\n",
            "2/2 [==============================] - 0s 8ms/step - loss: 13.1418 - mse: 218.6509\n",
            "Epoch 77/100\n",
            "2/2 [==============================] - 0s 7ms/step - loss: 18.3874 - mse: 530.2667\n",
            "Epoch 78/100\n",
            "2/2 [==============================] - 0s 7ms/step - loss: 9.0103 - mse: 91.3650\n",
            "Epoch 79/100\n",
            "2/2 [==============================] - 0s 7ms/step - loss: 23.4400 - mse: 821.7913\n",
            "Epoch 80/100\n",
            "2/2 [==============================] - 0s 7ms/step - loss: 26.1105 - mse: 1047.4780\n",
            "Epoch 81/100\n",
            "2/2 [==============================] - 0s 7ms/step - loss: 11.3837 - mse: 158.2300\n",
            "Epoch 82/100\n",
            "2/2 [==============================] - 0s 7ms/step - loss: 12.4929 - mse: 227.5420\n",
            "Epoch 83/100\n",
            "2/2 [==============================] - 0s 7ms/step - loss: 17.1791 - mse: 383.9576\n",
            "Epoch 84/100\n",
            "2/2 [==============================] - 0s 7ms/step - loss: 6.5882 - mse: 64.4073\n",
            "Epoch 85/100\n",
            "2/2 [==============================] - 0s 7ms/step - loss: 20.2977 - mse: 576.1377\n",
            "Epoch 86/100\n",
            "2/2 [==============================] - 0s 11ms/step - loss: 10.1631 - mse: 115.7137\n",
            "Epoch 87/100\n",
            "2/2 [==============================] - 0s 8ms/step - loss: 24.3436 - mse: 829.1776\n",
            "Epoch 88/100\n",
            "2/2 [==============================] - 0s 7ms/step - loss: 19.0082 - mse: 513.1315\n",
            "Epoch 89/100\n",
            "2/2 [==============================] - 0s 7ms/step - loss: 7.1587 - mse: 70.0775\n",
            "Epoch 90/100\n",
            "2/2 [==============================] - 0s 7ms/step - loss: 18.2536 - mse: 494.5382\n",
            "Epoch 91/100\n",
            "2/2 [==============================] - 0s 7ms/step - loss: 13.3029 - mse: 255.7648\n",
            "Epoch 92/100\n",
            "2/2 [==============================] - 0s 8ms/step - loss: 14.8514 - mse: 310.8004\n",
            "Epoch 93/100\n",
            "2/2 [==============================] - 0s 9ms/step - loss: 11.6442 - mse: 250.1191\n",
            "Epoch 94/100\n",
            "2/2 [==============================] - 0s 7ms/step - loss: 16.2012 - mse: 371.0106\n",
            "Epoch 95/100\n",
            "2/2 [==============================] - 0s 10ms/step - loss: 15.5433 - mse: 321.9553\n",
            "Epoch 96/100\n",
            "2/2 [==============================] - 0s 8ms/step - loss: 15.0775 - mse: 324.3078\n",
            "Epoch 97/100\n",
            "2/2 [==============================] - 0s 8ms/step - loss: 10.9059 - mse: 188.1025\n",
            "Epoch 98/100\n",
            "2/2 [==============================] - 0s 8ms/step - loss: 14.3667 - mse: 286.5381\n",
            "Epoch 99/100\n",
            "2/2 [==============================] - 0s 7ms/step - loss: 13.3830 - mse: 251.7021\n",
            "Epoch 100/100\n",
            "2/2 [==============================] - 0s 7ms/step - loss: 20.0056 - mse: 584.9155\n"
          ]
        },
        {
          "output_type": "execute_result",
          "data": {
            "text/plain": [
              "<keras.src.callbacks.History at 0x7c9348511fc0>"
            ]
          },
          "metadata": {},
          "execution_count": 27
        }
      ]
    },
    {
      "cell_type": "code",
      "source": [
        "#Make and plot model2 predictions\n",
        "y_pred_model_2 = model_2.predict(X_test)\n",
        "plot_predictions(predictions=y_pred_model_2)\n",
        "\n",
        "#Calculate model_2 evaluation metrics\n",
        "mse_2 = mse(Y_test, y_pred_model_2)\n",
        "mae_2 = mae(Y_test, y_pred_model_2)\n",
        "print(mae_2, mse_2)\n"
      ],
      "metadata": {
        "colab": {
          "base_uri": "https://localhost:8080/",
          "height": 671
        },
        "id": "q_NGXqePlhZE",
        "outputId": "52ea5a9e-5d39-4a26-b5c3-54cea438ddc5"
      },
      "execution_count": null,
      "outputs": [
        {
          "output_type": "stream",
          "name": "stderr",
          "text": [
            "WARNING:tensorflow:5 out of the last 5 calls to <function Model.make_predict_function.<locals>.predict_function at 0x7c9348525c60> triggered tf.function retracing. Tracing is expensive and the excessive number of tracings could be due to (1) creating @tf.function repeatedly in a loop, (2) passing tensors with different shapes, (3) passing Python objects instead of tensors. For (1), please define your @tf.function outside of the loop. For (2), @tf.function has reduce_retracing=True option that can avoid unnecessary retracing. For (3), please refer to https://www.tensorflow.org/guide/function#controlling_retracing and https://www.tensorflow.org/api_docs/python/tf/function for  more details.\n"
          ]
        },
        {
          "output_type": "stream",
          "name": "stdout",
          "text": [
            "1/1 [==============================] - 0s 44ms/step\n",
            "tf.Tensor(29.618567, shape=(), dtype=float32) tf.Tensor(908.21564, shape=(), dtype=float32)\n"
          ]
        },
        {
          "output_type": "display_data",
          "data": {
            "text/plain": [
              "<Figure size 1000x700 with 1 Axes>"
            ],
            "image/png": "[encoded data removed]"
          },
          "metadata": {}
        }
      ]
    },
    {
      "cell_type": "markdown",
      "source": [
        "**Build `model_3`**\n",
        "* 2 Layers\n",
        "* 500 epochs"
      ],
      "metadata": {
        "id": "fEIVkltGoZcQ"
      }
    },
    {
      "cell_type": "code",
      "source": [
        "tf.random.set_seed(42)\n",
        "#Create theb model\n",
        "model_3 = tf.keras.Sequential([\n",
        "    tf.keras.layers.Dense(1,input_shape=[1] ,name=\"Input_3\"),\n",
        "    tf.keras.layers.Dense(1,input_shape=[1],  name=\"Output_3\")\n",
        "], name=\"Model_3\")\n",
        "\n",
        "#compile the model\n",
        "model_3.compile(loss=tf.keras.losses.mae,\n",
        "                optimizer = tf.keras.optimizers.SGD(),\n",
        "                metrics = [\"mae\"])\n",
        "\n",
        "#fit the model\n",
        "model_3.fit(X_train,Y_train, epochs=500)"
      ],
      "metadata": {
        "colab": {
          "base_uri": "https://localhost:8080/"
        },
        "id": "j4ij1k4Pog5C",
        "outputId": "3be045c1-283a-4a29-b8ef-faa4624f4c1c"
      },
      "execution_count": null,
      "outputs": [
        {
          "output_type": "stream",
          "name": "stdout",
          "text": [
            "Epoch 1/500\n",
            "2/2 [==============================] - 0s 11ms/step - loss: 31.7142 - mae: 31.7142\n",
            "Epoch 2/500\n",
            "2/2 [==============================] - 0s 7ms/step - loss: 20.8382 - mae: 20.8382\n",
            "Epoch 3/500\n",
            "2/2 [==============================] - 0s 7ms/step - loss: 27.5370 - mae: 27.5370\n",
            "Epoch 4/500\n",
            "2/2 [==============================] - 0s 7ms/step - loss: 24.4652 - mae: 24.4652\n",
            "Epoch 5/500\n",
            "2/2 [==============================] - 0s 6ms/step - loss: 12.9824 - mae: 12.9824\n",
            "Epoch 6/500\n",
            "2/2 [==============================] - 0s 6ms/step - loss: 10.4982 - mae: 10.4982\n",
            "Epoch 7/500\n",
            "2/2 [==============================] - 0s 9ms/step - loss: 11.4316 - mae: 11.4316\n",
            "Epoch 8/500\n",
            "2/2 [==============================] - 0s 6ms/step - loss: 11.1347 - mae: 11.1347\n",
            "Epoch 9/500\n",
            "2/2 [==============================] - 0s 6ms/step - loss: 41.3840 - mae: 41.3840\n",
            "Epoch 10/500\n",
            "2/2 [==============================] - 0s 10ms/step - loss: 28.6645 - mae: 28.6645\n",
            "Epoch 11/500\n",
            "2/2 [==============================] - 0s 6ms/step - loss: 9.3867 - mae: 9.3867\n",
            "Epoch 12/500\n",
            "2/2 [==============================] - 0s 7ms/step - loss: 26.2174 - mae: 26.2174\n",
            "Epoch 13/500\n",
            "2/2 [==============================] - 0s 7ms/step - loss: 14.4790 - mae: 14.4790\n",
            "Epoch 14/500\n",
            "2/2 [==============================] - 0s 7ms/step - loss: 29.9879 - mae: 29.9879\n",
            "Epoch 15/500\n",
            "2/2 [==============================] - 0s 8ms/step - loss: 19.8111 - mae: 19.8111\n",
            "Epoch 16/500\n",
            "2/2 [==============================] - 0s 7ms/step - loss: 9.8564 - mae: 9.8564\n",
            "Epoch 17/500\n",
            "2/2 [==============================] - 0s 7ms/step - loss: 17.7135 - mae: 17.7135\n",
            "Epoch 18/500\n",
            "2/2 [==============================] - 0s 7ms/step - loss: 14.2000 - mae: 14.2000\n",
            "Epoch 19/500\n",
            "2/2 [==============================] - 0s 7ms/step - loss: 14.0420 - mae: 14.0420\n",
            "Epoch 20/500\n",
            "2/2 [==============================] - 0s 7ms/step - loss: 11.2380 - mae: 11.2380\n",
            "Epoch 21/500\n",
            "2/2 [==============================] - 0s 9ms/step - loss: 17.3795 - mae: 17.3795\n",
            "Epoch 22/500\n",
            "2/2 [==============================] - 0s 7ms/step - loss: 15.9056 - mae: 15.9056\n",
            "Epoch 23/500\n",
            "2/2 [==============================] - 0s 7ms/step - loss: 9.8388 - mae: 9.8388\n",
            "Epoch 24/500\n",
            "2/2 [==============================] - 0s 6ms/step - loss: 16.4443 - mae: 16.4443\n",
            "Epoch 25/500\n",
            "2/2 [==============================] - 0s 7ms/step - loss: 15.3719 - mae: 15.3719\n",
            "Epoch 26/500\n",
            "2/2 [==============================] - 0s 11ms/step - loss: 20.5938 - mae: 20.5938\n",
            "Epoch 27/500\n",
            "2/2 [==============================] - 0s 7ms/step - loss: 26.3041 - mae: 26.3041\n",
            "Epoch 28/500\n",
            "2/2 [==============================] - 0s 8ms/step - loss: 18.7565 - mae: 18.7565\n",
            "Epoch 29/500\n",
            "2/2 [==============================] - 0s 9ms/step - loss: 9.2390 - mae: 9.2390\n",
            "Epoch 30/500\n",
            "2/2 [==============================] - 0s 7ms/step - loss: 29.4054 - mae: 29.4054\n",
            "Epoch 31/500\n",
            "2/2 [==============================] - 0s 8ms/step - loss: 53.2936 - mae: 53.2936\n",
            "Epoch 32/500\n",
            "2/2 [==============================] - 0s 7ms/step - loss: 9.4603 - mae: 9.4603\n",
            "Epoch 33/500\n",
            "2/2 [==============================] - 0s 7ms/step - loss: 12.0365 - mae: 12.0365\n",
            "Epoch 34/500\n",
            "2/2 [==============================] - 0s 7ms/step - loss: 23.2852 - mae: 23.2852\n",
            "Epoch 35/500\n",
            "2/2 [==============================] - 0s 7ms/step - loss: 11.8326 - mae: 11.8326\n",
            "Epoch 36/500\n",
            "2/2 [==============================] - 0s 7ms/step - loss: 21.8057 - mae: 21.8057\n",
            "Epoch 37/500\n",
            "2/2 [==============================] - 0s 7ms/step - loss: 11.1327 - mae: 11.1327\n",
            "Epoch 38/500\n",
            "2/2 [==============================] - 0s 7ms/step - loss: 12.7370 - mae: 12.7370\n",
            "Epoch 39/500\n",
            "2/2 [==============================] - 0s 7ms/step - loss: 11.6003 - mae: 11.6003\n",
            "Epoch 40/500\n",
            "2/2 [==============================] - 0s 8ms/step - loss: 19.2881 - mae: 19.2881\n",
            "Epoch 41/500\n",
            "2/2 [==============================] - 0s 7ms/step - loss: 10.9759 - mae: 10.9759\n",
            "Epoch 42/500\n",
            "2/2 [==============================] - 0s 7ms/step - loss: 9.3036 - mae: 9.3036\n",
            "Epoch 43/500\n",
            "2/2 [==============================] - 0s 7ms/step - loss: 9.5905 - mae: 9.5905\n",
            "Epoch 44/500\n",
            "2/2 [==============================] - 0s 7ms/step - loss: 28.0433 - mae: 28.0433\n",
            "Epoch 45/500\n",
            "2/2 [==============================] - 0s 7ms/step - loss: 11.2926 - mae: 11.2926\n",
            "Epoch 46/500\n",
            "2/2 [==============================] - 0s 12ms/step - loss: 14.1023 - mae: 14.1023\n",
            "Epoch 47/500\n",
            "2/2 [==============================] - 0s 10ms/step - loss: 13.4859 - mae: 13.4859\n",
            "Epoch 48/500\n",
            "2/2 [==============================] - 0s 7ms/step - loss: 17.3139 - mae: 17.3139\n",
            "Epoch 49/500\n",
            "2/2 [==============================] - 0s 7ms/step - loss: 9.5265 - mae: 9.5265\n",
            "Epoch 50/500\n",
            "2/2 [==============================] - 0s 8ms/step - loss: 13.7309 - mae: 13.7309\n",
            "Epoch 51/500\n",
            "2/2 [==============================] - 0s 7ms/step - loss: 11.5666 - mae: 11.5666\n",
            "Epoch 52/500\n",
            "2/2 [==============================] - 0s 6ms/step - loss: 30.3157 - mae: 30.3157\n",
            "Epoch 53/500\n",
            "2/2 [==============================] - 0s 7ms/step - loss: 14.2522 - mae: 14.2522\n",
            "Epoch 54/500\n",
            "2/2 [==============================] - 0s 8ms/step - loss: 23.5654 - mae: 23.5654\n",
            "Epoch 55/500\n",
            "2/2 [==============================] - 0s 8ms/step - loss: 24.4833 - mae: 24.4833\n",
            "Epoch 56/500\n",
            "2/2 [==============================] - 0s 7ms/step - loss: 11.3057 - mae: 11.3057\n",
            "Epoch 57/500\n",
            "2/2 [==============================] - 0s 7ms/step - loss: 13.3143 - mae: 13.3143\n",
            "Epoch 58/500\n",
            "2/2 [==============================] - 0s 6ms/step - loss: 9.9231 - mae: 9.9231\n",
            "Epoch 59/500\n",
            "2/2 [==============================] - 0s 7ms/step - loss: 13.8624 - mae: 13.8624\n",
            "Epoch 60/500\n",
            "2/2 [==============================] - 0s 7ms/step - loss: 9.9679 - mae: 9.9679\n",
            "Epoch 61/500\n",
            "2/2 [==============================] - 0s 6ms/step - loss: 14.9231 - mae: 14.9231\n",
            "Epoch 62/500\n",
            "2/2 [==============================] - 0s 7ms/step - loss: 11.8951 - mae: 11.8951\n",
            "Epoch 63/500\n",
            "2/2 [==============================] - 0s 7ms/step - loss: 10.2700 - mae: 10.2700\n",
            "Epoch 64/500\n",
            "2/2 [==============================] - 0s 7ms/step - loss: 23.8179 - mae: 23.8179\n",
            "Epoch 65/500\n",
            "2/2 [==============================] - 0s 7ms/step - loss: 10.4470 - mae: 10.4470\n",
            "Epoch 66/500\n",
            "2/2 [==============================] - 0s 8ms/step - loss: 20.8766 - mae: 20.8766\n",
            "Epoch 67/500\n",
            "2/2 [==============================] - 0s 7ms/step - loss: 10.4233 - mae: 10.4233\n",
            "Epoch 68/500\n",
            "2/2 [==============================] - 0s 7ms/step - loss: 14.1404 - mae: 14.1404\n",
            "Epoch 69/500\n",
            "2/2 [==============================] - 0s 7ms/step - loss: 10.4934 - mae: 10.4934\n",
            "Epoch 70/500\n",
            "2/2 [==============================] - 0s 7ms/step - loss: 12.5637 - mae: 12.5637\n",
            "Epoch 71/500\n",
            "2/2 [==============================] - 0s 7ms/step - loss: 12.9958 - mae: 12.9958\n",
            "Epoch 72/500\n",
            "2/2 [==============================] - 0s 7ms/step - loss: 19.3258 - mae: 19.3258\n",
            "Epoch 73/500\n",
            "2/2 [==============================] - 0s 7ms/step - loss: 11.1189 - mae: 11.1189\n",
            "Epoch 74/500\n",
            "2/2 [==============================] - 0s 8ms/step - loss: 21.4175 - mae: 21.4175\n",
            "Epoch 75/500\n",
            "2/2 [==============================] - 0s 8ms/step - loss: 9.4504 - mae: 9.4504\n",
            "Epoch 76/500\n",
            "2/2 [==============================] - 0s 7ms/step - loss: 12.2733 - mae: 12.2733\n",
            "Epoch 77/500\n",
            "2/2 [==============================] - 0s 7ms/step - loss: 16.3085 - mae: 16.3085\n",
            "Epoch 78/500\n",
            "2/2 [==============================] - 0s 7ms/step - loss: 9.0048 - mae: 9.0048\n",
            "Epoch 79/500\n",
            "2/2 [==============================] - 0s 7ms/step - loss: 23.5594 - mae: 23.5594\n",
            "Epoch 80/500\n",
            "2/2 [==============================] - 0s 7ms/step - loss: 26.2546 - mae: 26.2546\n",
            "Epoch 81/500\n",
            "2/2 [==============================] - 0s 7ms/step - loss: 11.4365 - mae: 11.4365\n",
            "Epoch 82/500\n",
            "2/2 [==============================] - 0s 11ms/step - loss: 12.4410 - mae: 12.4410\n",
            "Epoch 83/500\n",
            "2/2 [==============================] - 0s 8ms/step - loss: 17.1057 - mae: 17.1057\n",
            "Epoch 84/500\n",
            "2/2 [==============================] - 0s 7ms/step - loss: 7.2540 - mae: 7.2540\n",
            "Epoch 85/500\n",
            "2/2 [==============================] - 0s 7ms/step - loss: 37.1837 - mae: 37.1837\n",
            "Epoch 86/500\n",
            "2/2 [==============================] - 0s 7ms/step - loss: 21.2030 - mae: 21.2030\n",
            "Epoch 87/500\n",
            "2/2 [==============================] - 0s 7ms/step - loss: 11.0201 - mae: 11.0201\n",
            "Epoch 88/500\n",
            "2/2 [==============================] - 0s 7ms/step - loss: 25.0709 - mae: 25.0709\n",
            "Epoch 89/500\n",
            "2/2 [==============================] - 0s 7ms/step - loss: 9.3546 - mae: 9.3546\n",
            "Epoch 90/500\n",
            "2/2 [==============================] - 0s 7ms/step - loss: 17.3769 - mae: 17.3769\n",
            "Epoch 91/500\n",
            "2/2 [==============================] - 0s 7ms/step - loss: 10.7979 - mae: 10.7979\n",
            "Epoch 92/500\n",
            "2/2 [==============================] - 0s 7ms/step - loss: 19.0716 - mae: 19.0716\n",
            "Epoch 93/500\n",
            "2/2 [==============================] - 0s 9ms/step - loss: 8.3169 - mae: 8.3169\n",
            "Epoch 94/500\n",
            "2/2 [==============================] - 0s 7ms/step - loss: 11.5579 - mae: 11.5579\n",
            "Epoch 95/500\n",
            "2/2 [==============================] - 0s 7ms/step - loss: 26.1222 - mae: 26.1222\n",
            "Epoch 96/500\n",
            "2/2 [==============================] - 0s 8ms/step - loss: 11.1877 - mae: 11.1877\n",
            "Epoch 97/500\n",
            "2/2 [==============================] - 0s 7ms/step - loss: 16.7940 - mae: 16.7940\n",
            "Epoch 98/500\n",
            "2/2 [==============================] - 0s 7ms/step - loss: 6.5871 - mae: 6.5871\n",
            "Epoch 99/500\n",
            "2/2 [==============================] - 0s 8ms/step - loss: 12.5982 - mae: 12.5982\n",
            "Epoch 100/500\n",
            "2/2 [==============================] - 0s 7ms/step - loss: 19.4065 - mae: 19.4065\n",
            "Epoch 101/500\n",
            "2/2 [==============================] - 0s 8ms/step - loss: 16.0739 - mae: 16.0739\n",
            "Epoch 102/500\n",
            "2/2 [==============================] - 0s 7ms/step - loss: 11.1936 - mae: 11.1936\n",
            "Epoch 103/500\n",
            "2/2 [==============================] - 0s 7ms/step - loss: 9.3270 - mae: 9.3270\n",
            "Epoch 104/500\n",
            "2/2 [==============================] - 0s 8ms/step - loss: 24.9608 - mae: 24.9608\n",
            "Epoch 105/500\n",
            "2/2 [==============================] - 0s 8ms/step - loss: 11.9865 - mae: 11.9865\n",
            "Epoch 106/500\n",
            "2/2 [==============================] - 0s 7ms/step - loss: 10.0887 - mae: 10.0887\n",
            "Epoch 107/500\n",
            "2/2 [==============================] - 0s 12ms/step - loss: 22.5241 - mae: 22.5241\n",
            "Epoch 108/500\n",
            "2/2 [==============================] - 0s 9ms/step - loss: 8.1329 - mae: 8.1329\n",
            "Epoch 109/500\n",
            "2/2 [==============================] - 0s 7ms/step - loss: 13.3428 - mae: 13.3428\n",
            "Epoch 110/500\n",
            "2/2 [==============================] - 0s 8ms/step - loss: 7.9887 - mae: 7.9887\n",
            "Epoch 111/500\n",
            "2/2 [==============================] - 0s 7ms/step - loss: 15.7549 - mae: 15.7549\n",
            "Epoch 112/500\n",
            "2/2 [==============================] - 0s 8ms/step - loss: 8.7559 - mae: 8.7559\n",
            "Epoch 113/500\n",
            "2/2 [==============================] - 0s 10ms/step - loss: 22.6816 - mae: 22.6816\n",
            "Epoch 114/500\n",
            "2/2 [==============================] - 0s 7ms/step - loss: 19.0331 - mae: 19.0331\n",
            "Epoch 115/500\n",
            "2/2 [==============================] - 0s 8ms/step - loss: 11.0985 - mae: 11.0985\n",
            "Epoch 116/500\n",
            "2/2 [==============================] - 0s 7ms/step - loss: 23.1334 - mae: 23.1334\n",
            "Epoch 117/500\n",
            "2/2 [==============================] - 0s 7ms/step - loss: 9.5826 - mae: 9.5826\n",
            "Epoch 118/500\n",
            "2/2 [==============================] - 0s 7ms/step - loss: 10.6457 - mae: 10.6457\n",
            "Epoch 119/500\n",
            "2/2 [==============================] - 0s 10ms/step - loss: 8.0509 - mae: 8.0509\n",
            "Epoch 120/500\n",
            "2/2 [==============================] - 0s 8ms/step - loss: 29.4392 - mae: 29.4392\n",
            "Epoch 121/500\n",
            "2/2 [==============================] - 0s 7ms/step - loss: 8.0869 - mae: 8.0869\n",
            "Epoch 122/500\n",
            "2/2 [==============================] - 0s 8ms/step - loss: 28.0984 - mae: 28.0984\n",
            "Epoch 123/500\n",
            "2/2 [==============================] - 0s 8ms/step - loss: 32.6406 - mae: 32.6406\n",
            "Epoch 124/500\n",
            "2/2 [==============================] - 0s 7ms/step - loss: 19.4400 - mae: 19.4400\n",
            "Epoch 125/500\n",
            "2/2 [==============================] - 0s 8ms/step - loss: 6.4105 - mae: 6.4105\n",
            "Epoch 126/500\n",
            "2/2 [==============================] - 0s 8ms/step - loss: 26.7140 - mae: 26.7140\n",
            "Epoch 127/500\n",
            "2/2 [==============================] - 0s 9ms/step - loss: 8.5742 - mae: 8.5742\n",
            "Epoch 128/500\n",
            "2/2 [==============================] - 0s 9ms/step - loss: 13.7899 - mae: 13.7899\n",
            "Epoch 129/500\n",
            "2/2 [==============================] - 0s 7ms/step - loss: 11.2665 - mae: 11.2665\n",
            "Epoch 130/500\n",
            "2/2 [==============================] - 0s 8ms/step - loss: 11.5010 - mae: 11.5010\n",
            "Epoch 131/500\n",
            "2/2 [==============================] - 0s 7ms/step - loss: 20.5779 - mae: 20.5779\n",
            "Epoch 132/500\n",
            "2/2 [==============================] - 0s 9ms/step - loss: 8.0059 - mae: 8.0059\n",
            "Epoch 133/500\n",
            "2/2 [==============================] - 0s 8ms/step - loss: 8.8244 - mae: 8.8244\n",
            "Epoch 134/500\n",
            "2/2 [==============================] - 0s 8ms/step - loss: 21.4302 - mae: 21.4302\n",
            "Epoch 135/500\n",
            "2/2 [==============================] - 0s 8ms/step - loss: 10.8829 - mae: 10.8829\n",
            "Epoch 136/500\n",
            "2/2 [==============================] - 0s 7ms/step - loss: 19.0649 - mae: 19.0649\n",
            "Epoch 137/500\n",
            "2/2 [==============================] - 0s 8ms/step - loss: 24.2811 - mae: 24.2811\n",
            "Epoch 138/500\n",
            "2/2 [==============================] - 0s 8ms/step - loss: 9.5838 - mae: 9.5838\n",
            "Epoch 139/500\n",
            "2/2 [==============================] - 0s 7ms/step - loss: 9.2031 - mae: 9.2031\n",
            "Epoch 140/500\n",
            "2/2 [==============================] - 0s 7ms/step - loss: 17.5642 - mae: 17.5642\n",
            "Epoch 141/500\n",
            "2/2 [==============================] - 0s 7ms/step - loss: 8.3592 - mae: 8.3592\n",
            "Epoch 142/500\n",
            "2/2 [==============================] - 0s 8ms/step - loss: 35.0238 - mae: 35.0238\n",
            "Epoch 143/500\n",
            "2/2 [==============================] - 0s 8ms/step - loss: 24.0044 - mae: 24.0044\n",
            "Epoch 144/500\n",
            "2/2 [==============================] - 0s 8ms/step - loss: 11.4235 - mae: 11.4235\n",
            "Epoch 145/500\n",
            "2/2 [==============================] - 0s 7ms/step - loss: 25.3115 - mae: 25.3115\n",
            "Epoch 146/500\n",
            "2/2 [==============================] - 0s 7ms/step - loss: 10.7275 - mae: 10.7275\n",
            "Epoch 147/500\n",
            "2/2 [==============================] - 0s 7ms/step - loss: 14.3004 - mae: 14.3004\n",
            "Epoch 148/500\n",
            "2/2 [==============================] - 0s 7ms/step - loss: 17.2383 - mae: 17.2383\n",
            "Epoch 149/500\n",
            "2/2 [==============================] - 0s 7ms/step - loss: 8.9757 - mae: 8.9757\n",
            "Epoch 150/500\n",
            "2/2 [==============================] - 0s 8ms/step - loss: 7.8177 - mae: 7.8177\n",
            "Epoch 151/500\n",
            "2/2 [==============================] - 0s 8ms/step - loss: 20.4216 - mae: 20.4216\n",
            "Epoch 152/500\n",
            "2/2 [==============================] - 0s 8ms/step - loss: 10.3749 - mae: 10.3749\n",
            "Epoch 153/500\n",
            "2/2 [==============================] - 0s 7ms/step - loss: 30.0159 - mae: 30.0159\n",
            "Epoch 154/500\n",
            "2/2 [==============================] - 0s 8ms/step - loss: 10.4985 - mae: 10.4985\n",
            "Epoch 155/500\n",
            "2/2 [==============================] - 0s 7ms/step - loss: 15.3995 - mae: 15.3995\n",
            "Epoch 156/500\n",
            "2/2 [==============================] - 0s 12ms/step - loss: 16.8839 - mae: 16.8839\n",
            "Epoch 157/500\n",
            "2/2 [==============================] - 0s 8ms/step - loss: 33.1824 - mae: 33.1824\n",
            "Epoch 158/500\n",
            "2/2 [==============================] - 0s 8ms/step - loss: 10.8375 - mae: 10.8375\n",
            "Epoch 159/500\n",
            "2/2 [==============================] - 0s 8ms/step - loss: 8.9765 - mae: 8.9765\n",
            "Epoch 160/500\n",
            "2/2 [==============================] - 0s 8ms/step - loss: 22.3844 - mae: 22.3844\n",
            "Epoch 161/500\n",
            "2/2 [==============================] - 0s 7ms/step - loss: 11.8260 - mae: 11.8260\n",
            "Epoch 162/500\n",
            "2/2 [==============================] - 0s 8ms/step - loss: 21.8013 - mae: 21.8013\n",
            "Epoch 163/500\n",
            "2/2 [==============================] - 0s 7ms/step - loss: 19.4691 - mae: 19.4691\n",
            "Epoch 164/500\n",
            "2/2 [==============================] - 0s 8ms/step - loss: 11.3781 - mae: 11.3781\n",
            "Epoch 165/500\n",
            "2/2 [==============================] - 0s 8ms/step - loss: 11.6174 - mae: 11.6174\n",
            "Epoch 166/500\n",
            "2/2 [==============================] - 0s 13ms/step - loss: 21.3732 - mae: 21.3732\n",
            "Epoch 167/500\n",
            "2/2 [==============================] - 0s 8ms/step - loss: 26.8363 - mae: 26.8363\n",
            "Epoch 168/500\n",
            "2/2 [==============================] - 0s 7ms/step - loss: 9.9878 - mae: 9.9878\n",
            "Epoch 169/500\n",
            "2/2 [==============================] - 0s 8ms/step - loss: 23.0956 - mae: 23.0956\n",
            "Epoch 170/500\n",
            "2/2 [==============================] - 0s 8ms/step - loss: 10.0795 - mae: 10.0795\n",
            "Epoch 171/500\n",
            "2/2 [==============================] - 0s 8ms/step - loss: 17.8244 - mae: 17.8244\n",
            "Epoch 172/500\n",
            "2/2 [==============================] - 0s 8ms/step - loss: 29.3747 - mae: 29.3747\n",
            "Epoch 173/500\n",
            "2/2 [==============================] - 0s 8ms/step - loss: 16.9617 - mae: 16.9617\n",
            "Epoch 174/500\n",
            "2/2 [==============================] - 0s 7ms/step - loss: 11.1783 - mae: 11.1783\n",
            "Epoch 175/500\n",
            "2/2 [==============================] - 0s 7ms/step - loss: 27.4469 - mae: 27.4469\n",
            "Epoch 176/500\n",
            "2/2 [==============================] - 0s 8ms/step - loss: 8.4441 - mae: 8.4441\n",
            "Epoch 177/500\n",
            "2/2 [==============================] - 0s 9ms/step - loss: 9.3994 - mae: 9.3994\n",
            "Epoch 178/500\n",
            "2/2 [==============================] - 0s 7ms/step - loss: 18.5833 - mae: 18.5833\n",
            "Epoch 179/500\n",
            "2/2 [==============================] - 0s 8ms/step - loss: 10.4079 - mae: 10.4079\n",
            "Epoch 180/500\n",
            "2/2 [==============================] - 0s 8ms/step - loss: 8.0004 - mae: 8.0004\n",
            "Epoch 181/500\n",
            "2/2 [==============================] - 0s 8ms/step - loss: 17.7630 - mae: 17.7630\n",
            "Epoch 182/500\n",
            "2/2 [==============================] - 0s 9ms/step - loss: 11.1986 - mae: 11.1986\n",
            "Epoch 183/500\n",
            "2/2 [==============================] - 0s 8ms/step - loss: 12.3968 - mae: 12.3968\n",
            "Epoch 184/500\n",
            "2/2 [==============================] - 0s 7ms/step - loss: 27.3640 - mae: 27.3640\n",
            "Epoch 185/500\n",
            "2/2 [==============================] - 0s 8ms/step - loss: 7.5707 - mae: 7.5707\n",
            "Epoch 186/500\n",
            "2/2 [==============================] - 0s 8ms/step - loss: 15.9506 - mae: 15.9506\n",
            "Epoch 187/500\n",
            "2/2 [==============================] - 0s 11ms/step - loss: 8.6010 - mae: 8.6010\n",
            "Epoch 188/500\n",
            "2/2 [==============================] - 0s 11ms/step - loss: 28.8702 - mae: 28.8702\n",
            "Epoch 189/500\n",
            "2/2 [==============================] - 0s 11ms/step - loss: 13.1502 - mae: 13.1502\n",
            "Epoch 190/500\n",
            "2/2 [==============================] - 0s 12ms/step - loss: 18.2901 - mae: 18.2901\n",
            "Epoch 191/500\n",
            "2/2 [==============================] - 0s 10ms/step - loss: 13.7136 - mae: 13.7136\n",
            "Epoch 192/500\n",
            "2/2 [==============================] - 0s 11ms/step - loss: 13.7116 - mae: 13.7116\n",
            "Epoch 193/500\n",
            "2/2 [==============================] - 0s 8ms/step - loss: 28.5601 - mae: 28.5601\n",
            "Epoch 194/500\n",
            "2/2 [==============================] - 0s 8ms/step - loss: 7.1218 - mae: 7.1218\n",
            "Epoch 195/500\n",
            "2/2 [==============================] - 0s 8ms/step - loss: 7.0777 - mae: 7.0777\n",
            "Epoch 196/500\n",
            "2/2 [==============================] - 0s 8ms/step - loss: 21.9816 - mae: 21.9816\n",
            "Epoch 197/500\n",
            "2/2 [==============================] - 0s 9ms/step - loss: 20.9014 - mae: 20.9014\n",
            "Epoch 198/500\n",
            "2/2 [==============================] - 0s 8ms/step - loss: 12.5131 - mae: 12.5131\n",
            "Epoch 199/500\n",
            "2/2 [==============================] - 0s 8ms/step - loss: 17.9594 - mae: 17.9594\n",
            "Epoch 200/500\n",
            "2/2 [==============================] - 0s 7ms/step - loss: 13.7981 - mae: 13.7981\n",
            "Epoch 201/500\n",
            "2/2 [==============================] - 0s 8ms/step - loss: 5.4948 - mae: 5.4948\n",
            "Epoch 202/500\n",
            "2/2 [==============================] - 0s 8ms/step - loss: 13.7448 - mae: 13.7448\n",
            "Epoch 203/500\n",
            "2/2 [==============================] - 0s 8ms/step - loss: 9.4500 - mae: 9.4500\n",
            "Epoch 204/500\n",
            "2/2 [==============================] - 0s 10ms/step - loss: 21.0133 - mae: 21.0133\n",
            "Epoch 205/500\n",
            "2/2 [==============================] - 0s 12ms/step - loss: 9.5846 - mae: 9.5846\n",
            "Epoch 206/500\n",
            "2/2 [==============================] - 0s 10ms/step - loss: 11.7571 - mae: 11.7571\n",
            "Epoch 207/500\n",
            "2/2 [==============================] - 0s 10ms/step - loss: 14.3951 - mae: 14.3951\n",
            "Epoch 208/500\n",
            "2/2 [==============================] - 0s 9ms/step - loss: 14.8835 - mae: 14.8835\n",
            "Epoch 209/500\n",
            "2/2 [==============================] - 0s 9ms/step - loss: 14.9791 - mae: 14.9791\n",
            "Epoch 210/500\n",
            "2/2 [==============================] - 0s 11ms/step - loss: 17.9138 - mae: 17.9138\n",
            "Epoch 211/500\n",
            "2/2 [==============================] - 0s 10ms/step - loss: 9.8635 - mae: 9.8635\n",
            "Epoch 212/500\n",
            "2/2 [==============================] - 0s 9ms/step - loss: 18.3416 - mae: 18.3416\n",
            "Epoch 213/500\n",
            "2/2 [==============================] - 0s 8ms/step - loss: 15.0494 - mae: 15.0494\n",
            "Epoch 214/500\n",
            "2/2 [==============================] - 0s 8ms/step - loss: 14.5963 - mae: 14.5963\n",
            "Epoch 215/500\n",
            "2/2 [==============================] - 0s 8ms/step - loss: 23.3071 - mae: 23.3071\n",
            "Epoch 216/500\n",
            "2/2 [==============================] - 0s 9ms/step - loss: 13.3617 - mae: 13.3617\n",
            "Epoch 217/500\n",
            "2/2 [==============================] - 0s 8ms/step - loss: 9.8731 - mae: 9.8731\n",
            "Epoch 218/500\n",
            "2/2 [==============================] - 0s 9ms/step - loss: 12.5617 - mae: 12.5617\n",
            "Epoch 219/500\n",
            "2/2 [==============================] - 0s 9ms/step - loss: 4.9732 - mae: 4.9732\n",
            "Epoch 220/500\n",
            "2/2 [==============================] - 0s 9ms/step - loss: 7.1404 - mae: 7.1404\n",
            "Epoch 221/500\n",
            "2/2 [==============================] - 0s 8ms/step - loss: 35.4140 - mae: 35.4140\n",
            "Epoch 222/500\n",
            "2/2 [==============================] - 0s 9ms/step - loss: 34.8072 - mae: 34.8072\n",
            "Epoch 223/500\n",
            "2/2 [==============================] - 0s 10ms/step - loss: 7.9980 - mae: 7.9980\n",
            "Epoch 224/500\n",
            "2/2 [==============================] - 0s 9ms/step - loss: 14.7176 - mae: 14.7176\n",
            "Epoch 225/500\n",
            "2/2 [==============================] - 0s 9ms/step - loss: 16.7415 - mae: 16.7415\n",
            "Epoch 226/500\n",
            "2/2 [==============================] - 0s 7ms/step - loss: 15.9531 - mae: 15.9531\n",
            "Epoch 227/500\n",
            "2/2 [==============================] - 0s 8ms/step - loss: 16.1880 - mae: 16.1880\n",
            "Epoch 228/500\n",
            "2/2 [==============================] - 0s 7ms/step - loss: 9.3396 - mae: 9.3396\n",
            "Epoch 229/500\n",
            "2/2 [==============================] - 0s 9ms/step - loss: 18.0081 - mae: 18.0081\n",
            "Epoch 230/500\n",
            "2/2 [==============================] - 0s 8ms/step - loss: 15.5859 - mae: 15.5859\n",
            "Epoch 231/500\n",
            "2/2 [==============================] - 0s 11ms/step - loss: 21.1326 - mae: 21.1326\n",
            "Epoch 232/500\n",
            "2/2 [==============================] - 0s 10ms/step - loss: 25.4493 - mae: 25.4493\n",
            "Epoch 233/500\n",
            "2/2 [==============================] - 0s 9ms/step - loss: 16.4594 - mae: 16.4594\n",
            "Epoch 234/500\n",
            "2/2 [==============================] - 0s 9ms/step - loss: 7.3282 - mae: 7.3282\n",
            "Epoch 235/500\n",
            "2/2 [==============================] - 0s 10ms/step - loss: 17.1092 - mae: 17.1092\n",
            "Epoch 236/500\n",
            "2/2 [==============================] - 0s 7ms/step - loss: 7.1902 - mae: 7.1902\n",
            "Epoch 237/500\n",
            "2/2 [==============================] - 0s 12ms/step - loss: 9.2899 - mae: 9.2899\n",
            "Epoch 238/500\n",
            "2/2 [==============================] - 0s 12ms/step - loss: 8.1520 - mae: 8.1520\n",
            "Epoch 239/500\n",
            "2/2 [==============================] - 0s 10ms/step - loss: 17.1741 - mae: 17.1741\n",
            "Epoch 240/500\n",
            "2/2 [==============================] - 0s 10ms/step - loss: 8.9310 - mae: 8.9310\n",
            "Epoch 241/500\n",
            "2/2 [==============================] - 0s 8ms/step - loss: 13.2661 - mae: 13.2661\n",
            "Epoch 242/500\n",
            "2/2 [==============================] - 0s 8ms/step - loss: 8.8441 - mae: 8.8441\n",
            "Epoch 243/500\n",
            "2/2 [==============================] - 0s 7ms/step - loss: 18.9452 - mae: 18.9452\n",
            "Epoch 244/500\n",
            "2/2 [==============================] - 0s 8ms/step - loss: 14.0256 - mae: 14.0256\n",
            "Epoch 245/500\n",
            "2/2 [==============================] - 0s 8ms/step - loss: 14.6572 - mae: 14.6572\n",
            "Epoch 246/500\n",
            "2/2 [==============================] - 0s 8ms/step - loss: 15.7862 - mae: 15.7862\n",
            "Epoch 247/500\n",
            "2/2 [==============================] - 0s 8ms/step - loss: 17.6548 - mae: 17.6548\n",
            "Epoch 248/500\n",
            "2/2 [==============================] - 0s 8ms/step - loss: 13.2119 - mae: 13.2119\n",
            "Epoch 249/500\n",
            "2/2 [==============================] - 0s 7ms/step - loss: 14.4966 - mae: 14.4966\n",
            "Epoch 250/500\n",
            "2/2 [==============================] - 0s 15ms/step - loss: 23.2025 - mae: 23.2025\n",
            "Epoch 251/500\n",
            "2/2 [==============================] - 0s 11ms/step - loss: 9.3361 - mae: 9.3361\n",
            "Epoch 252/500\n",
            "2/2 [==============================] - 0s 15ms/step - loss: 36.7677 - mae: 36.7677\n",
            "Epoch 253/500\n",
            "2/2 [==============================] - 0s 7ms/step - loss: 21.9114 - mae: 21.9114\n",
            "Epoch 254/500\n",
            "2/2 [==============================] - 0s 8ms/step - loss: 7.3110 - mae: 7.3110\n",
            "Epoch 255/500\n",
            "2/2 [==============================] - 0s 9ms/step - loss: 24.7969 - mae: 24.7969\n",
            "Epoch 256/500\n",
            "2/2 [==============================] - 0s 9ms/step - loss: 12.4818 - mae: 12.4818\n",
            "Epoch 257/500\n",
            "2/2 [==============================] - 0s 11ms/step - loss: 10.6317 - mae: 10.6317\n",
            "Epoch 258/500\n",
            "2/2 [==============================] - 0s 10ms/step - loss: 14.5410 - mae: 14.5410\n",
            "Epoch 259/500\n",
            "2/2 [==============================] - 0s 9ms/step - loss: 8.6413 - mae: 8.6413\n",
            "Epoch 260/500\n",
            "2/2 [==============================] - 0s 7ms/step - loss: 43.1403 - mae: 43.1403\n",
            "Epoch 261/500\n",
            "2/2 [==============================] - 0s 9ms/step - loss: 18.5248 - mae: 18.5248\n",
            "Epoch 262/500\n",
            "2/2 [==============================] - 0s 8ms/step - loss: 6.8816 - mae: 6.8816\n",
            "Epoch 263/500\n",
            "2/2 [==============================] - 0s 9ms/step - loss: 13.7132 - mae: 13.7132\n",
            "Epoch 264/500\n",
            "2/2 [==============================] - 0s 7ms/step - loss: 20.9963 - mae: 20.9963\n",
            "Epoch 265/500\n",
            "2/2 [==============================] - 0s 8ms/step - loss: 19.4278 - mae: 19.4278\n",
            "Epoch 266/500\n",
            "2/2 [==============================] - 0s 10ms/step - loss: 11.4600 - mae: 11.4600\n",
            "Epoch 267/500\n",
            "2/2 [==============================] - 0s 8ms/step - loss: 7.5434 - mae: 7.5434\n",
            "Epoch 268/500\n",
            "2/2 [==============================] - 0s 7ms/step - loss: 21.6275 - mae: 21.6275\n",
            "Epoch 269/500\n",
            "2/2 [==============================] - 0s 7ms/step - loss: 33.2269 - mae: 33.2269\n",
            "Epoch 270/500\n",
            "2/2 [==============================] - 0s 7ms/step - loss: 10.1280 - mae: 10.1280\n",
            "Epoch 271/500\n",
            "2/2 [==============================] - 0s 8ms/step - loss: 12.1072 - mae: 12.1072\n",
            "Epoch 272/500\n",
            "2/2 [==============================] - 0s 14ms/step - loss: 26.1283 - mae: 26.1283\n",
            "Epoch 273/500\n",
            "2/2 [==============================] - 0s 7ms/step - loss: 12.2074 - mae: 12.2074\n",
            "Epoch 274/500\n",
            "2/2 [==============================] - 0s 10ms/step - loss: 13.3381 - mae: 13.3381\n",
            "Epoch 275/500\n",
            "2/2 [==============================] - 0s 11ms/step - loss: 29.3715 - mae: 29.3715\n",
            "Epoch 276/500\n",
            "2/2 [==============================] - 0s 9ms/step - loss: 7.3482 - mae: 7.3482\n",
            "Epoch 277/500\n",
            "2/2 [==============================] - 0s 9ms/step - loss: 31.1316 - mae: 31.1316\n",
            "Epoch 278/500\n",
            "2/2 [==============================] - 0s 12ms/step - loss: 12.3075 - mae: 12.3075\n",
            "Epoch 279/500\n",
            "2/2 [==============================] - 0s 7ms/step - loss: 16.4154 - mae: 16.4154\n",
            "Epoch 280/500\n",
            "2/2 [==============================] - 0s 8ms/step - loss: 21.9102 - mae: 21.9102\n",
            "Epoch 281/500\n",
            "2/2 [==============================] - 0s 10ms/step - loss: 22.1508 - mae: 22.1508\n",
            "Epoch 282/500\n",
            "2/2 [==============================] - 0s 8ms/step - loss: 7.7677 - mae: 7.7677\n",
            "Epoch 283/500\n",
            "2/2 [==============================] - 0s 9ms/step - loss: 8.1652 - mae: 8.1652\n",
            "Epoch 284/500\n",
            "2/2 [==============================] - 0s 8ms/step - loss: 24.9374 - mae: 24.9374\n",
            "Epoch 285/500\n",
            "2/2 [==============================] - 0s 7ms/step - loss: 13.6925 - mae: 13.6925\n",
            "Epoch 286/500\n",
            "2/2 [==============================] - 0s 7ms/step - loss: 6.9121 - mae: 6.9121\n",
            "Epoch 287/500\n",
            "2/2 [==============================] - 0s 9ms/step - loss: 24.5385 - mae: 24.5385\n",
            "Epoch 288/500\n",
            "2/2 [==============================] - 0s 7ms/step - loss: 20.1613 - mae: 20.1613\n",
            "Epoch 289/500\n",
            "2/2 [==============================] - 0s 7ms/step - loss: 11.9753 - mae: 11.9753\n",
            "Epoch 290/500\n",
            "2/2 [==============================] - 0s 8ms/step - loss: 16.5487 - mae: 16.5487\n",
            "Epoch 291/500\n",
            "2/2 [==============================] - 0s 8ms/step - loss: 16.8131 - mae: 16.8131\n",
            "Epoch 292/500\n",
            "2/2 [==============================] - 0s 7ms/step - loss: 9.4864 - mae: 9.4864\n",
            "Epoch 293/500\n",
            "2/2 [==============================] - 0s 9ms/step - loss: 15.2837 - mae: 15.2837\n",
            "Epoch 294/500\n",
            "2/2 [==============================] - 0s 7ms/step - loss: 22.7299 - mae: 22.7299\n",
            "Epoch 295/500\n",
            "2/2 [==============================] - 0s 10ms/step - loss: 17.9015 - mae: 17.9015\n",
            "Epoch 296/500\n",
            "2/2 [==============================] - 0s 8ms/step - loss: 6.1868 - mae: 6.1868\n",
            "Epoch 297/500\n",
            "2/2 [==============================] - 0s 8ms/step - loss: 10.9588 - mae: 10.9588\n",
            "Epoch 298/500\n",
            "2/2 [==============================] - 0s 8ms/step - loss: 23.1680 - mae: 23.1680\n",
            "Epoch 299/500\n",
            "2/2 [==============================] - 0s 6ms/step - loss: 17.7002 - mae: 17.7002\n",
            "Epoch 300/500\n",
            "2/2 [==============================] - 0s 8ms/step - loss: 6.9976 - mae: 6.9976\n",
            "Epoch 301/500\n",
            "2/2 [==============================] - 0s 8ms/step - loss: 25.1520 - mae: 25.1520\n",
            "Epoch 302/500\n",
            "2/2 [==============================] - 0s 8ms/step - loss: 8.9062 - mae: 8.9062\n",
            "Epoch 303/500\n",
            "2/2 [==============================] - 0s 7ms/step - loss: 17.7341 - mae: 17.7341\n",
            "Epoch 304/500\n",
            "2/2 [==============================] - 0s 9ms/step - loss: 11.0054 - mae: 11.0054\n",
            "Epoch 305/500\n",
            "2/2 [==============================] - 0s 8ms/step - loss: 12.8946 - mae: 12.8946\n",
            "Epoch 306/500\n",
            "2/2 [==============================] - 0s 8ms/step - loss: 8.4087 - mae: 8.4087\n",
            "Epoch 307/500\n",
            "2/2 [==============================] - 0s 7ms/step - loss: 13.3271 - mae: 13.3271\n",
            "Epoch 308/500\n",
            "2/2 [==============================] - 0s 7ms/step - loss: 8.2699 - mae: 8.2699\n",
            "Epoch 309/500\n",
            "2/2 [==============================] - 0s 6ms/step - loss: 12.2387 - mae: 12.2387\n",
            "Epoch 310/500\n",
            "2/2 [==============================] - 0s 8ms/step - loss: 4.4311 - mae: 4.4311\n",
            "Epoch 311/500\n",
            "2/2 [==============================] - 0s 9ms/step - loss: 12.0204 - mae: 12.0204\n",
            "Epoch 312/500\n",
            "2/2 [==============================] - 0s 7ms/step - loss: 29.3167 - mae: 29.3167\n",
            "Epoch 313/500\n",
            "2/2 [==============================] - 0s 9ms/step - loss: 8.8815 - mae: 8.8815\n",
            "Epoch 314/500\n",
            "2/2 [==============================] - 0s 9ms/step - loss: 6.5179 - mae: 6.5179\n",
            "Epoch 315/500\n",
            "2/2 [==============================] - 0s 7ms/step - loss: 23.9679 - mae: 23.9679\n",
            "Epoch 316/500\n",
            "2/2 [==============================] - 0s 7ms/step - loss: 16.1247 - mae: 16.1247\n",
            "Epoch 317/500\n",
            "2/2 [==============================] - 0s 8ms/step - loss: 20.5964 - mae: 20.5964\n",
            "Epoch 318/500\n",
            "2/2 [==============================] - 0s 8ms/step - loss: 8.6820 - mae: 8.6820\n",
            "Epoch 319/500\n",
            "2/2 [==============================] - 0s 8ms/step - loss: 15.2275 - mae: 15.2275\n",
            "Epoch 320/500\n",
            "2/2 [==============================] - 0s 6ms/step - loss: 8.3138 - mae: 8.3138\n",
            "Epoch 321/500\n",
            "2/2 [==============================] - 0s 8ms/step - loss: 14.6558 - mae: 14.6558\n",
            "Epoch 322/500\n",
            "2/2 [==============================] - 0s 9ms/step - loss: 12.8106 - mae: 12.8106\n",
            "Epoch 323/500\n",
            "2/2 [==============================] - 0s 8ms/step - loss: 19.0828 - mae: 19.0828\n",
            "Epoch 324/500\n",
            "2/2 [==============================] - 0s 9ms/step - loss: 17.0378 - mae: 17.0378\n",
            "Epoch 325/500\n",
            "2/2 [==============================] - 0s 7ms/step - loss: 9.2864 - mae: 9.2864\n",
            "Epoch 326/500\n",
            "2/2 [==============================] - 0s 8ms/step - loss: 19.9154 - mae: 19.9154\n",
            "Epoch 327/500\n",
            "2/2 [==============================] - 0s 7ms/step - loss: 28.1331 - mae: 28.1331\n",
            "Epoch 328/500\n",
            "2/2 [==============================] - 0s 10ms/step - loss: 11.6976 - mae: 11.6976\n",
            "Epoch 329/500\n",
            "2/2 [==============================] - 0s 6ms/step - loss: 16.3657 - mae: 16.3657\n",
            "Epoch 330/500\n",
            "2/2 [==============================] - 0s 8ms/step - loss: 7.3027 - mae: 7.3027\n",
            "Epoch 331/500\n",
            "2/2 [==============================] - 0s 8ms/step - loss: 22.6171 - mae: 22.6171\n",
            "Epoch 332/500\n",
            "2/2 [==============================] - 0s 8ms/step - loss: 13.3631 - mae: 13.3631\n",
            "Epoch 333/500\n",
            "2/2 [==============================] - 0s 8ms/step - loss: 10.1812 - mae: 10.1812\n",
            "Epoch 334/500\n",
            "2/2 [==============================] - 0s 9ms/step - loss: 6.6201 - mae: 6.6201\n",
            "Epoch 335/500\n",
            "2/2 [==============================] - 0s 10ms/step - loss: 6.2420 - mae: 6.2420\n",
            "Epoch 336/500\n",
            "2/2 [==============================] - 0s 12ms/step - loss: 34.6341 - mae: 34.6341\n",
            "Epoch 337/500\n",
            "2/2 [==============================] - 0s 8ms/step - loss: 27.0449 - mae: 27.0449\n",
            "Epoch 338/500\n",
            "2/2 [==============================] - 0s 8ms/step - loss: 14.0481 - mae: 14.0481\n",
            "Epoch 339/500\n",
            "2/2 [==============================] - 0s 8ms/step - loss: 11.6058 - mae: 11.6058\n",
            "Epoch 340/500\n",
            "2/2 [==============================] - 0s 7ms/step - loss: 8.8002 - mae: 8.8002\n",
            "Epoch 341/500\n",
            "2/2 [==============================] - 0s 8ms/step - loss: 23.4080 - mae: 23.4080\n",
            "Epoch 342/500\n",
            "2/2 [==============================] - 0s 8ms/step - loss: 14.0119 - mae: 14.0119\n",
            "Epoch 343/500\n",
            "2/2 [==============================] - 0s 9ms/step - loss: 14.7740 - mae: 14.7740\n",
            "Epoch 344/500\n",
            "2/2 [==============================] - 0s 8ms/step - loss: 13.3640 - mae: 13.3640\n",
            "Epoch 345/500\n",
            "2/2 [==============================] - 0s 8ms/step - loss: 30.9880 - mae: 30.9880\n",
            "Epoch 346/500\n",
            "2/2 [==============================] - 0s 8ms/step - loss: 10.6743 - mae: 10.6743\n",
            "Epoch 347/500\n",
            "2/2 [==============================] - 0s 7ms/step - loss: 25.6687 - mae: 25.6687\n",
            "Epoch 348/500\n",
            "2/2 [==============================] - 0s 7ms/step - loss: 13.0207 - mae: 13.0207\n",
            "Epoch 349/500\n",
            "2/2 [==============================] - 0s 8ms/step - loss: 13.1039 - mae: 13.1039\n",
            "Epoch 350/500\n",
            "2/2 [==============================] - 0s 7ms/step - loss: 15.4147 - mae: 15.4147\n",
            "Epoch 351/500\n",
            "2/2 [==============================] - 0s 9ms/step - loss: 32.9237 - mae: 32.9237\n",
            "Epoch 352/500\n",
            "2/2 [==============================] - 0s 10ms/step - loss: 14.1432 - mae: 14.1432\n",
            "Epoch 353/500\n",
            "2/2 [==============================] - 0s 6ms/step - loss: 15.8707 - mae: 15.8707\n",
            "Epoch 354/500\n",
            "2/2 [==============================] - 0s 8ms/step - loss: 18.9837 - mae: 18.9837\n",
            "Epoch 355/500\n",
            "2/2 [==============================] - 0s 7ms/step - loss: 34.4086 - mae: 34.4086\n",
            "Epoch 356/500\n",
            "2/2 [==============================] - 0s 6ms/step - loss: 8.3038 - mae: 8.3038\n",
            "Epoch 357/500\n",
            "2/2 [==============================] - 0s 10ms/step - loss: 21.9081 - mae: 21.9081\n",
            "Epoch 358/500\n",
            "2/2 [==============================] - 0s 9ms/step - loss: 20.0478 - mae: 20.0478\n",
            "Epoch 359/500\n",
            "2/2 [==============================] - 0s 8ms/step - loss: 11.0320 - mae: 11.0320\n",
            "Epoch 360/500\n",
            "2/2 [==============================] - 0s 8ms/step - loss: 20.2526 - mae: 20.2526\n",
            "Epoch 361/500\n",
            "2/2 [==============================] - 0s 10ms/step - loss: 11.0354 - mae: 11.0354\n",
            "Epoch 362/500\n",
            "2/2 [==============================] - 0s 9ms/step - loss: 6.8073 - mae: 6.8073\n",
            "Epoch 363/500\n",
            "2/2 [==============================] - 0s 9ms/step - loss: 24.0525 - mae: 24.0525\n",
            "Epoch 364/500\n",
            "2/2 [==============================] - 0s 9ms/step - loss: 29.8341 - mae: 29.8341\n",
            "Epoch 365/500\n",
            "2/2 [==============================] - 0s 9ms/step - loss: 8.3622 - mae: 8.3622\n",
            "Epoch 366/500\n",
            "2/2 [==============================] - 0s 9ms/step - loss: 6.0777 - mae: 6.0777\n",
            "Epoch 367/500\n",
            "2/2 [==============================] - 0s 10ms/step - loss: 35.0384 - mae: 35.0384\n",
            "Epoch 368/500\n",
            "2/2 [==============================] - 0s 10ms/step - loss: 7.4190 - mae: 7.4190\n",
            "Epoch 369/500\n",
            "2/2 [==============================] - 0s 7ms/step - loss: 9.6524 - mae: 9.6524\n",
            "Epoch 370/500\n",
            "2/2 [==============================] - 0s 9ms/step - loss: 7.7714 - mae: 7.7714\n",
            "Epoch 371/500\n",
            "2/2 [==============================] - 0s 10ms/step - loss: 20.0169 - mae: 20.0169\n",
            "Epoch 372/500\n",
            "2/2 [==============================] - 0s 12ms/step - loss: 12.5267 - mae: 12.5267\n",
            "Epoch 373/500\n",
            "2/2 [==============================] - 0s 12ms/step - loss: 26.4389 - mae: 26.4389\n",
            "Epoch 374/500\n",
            "2/2 [==============================] - 0s 9ms/step - loss: 9.2224 - mae: 9.2224\n",
            "Epoch 375/500\n",
            "2/2 [==============================] - 0s 10ms/step - loss: 4.8753 - mae: 4.8753\n",
            "Epoch 376/500\n",
            "2/2 [==============================] - 0s 10ms/step - loss: 17.5987 - mae: 17.5987\n",
            "Epoch 377/500\n",
            "2/2 [==============================] - 0s 14ms/step - loss: 14.2645 - mae: 14.2645\n",
            "Epoch 378/500\n",
            "2/2 [==============================] - 0s 9ms/step - loss: 15.9117 - mae: 15.9117\n",
            "Epoch 379/500\n",
            "2/2 [==============================] - 0s 15ms/step - loss: 19.9834 - mae: 19.9834\n",
            "Epoch 380/500\n",
            "2/2 [==============================] - 0s 7ms/step - loss: 36.1625 - mae: 36.1625\n",
            "Epoch 381/500\n",
            "2/2 [==============================] - 0s 8ms/step - loss: 10.2690 - mae: 10.2690\n",
            "Epoch 382/500\n",
            "2/2 [==============================] - 0s 7ms/step - loss: 5.8723 - mae: 5.8723\n",
            "Epoch 383/500\n",
            "2/2 [==============================] - 0s 9ms/step - loss: 14.8975 - mae: 14.8975\n",
            "Epoch 384/500\n",
            "2/2 [==============================] - 0s 11ms/step - loss: 16.1306 - mae: 16.1306\n",
            "Epoch 385/500\n",
            "2/2 [==============================] - 0s 11ms/step - loss: 11.6618 - mae: 11.6618\n",
            "Epoch 386/500\n",
            "2/2 [==============================] - 0s 10ms/step - loss: 20.0518 - mae: 20.0518\n",
            "Epoch 387/500\n",
            "2/2 [==============================] - 0s 9ms/step - loss: 24.1420 - mae: 24.1420\n",
            "Epoch 388/500\n",
            "2/2 [==============================] - 0s 12ms/step - loss: 7.5507 - mae: 7.5507\n",
            "Epoch 389/500\n",
            "2/2 [==============================] - 0s 9ms/step - loss: 14.2375 - mae: 14.2375\n",
            "Epoch 390/500\n",
            "2/2 [==============================] - 0s 9ms/step - loss: 8.2505 - mae: 8.2505\n",
            "Epoch 391/500\n",
            "2/2 [==============================] - 0s 11ms/step - loss: 15.5162 - mae: 15.5162\n",
            "Epoch 392/500\n",
            "2/2 [==============================] - 0s 9ms/step - loss: 17.1557 - mae: 17.1557\n",
            "Epoch 393/500\n",
            "2/2 [==============================] - 0s 10ms/step - loss: 10.5159 - mae: 10.5159\n",
            "Epoch 394/500\n",
            "2/2 [==============================] - 0s 10ms/step - loss: 14.0690 - mae: 14.0690\n",
            "Epoch 395/500\n",
            "2/2 [==============================] - 0s 9ms/step - loss: 28.4242 - mae: 28.4242\n",
            "Epoch 396/500\n",
            "2/2 [==============================] - 0s 9ms/step - loss: 8.4894 - mae: 8.4894\n",
            "Epoch 397/500\n",
            "2/2 [==============================] - 0s 9ms/step - loss: 11.2953 - mae: 11.2953\n",
            "Epoch 398/500\n",
            "2/2 [==============================] - 0s 8ms/step - loss: 6.8911 - mae: 6.8911\n",
            "Epoch 399/500\n",
            "2/2 [==============================] - 0s 9ms/step - loss: 14.1679 - mae: 14.1679\n",
            "Epoch 400/500\n",
            "2/2 [==============================] - 0s 10ms/step - loss: 6.6925 - mae: 6.6925\n",
            "Epoch 401/500\n",
            "2/2 [==============================] - 0s 11ms/step - loss: 7.9988 - mae: 7.9988\n",
            "Epoch 402/500\n",
            "2/2 [==============================] - 0s 9ms/step - loss: 16.4702 - mae: 16.4702\n",
            "Epoch 403/500\n",
            "2/2 [==============================] - 0s 10ms/step - loss: 12.3232 - mae: 12.3232\n",
            "Epoch 404/500\n",
            "2/2 [==============================] - 0s 8ms/step - loss: 22.8966 - mae: 22.8966\n",
            "Epoch 405/500\n",
            "2/2 [==============================] - 0s 10ms/step - loss: 18.1804 - mae: 18.1804\n",
            "Epoch 406/500\n",
            "2/2 [==============================] - 0s 8ms/step - loss: 7.0435 - mae: 7.0435\n",
            "Epoch 407/500\n",
            "2/2 [==============================] - 0s 9ms/step - loss: 12.7010 - mae: 12.7010\n",
            "Epoch 408/500\n",
            "2/2 [==============================] - 0s 11ms/step - loss: 5.6375 - mae: 5.6375\n",
            "Epoch 409/500\n",
            "2/2 [==============================] - 0s 10ms/step - loss: 31.3952 - mae: 31.3952\n",
            "Epoch 410/500\n",
            "2/2 [==============================] - 0s 8ms/step - loss: 9.1984 - mae: 9.1984\n",
            "Epoch 411/500\n",
            "2/2 [==============================] - 0s 10ms/step - loss: 14.8311 - mae: 14.8311\n",
            "Epoch 412/500\n",
            "2/2 [==============================] - 0s 11ms/step - loss: 21.6884 - mae: 21.6884\n",
            "Epoch 413/500\n",
            "2/2 [==============================] - 0s 11ms/step - loss: 12.6940 - mae: 12.6940\n",
            "Epoch 414/500\n",
            "2/2 [==============================] - 0s 11ms/step - loss: 6.0020 - mae: 6.0020\n",
            "Epoch 415/500\n",
            "2/2 [==============================] - 0s 9ms/step - loss: 13.2049 - mae: 13.2049\n",
            "Epoch 416/500\n",
            "2/2 [==============================] - 0s 11ms/step - loss: 27.3938 - mae: 27.3938\n",
            "Epoch 417/500\n",
            "2/2 [==============================] - 0s 9ms/step - loss: 10.7153 - mae: 10.7153\n",
            "Epoch 418/500\n",
            "2/2 [==============================] - 0s 8ms/step - loss: 12.7798 - mae: 12.7798\n",
            "Epoch 419/500\n",
            "2/2 [==============================] - 0s 12ms/step - loss: 15.8405 - mae: 15.8405\n",
            "Epoch 420/500\n",
            "2/2 [==============================] - 0s 10ms/step - loss: 24.6908 - mae: 24.6908\n",
            "Epoch 421/500\n",
            "2/2 [==============================] - 0s 10ms/step - loss: 17.6229 - mae: 17.6229\n",
            "Epoch 422/500\n",
            "2/2 [==============================] - 0s 10ms/step - loss: 8.6723 - mae: 8.6723\n",
            "Epoch 423/500\n",
            "2/2 [==============================] - 0s 10ms/step - loss: 24.8723 - mae: 24.8723\n",
            "Epoch 424/500\n",
            "2/2 [==============================] - 0s 9ms/step - loss: 16.3445 - mae: 16.3445\n",
            "Epoch 425/500\n",
            "2/2 [==============================] - 0s 10ms/step - loss: 7.1339 - mae: 7.1339\n",
            "Epoch 426/500\n",
            "2/2 [==============================] - 0s 11ms/step - loss: 20.4712 - mae: 20.4712\n",
            "Epoch 427/500\n",
            "2/2 [==============================] - 0s 8ms/step - loss: 6.3137 - mae: 6.3137\n",
            "Epoch 428/500\n",
            "2/2 [==============================] - 0s 9ms/step - loss: 13.1194 - mae: 13.1194\n",
            "Epoch 429/500\n",
            "2/2 [==============================] - 0s 11ms/step - loss: 10.8919 - mae: 10.8919\n",
            "Epoch 430/500\n",
            "2/2 [==============================] - 0s 11ms/step - loss: 11.7636 - mae: 11.7636\n",
            "Epoch 431/500\n",
            "2/2 [==============================] - 0s 10ms/step - loss: 7.8970 - mae: 7.8970\n",
            "Epoch 432/500\n",
            "2/2 [==============================] - 0s 10ms/step - loss: 22.2261 - mae: 22.2261\n",
            "Epoch 433/500\n",
            "2/2 [==============================] - 0s 8ms/step - loss: 5.8849 - mae: 5.8849\n",
            "Epoch 434/500\n",
            "2/2 [==============================] - 0s 10ms/step - loss: 32.6408 - mae: 32.6408\n",
            "Epoch 435/500\n",
            "2/2 [==============================] - 0s 12ms/step - loss: 13.4582 - mae: 13.4582\n",
            "Epoch 436/500\n",
            "2/2 [==============================] - 0s 11ms/step - loss: 29.0392 - mae: 29.0392\n",
            "Epoch 437/500\n",
            "2/2 [==============================] - 0s 11ms/step - loss: 9.1216 - mae: 9.1216\n",
            "Epoch 438/500\n",
            "2/2 [==============================] - 0s 11ms/step - loss: 12.6481 - mae: 12.6481\n",
            "Epoch 439/500\n",
            "2/2 [==============================] - 0s 7ms/step - loss: 33.4961 - mae: 33.4961\n",
            "Epoch 440/500\n",
            "2/2 [==============================] - 0s 10ms/step - loss: 14.7946 - mae: 14.7946\n",
            "Epoch 441/500\n",
            "2/2 [==============================] - 0s 9ms/step - loss: 17.2519 - mae: 17.2519\n",
            "Epoch 442/500\n",
            "2/2 [==============================] - 0s 9ms/step - loss: 21.8446 - mae: 21.8446\n",
            "Epoch 443/500\n",
            "2/2 [==============================] - 0s 8ms/step - loss: 24.6769 - mae: 24.6769\n",
            "Epoch 444/500\n",
            "2/2 [==============================] - 0s 11ms/step - loss: 11.8657 - mae: 11.8657\n",
            "Epoch 445/500\n",
            "2/2 [==============================] - 0s 9ms/step - loss: 14.6337 - mae: 14.6337\n",
            "Epoch 446/500\n",
            "2/2 [==============================] - 0s 10ms/step - loss: 17.5865 - mae: 17.5865\n",
            "Epoch 447/500\n",
            "2/2 [==============================] - 0s 8ms/step - loss: 5.8073 - mae: 5.8073\n",
            "Epoch 448/500\n",
            "2/2 [==============================] - 0s 10ms/step - loss: 9.3317 - mae: 9.3317\n",
            "Epoch 449/500\n",
            "2/2 [==============================] - 0s 11ms/step - loss: 14.0283 - mae: 14.0283\n",
            "Epoch 450/500\n",
            "2/2 [==============================] - 0s 10ms/step - loss: 16.7901 - mae: 16.7901\n",
            "Epoch 451/500\n",
            "2/2 [==============================] - 0s 10ms/step - loss: 14.2806 - mae: 14.2806\n",
            "Epoch 452/500\n",
            "2/2 [==============================] - 0s 9ms/step - loss: 30.6413 - mae: 30.6413\n",
            "Epoch 453/500\n",
            "2/2 [==============================] - 0s 9ms/step - loss: 7.6117 - mae: 7.6117\n",
            "Epoch 454/500\n",
            "2/2 [==============================] - 0s 8ms/step - loss: 28.1482 - mae: 28.1482\n",
            "Epoch 455/500\n",
            "2/2 [==============================] - 0s 8ms/step - loss: 8.1908 - mae: 8.1908\n",
            "Epoch 456/500\n",
            "2/2 [==============================] - 0s 9ms/step - loss: 12.0617 - mae: 12.0617\n",
            "Epoch 457/500\n",
            "2/2 [==============================] - 0s 8ms/step - loss: 15.4558 - mae: 15.4558\n",
            "Epoch 458/500\n",
            "2/2 [==============================] - 0s 7ms/step - loss: 17.0314 - mae: 17.0314\n",
            "Epoch 459/500\n",
            "2/2 [==============================] - 0s 8ms/step - loss: 15.1898 - mae: 15.1898\n",
            "Epoch 460/500\n",
            "2/2 [==============================] - 0s 7ms/step - loss: 7.4100 - mae: 7.4100\n",
            "Epoch 461/500\n",
            "2/2 [==============================] - 0s 8ms/step - loss: 15.7016 - mae: 15.7016\n",
            "Epoch 462/500\n",
            "2/2 [==============================] - 0s 9ms/step - loss: 15.1883 - mae: 15.1883\n",
            "Epoch 463/500\n",
            "2/2 [==============================] - 0s 9ms/step - loss: 16.8288 - mae: 16.8288\n",
            "Epoch 464/500\n",
            "2/2 [==============================] - 0s 10ms/step - loss: 11.2430 - mae: 11.2430\n",
            "Epoch 465/500\n",
            "2/2 [==============================] - 0s 9ms/step - loss: 21.5621 - mae: 21.5621\n",
            "Epoch 466/500\n",
            "2/2 [==============================] - 0s 10ms/step - loss: 24.9853 - mae: 24.9853\n",
            "Epoch 467/500\n",
            "2/2 [==============================] - 0s 9ms/step - loss: 14.8194 - mae: 14.8194\n",
            "Epoch 468/500\n",
            "2/2 [==============================] - 0s 9ms/step - loss: 10.3556 - mae: 10.3556\n",
            "Epoch 469/500\n",
            "2/2 [==============================] - 0s 10ms/step - loss: 27.3733 - mae: 27.3733\n",
            "Epoch 470/500\n",
            "2/2 [==============================] - 0s 8ms/step - loss: 12.4003 - mae: 12.4003\n",
            "Epoch 471/500\n",
            "2/2 [==============================] - 0s 9ms/step - loss: 12.0757 - mae: 12.0757\n",
            "Epoch 472/500\n",
            "2/2 [==============================] - 0s 9ms/step - loss: 15.5041 - mae: 15.5041\n",
            "Epoch 473/500\n",
            "2/2 [==============================] - 0s 8ms/step - loss: 15.5081 - mae: 15.5081\n",
            "Epoch 474/500\n",
            "2/2 [==============================] - 0s 8ms/step - loss: 20.2530 - mae: 20.2530\n",
            "Epoch 475/500\n",
            "2/2 [==============================] - 0s 9ms/step - loss: 5.0347 - mae: 5.0347\n",
            "Epoch 476/500\n",
            "2/2 [==============================] - 0s 8ms/step - loss: 13.3341 - mae: 13.3341\n",
            "Epoch 477/500\n",
            "2/2 [==============================] - 0s 8ms/step - loss: 29.5701 - mae: 29.5701\n",
            "Epoch 478/500\n",
            "2/2 [==============================] - 0s 8ms/step - loss: 3.6715 - mae: 3.6715\n",
            "Epoch 479/500\n",
            "2/2 [==============================] - 0s 7ms/step - loss: 16.2316 - mae: 16.2316\n",
            "Epoch 480/500\n",
            "2/2 [==============================] - 0s 8ms/step - loss: 3.8357 - mae: 3.8357\n",
            "Epoch 481/500\n",
            "2/2 [==============================] - 0s 9ms/step - loss: 15.0593 - mae: 15.0593\n",
            "Epoch 482/500\n",
            "2/2 [==============================] - 0s 8ms/step - loss: 24.5407 - mae: 24.5407\n",
            "Epoch 483/500\n",
            "2/2 [==============================] - 0s 8ms/step - loss: 18.5262 - mae: 18.5262\n",
            "Epoch 484/500\n",
            "2/2 [==============================] - 0s 9ms/step - loss: 16.6036 - mae: 16.6036\n",
            "Epoch 485/500\n",
            "2/2 [==============================] - 0s 9ms/step - loss: 9.7460 - mae: 9.7460\n",
            "Epoch 486/500\n",
            "2/2 [==============================] - 0s 7ms/step - loss: 17.9511 - mae: 17.9511\n",
            "Epoch 487/500\n",
            "2/2 [==============================] - 0s 8ms/step - loss: 10.8642 - mae: 10.8642\n",
            "Epoch 488/500\n",
            "2/2 [==============================] - 0s 8ms/step - loss: 27.0246 - mae: 27.0246\n",
            "Epoch 489/500\n",
            "2/2 [==============================] - 0s 9ms/step - loss: 5.2954 - mae: 5.2954\n",
            "Epoch 490/500\n",
            "2/2 [==============================] - 0s 9ms/step - loss: 6.0344 - mae: 6.0344\n",
            "Epoch 491/500\n",
            "2/2 [==============================] - 0s 10ms/step - loss: 19.1676 - mae: 19.1676\n",
            "Epoch 492/500\n",
            "2/2 [==============================] - 0s 9ms/step - loss: 7.3600 - mae: 7.3600\n",
            "Epoch 493/500\n",
            "2/2 [==============================] - 0s 8ms/step - loss: 18.2215 - mae: 18.2215\n",
            "Epoch 494/500\n",
            "2/2 [==============================] - 0s 8ms/step - loss: 18.3861 - mae: 18.3861\n",
            "Epoch 495/500\n",
            "2/2 [==============================] - 0s 11ms/step - loss: 6.7099 - mae: 6.7099\n",
            "Epoch 496/500\n",
            "2/2 [==============================] - 0s 9ms/step - loss: 7.3729 - mae: 7.3729\n",
            "Epoch 497/500\n",
            "2/2 [==============================] - 0s 9ms/step - loss: 16.9179 - mae: 16.9179\n",
            "Epoch 498/500\n",
            "2/2 [==============================] - 0s 10ms/step - loss: 24.6889 - mae: 24.6889\n",
            "Epoch 499/500\n",
            "2/2 [==============================] - 0s 10ms/step - loss: 19.0154 - mae: 19.0154\n",
            "Epoch 500/500\n",
            "2/2 [==============================] - 0s 9ms/step - loss: 14.1117 - mae: 14.1117\n"
          ]
        },
        {
          "output_type": "execute_result",
          "data": {
            "text/plain": [
              "<keras.src.callbacks.History at 0x7c9348449630>"
            ]
          },
          "metadata": {},
          "execution_count": 29
        }
      ]
    },
    {
      "cell_type": "code",
      "source": [
        "#Visualize the models predictions\n",
        "y_preds_model_3 = model_3.predict(X_test) #Run predictions on the test dataset\n",
        "plot_predictions(predictions=y_preds_model_3)\n",
        "\n",
        "#Calculate models prediction metrics\n",
        "mae_3 = mae(Y_test, y_preds_model_3)\n",
        "mse_3 = mse(Y_test, y_preds_model_3)\n",
        "print(mae_3, mse_3)"
      ],
      "metadata": {
        "colab": {
          "base_uri": "https://localhost:8080/",
          "height": 671
        },
        "id": "UfdF0n46pQbl",
        "outputId": "026f4fa3-d51a-406a-c772-e05f799e6265"
      },
      "execution_count": null,
      "outputs": [
        {
          "output_type": "stream",
          "name": "stderr",
          "text": [
            "WARNING:tensorflow:6 out of the last 6 calls to <function Model.make_predict_function.<locals>.predict_function at 0x7c9348525630> triggered tf.function retracing. Tracing is expensive and the excessive number of tracings could be due to (1) creating @tf.function repeatedly in a loop, (2) passing tensors with different shapes, (3) passing Python objects instead of tensors. For (1), please define your @tf.function outside of the loop. For (2), @tf.function has reduce_retracing=True option that can avoid unnecessary retracing. For (3), please refer to https://www.tensorflow.org/guide/function#controlling_retracing and https://www.tensorflow.org/api_docs/python/tf/function for  more details.\n"
          ]
        },
        {
          "output_type": "stream",
          "name": "stdout",
          "text": [
            "1/1 [==============================] - 0s 117ms/step\n",
            "tf.Tensor(66.99599, shape=(), dtype=float32) tf.Tensor(4570.8804, shape=(), dtype=float32)\n"
          ]
        },
        {
          "output_type": "display_data",
          "data": {
            "text/plain": [
              "<Figure size 1000x700 with 1 Axes>"
            ],
            "image/png": "[encoded data removed]"
          },
          "metadata": {}
        }
      ]
    },
    {
      "cell_type": "markdown",
      "source": [
        "### Comparing the Results of our model\n",
        "* How can we organize and compare the performance results of our models"
      ],
      "metadata": {
        "id": "v3SPYHcBz1zT"
      }
    },
    {
      "cell_type": "code",
      "source": [
        "#Lets compare our models results by using a pandas dataframe\n",
        "\n",
        "#First lets store our models results in a list of lists\n",
        "model_results = [[\"Model_1\", mae_1.numpy(), mse_1.numpy()],\n",
        "                 [\"Model_2\", mae_2.numpy(), mse_1.numpy()],\n",
        "                 [\"Model_3\",mae_3.numpy(), mse_3.numpy()]]  #.numpy() in this case returns only the numeric values within the tensor since its converted to numpy array\n",
        "\n",
        "#Places our results in a dataframe and specifies columns name to have data stored in a readable manner\n",
        "all_results = pd.DataFrame(model_results, columns=[\"Model\", \"mae\", \"mse\"])\n",
        "\n",
        "print(all_results)"
      ],
      "metadata": {
        "colab": {
          "base_uri": "https://localhost:8080/"
        },
        "id": "G8FxU6Cqz-Ha",
        "outputId": "b5201f76-95bf-40fd-fa15-67585a7ae741"
      },
      "execution_count": null,
      "outputs": [
        {
          "output_type": "stream",
          "name": "stdout",
          "text": [
            "     Model        mae          mse\n",
            "0  Model_1  21.348328   459.208740\n",
            "1  Model_2  29.618567   459.208740\n",
            "2  Model_3  66.995987  4570.880371\n"
          ]
        }
      ]
    },
    {
      "cell_type": "code",
      "source": [
        "model_1.summary()\n",
        "model_2.summary()\n",
        "model_3.summary()\n",
        "#Looks like model 2 performed the best"
      ],
      "metadata": {
        "colab": {
          "base_uri": "https://localhost:8080/"
        },
        "id": "af48MmQj19Tf",
        "outputId": "24bb7a13-4258-4045-96bc-ac92474449d3"
      },
      "execution_count": null,
      "outputs": [
        {
          "output_type": "stream",
          "name": "stdout",
          "text": [
            "Model: \"model_1\"\n",
            "_________________________________________________________________\n",
            " Layer (type)                Output Shape              Param #   \n",
            "=================================================================\n",
            " Input_Layer (Dense)         (None, 1)                 2         \n",
            "                                                                 \n",
            "=================================================================\n",
            "Total params: 2 (8.00 Byte)\n",
            "Trainable params: 2 (8.00 Byte)\n",
            "Non-trainable params: 0 (0.00 Byte)\n",
            "_________________________________________________________________\n",
            "Model: \"model_2\"\n",
            "_________________________________________________________________\n",
            " Layer (type)                Output Shape              Param #   \n",
            "=================================================================\n",
            " input_layer (Dense)         (None, 10)                20        \n",
            "                                                                 \n",
            " output_layer (Dense)        (None, 1)                 11        \n",
            "                                                                 \n",
            "=================================================================\n",
            "Total params: 31 (124.00 Byte)\n",
            "Trainable params: 31 (124.00 Byte)\n",
            "Non-trainable params: 0 (0.00 Byte)\n",
            "_________________________________________________________________\n",
            "Model: \"Model_3\"\n",
            "_________________________________________________________________\n",
            " Layer (type)                Output Shape              Param #   \n",
            "=================================================================\n",
            " Input_3 (Dense)             (None, 1)                 2         \n",
            "                                                                 \n",
            " Output_3 (Dense)            (None, 1)                 2         \n",
            "                                                                 \n",
            "=================================================================\n",
            "Total params: 4 (16.00 Byte)\n",
            "Trainable params: 4 (16.00 Byte)\n",
            "Non-trainable params: 0 (0.00 Byte)\n",
            "_________________________________________________________________\n"
          ]
        }
      ]
    },
    {
      "cell_type": "markdown",
      "source": [
        "**One of the main goal in ML in to minimize the time between experiments. The more experiments you do, the more things youll figure out which dont work. In turn when you figure out what doesnt work, youll get closer to figuring out what does work. Remember the machine learning practitioners motto: Experiment, Experiment, Experiment**"
      ],
      "metadata": {
        "id": "BgTLEEOA2jhB"
      }
    },
    {
      "cell_type": "markdown",
      "source": [
        "### Tracking Your Experiment\n",
        "One really good habit in machine learning modeling is to track the results of your experiments. When doing so it can be tedious if your running lots of experiments. Luckily, there are tools for that.\n",
        "\n",
        "**Resources -**As You build more models youll want to look into:\n",
        "* **TensorBoard** - A component of the tensorflow libary that helps track modeling experiments.(A `TensorFlow` visualization toolkit)\n",
        "* **Weights & Biases** - A tool for tracking all kinds of machine learnin experiments(plugs straight into `TensorBoard`).\n"
      ],
      "metadata": {
        "id": "tdRWwpkn6K64"
      }
    },
    {
      "cell_type": "markdown",
      "source": [
        "### Saving our models\n",
        "Saving our models allows us to use them outside of google colab (or where ever they were trained) such as in a web application or a mobile app.\n",
        "\n",
        "*An entire model can be saved in three different file formats (the new `.keras `format and two legacy formats: `SavedModel`, and `HDF5`). Saving a model as path/to/model.keras automatically saves in the latest format.\n",
        "* Note: For Keras objects it's recommended to use the new high-level .keras format for richer, name-based saving and reloading, which is easier to debug. The low-level SavedModel format and legacy H5 format continue to be supported for existing code."
      ],
      "metadata": {
        "id": "8GRoNXQB8gRW"
      }
    },
    {
      "cell_type": "code",
      "source": [
        "#Saves model using .keras format\n",
        "model_2.save('my_model_save_test.keras')\n",
        "\n",
        "#Saves model using savemode format (good for if your using this model only in tensorflow)\n",
        "model_2.save('my_model_save_test')\n",
        "\n",
        "#Saves model in HDF5 format (good for if you want to use the model outside of tensorflow). This is considered old and .keras is now preferred\n",
        "model_2.save('my_model_save_test.h5')\n"
      ],
      "metadata": {
        "colab": {
          "base_uri": "https://localhost:8080/"
        },
        "id": "Bzbt9GniJCMg",
        "outputId": "7dc54c6d-68d7-4521-a47a-b340bf8c1607"
      },
      "execution_count": null,
      "outputs": [
        {
          "output_type": "stream",
          "name": "stderr",
          "text": [
            "/usr/local/lib/python3.10/dist-packages/keras/src/engine/training.py:3103: UserWarning: You are saving your model as an HDF5 file via `model.save()`. This file format is considered legacy. We recommend using instead the native Keras format, e.g. `model.save('my_model.keras')`.\n",
            "  saving_api.save_model(\n"
          ]
        }
      ]
    },
    {
      "cell_type": "markdown",
      "source": [
        "### Loading a saved model"
      ],
      "metadata": {
        "id": "C8xIh01pL3En"
      }
    },
    {
      "cell_type": "code",
      "source": [
        "loaded_saved_model = tf.keras.models.load_model(\"my_model_save_test.keras\")\n",
        "loaded_saved_model.summary()"
      ],
      "metadata": {
        "colab": {
          "base_uri": "https://localhost:8080/"
        },
        "id": "qZG3WdJCL5OH",
        "outputId": "a6a9adfd-7b0c-48b1-f776-6d228e501a72"
      },
      "execution_count": null,
      "outputs": [
        {
          "output_type": "stream",
          "name": "stdout",
          "text": [
            "Model: \"model_2\"\n",
            "_________________________________________________________________\n",
            " Layer (type)                Output Shape              Param #   \n",
            "=================================================================\n",
            " input_layer (Dense)         (None, 10)                20        \n",
            "                                                                 \n",
            " output_layer (Dense)        (None, 1)                 11        \n",
            "                                                                 \n",
            "=================================================================\n",
            "Total params: 31 (124.00 Byte)\n",
            "Trainable params: 31 (124.00 Byte)\n",
            "Non-trainable params: 0 (0.00 Byte)\n",
            "_________________________________________________________________\n"
          ]
        }
      ]
    },
    {
      "cell_type": "code",
      "source": [
        "model_2_preds = model_2.predict(X_test)\n",
        "loaded_save_model_preds = loaded_saved_model.predict(X_test)\n",
        "\n",
        "#The saved model is the same as the original model so no need for anything lost\n",
        "print(model_2_preds == loaded_save_model_preds)"
      ],
      "metadata": {
        "colab": {
          "base_uri": "https://localhost:8080/"
        },
        "id": "Q4rIdJ0cqTPw",
        "outputId": "0980ab9a-9e8c-4062-f63d-39676861c8a7"
      },
      "execution_count": null,
      "outputs": [
        {
          "output_type": "stream",
          "name": "stdout",
          "text": [
            "1/1 [==============================] - 0s 16ms/step\n",
            "1/1 [==============================] - 0s 16ms/step\n",
            "[[ True]\n",
            " [ True]\n",
            " [ True]\n",
            " [ True]\n",
            " [ True]\n",
            " [ True]\n",
            " [ True]\n",
            " [ True]\n",
            " [ True]\n",
            " [ True]]\n"
          ]
        }
      ]
    },
    {
      "cell_type": "markdown",
      "source": [
        "### Creating a Regression Model thats trained on a larger dataset\n",
        "**Medical Cost Dataset** - We will use the data provided in this dataset to predict the medical cost that one may endure."
      ],
      "metadata": {
        "id": "JSzs1Ygowok9"
      }
    },
    {
      "cell_type": "code",
      "source": [
        "#Import the required libaries\n",
        "import tensorflow as tf\n",
        "import pandas as pd\n",
        "import matplotlib.pyplot as plt\n",
        "from sklearn.model_selection import train_test_split  #Used to create training and testing sets\n"
      ],
      "metadata": {
        "id": "1jTG3woOxigo"
      },
      "execution_count": null,
      "outputs": []
    },
    {
      "cell_type": "code",
      "source": [
        "#pd.read_csv will read the csv from the 'raw' github hyperlink\n",
        "insurance = pd.read_csv(\"https://raw.githubusercontent.com/stedy/Machine-Learning-with-R-datasets/master/insurance.csv\")\n",
        "print(insurance)\n",
        "#We want to understand the relationship between the features(age, sex, bmi, children, smoker, region) and the label(charges)\n",
        "\n"
      ],
      "metadata": {
        "colab": {
          "base_uri": "https://localhost:8080/"
        },
        "id": "L70MDbx0yGRG",
        "outputId": "19e0531b-f931-4b61-aec6-4ecac8c0e645"
      },
      "execution_count": null,
      "outputs": [
        {
          "output_type": "stream",
          "name": "stdout",
          "text": [
            "      age     sex     bmi  children smoker     region      charges\n",
            "0      19  female  27.900         0    yes  southwest  16884.92400\n",
            "1      18    male  33.770         1     no  southeast   1725.55230\n",
            "2      28    male  33.000         3     no  southeast   4449.46200\n",
            "3      33    male  22.705         0     no  northwest  21984.47061\n",
            "4      32    male  28.880         0     no  northwest   3866.85520\n",
            "...   ...     ...     ...       ...    ...        ...          ...\n",
            "1333   50    male  30.970         3     no  northwest  10600.54830\n",
            "1334   18  female  31.920         0     no  northeast   2205.98080\n",
            "1335   18  female  36.850         0     no  southeast   1629.83350\n",
            "1336   21  female  25.800         0     no  southwest   2007.94500\n",
            "1337   61  female  29.070         0    yes  northwest  29141.36030\n",
            "\n",
            "[1338 rows x 7 columns]\n"
          ]
        }
      ]
    },
    {
      "cell_type": "markdown",
      "source": [
        "### Converting the data in the dataset so that the model can analyze it\n",
        "\n",
        "* First we will have to convert all the non numerical data into numerical data.To do so we will implement **One Hot Encoding**.\n"
      ],
      "metadata": {
        "id": "rDFz6ZU8zMqh"
      }
    },
    {
      "cell_type": "code",
      "source": [
        "#Used the one hot encode the specified column of the given dataframe. Prefix is optional\n",
        "pd.get_dummies(insurance[\"sex\"], prefix=\"Gender\")\n",
        "\n",
        "#Uses on hot encoding on all non numeric categorical data in the dataframe\n",
        "insurance_one_hot = pd.get_dummies(insurance)\n",
        "\n",
        "print(insurance_one_hot.head())"
      ],
      "metadata": {
        "colab": {
          "base_uri": "https://localhost:8080/"
        },
        "id": "3ZhdHCG_zYqI",
        "outputId": "2b8ec101-6a5e-49a6-c811-59ae1daacebd"
      },
      "execution_count": null,
      "outputs": [
        {
          "output_type": "stream",
          "name": "stdout",
          "text": [
            "   age     bmi  children      charges  sex_female  sex_male  smoker_no  \\\n",
            "0   19  27.900         0  16884.92400           1         0          0   \n",
            "1   18  33.770         1   1725.55230           0         1          1   \n",
            "2   28  33.000         3   4449.46200           0         1          1   \n",
            "3   33  22.705         0  21984.47061           0         1          1   \n",
            "4   32  28.880         0   3866.85520           0         1          1   \n",
            "\n",
            "   smoker_yes  region_northeast  region_northwest  region_southeast  \\\n",
            "0           1                 0                 0                 0   \n",
            "1           0                 0                 0                 1   \n",
            "2           0                 0                 0                 1   \n",
            "3           0                 0                 1                 0   \n",
            "4           0                 0                 1                 0   \n",
            "\n",
            "   region_southwest  \n",
            "0                 1  \n",
            "1                 0  \n",
            "2                 0  \n",
            "3                 0  \n",
            "4                 0  \n"
          ]
        }
      ]
    },
    {
      "cell_type": "markdown",
      "source": [
        "### Create the X and Y variable from the dataset so that we can make training and testing datasets"
      ],
      "metadata": {
        "id": "e2f7rPrpB_WU"
      }
    },
    {
      "cell_type": "code",
      "source": [
        "X = insurance_one_hot.drop(\"charges\", axis=1) #Assigns all the columns but the dropped chrages column to the X variable\n",
        "Y = insurance_one_hot[\"charges\"] #Assigns only the charges column to the Y variable\n",
        "\n",
        "#Visualize the data\n",
        "print(X.head(), Y.head())"
      ],
      "metadata": {
        "colab": {
          "base_uri": "https://localhost:8080/"
        },
        "id": "Olu2GotYCG9P",
        "outputId": "4266b7e2-b7fb-4867-8f94-af2a4ffa7b63"
      },
      "execution_count": null,
      "outputs": [
        {
          "output_type": "stream",
          "name": "stdout",
          "text": [
            "   age     bmi  children  sex_female  sex_male  smoker_no  smoker_yes  \\\n",
            "0   19  27.900         0           1         0          0           1   \n",
            "1   18  33.770         1           0         1          1           0   \n",
            "2   28  33.000         3           0         1          1           0   \n",
            "3   33  22.705         0           0         1          1           0   \n",
            "4   32  28.880         0           0         1          1           0   \n",
            "\n",
            "   region_northeast  region_northwest  region_southeast  region_southwest  \n",
            "0                 0                 0                 0                 1  \n",
            "1                 0                 0                 1                 0  \n",
            "2                 0                 0                 1                 0  \n",
            "3                 0                 1                 0                 0  \n",
            "4                 0                 1                 0                 0   0    16884.92400\n",
            "1     1725.55230\n",
            "2     4449.46200\n",
            "3    21984.47061\n",
            "4     3866.85520\n",
            "Name: charges, dtype: float64\n"
          ]
        }
      ]
    },
    {
      "cell_type": "markdown",
      "source": [
        "### Creating the Testing and Training Datasets from the Features(X) and the Labels(Y)"
      ],
      "metadata": {
        "id": "_fCDr6yrCvHk"
      }
    },
    {
      "cell_type": "code",
      "source": [
        "#Notice that X is a matrix and Y is a vector\n",
        "X_train, X_test, Y_train, Y_test = train_test_split(X, Y, test_size=0.2, random_state=42)\n",
        "#We need to set the random state to make sure that the data is split in the same way each time\n",
        "#We say that the test_size=0.2 so the the train test split is 80%-20%\n",
        "\n",
        "len(X), len(X_train), len(X_test)"
      ],
      "metadata": {
        "colab": {
          "base_uri": "https://localhost:8080/"
        },
        "id": "137ZyjOcC3jC",
        "outputId": "a05fb3a0-65e1-472f-f8e9-e70e1f5ffbdd"
      },
      "execution_count": null,
      "outputs": [
        {
          "output_type": "execute_result",
          "data": {
            "text/plain": [
              "(1338, 1070, 268)"
            ]
          },
          "metadata": {},
          "execution_count": 14
        }
      ]
    },
    {
      "cell_type": "markdown",
      "source": [
        "### Create a neural network to take in the data and preform predictions"
      ],
      "metadata": {
        "id": "5tBVs0n0JhR4"
      }
    },
    {
      "cell_type": "code",
      "source": [
        "#Set the seed for reproducibility\n",
        "tf.random.set_seed(42)\n",
        "\n",
        "#1. Create the model\n",
        "insurance_model = tf.keras.Sequential([\n",
        "    tf.keras.layers.Dense(10),\n",
        "    tf.keras.layers.Dense(1)\n",
        "])\n",
        "\n",
        "#2. Compile the model\n",
        "insurance_model.compile(loss=tf.keras.losses.mae,\n",
        "                        optimizer=tf.keras.optimizers.SGD(),\n",
        "                        metrics=[\"mae\"])\n",
        "\n",
        "#3 Train/fit the model to the data\n",
        "insurance_model.fit(X_train, Y_train, epochs=100)\n",
        "#Pandas is built on top of numpy, so you can think of a dataframe as a big numpy array. That also means that where numpy\n",
        "#arrays can be used, pandas dataframes can be used meaning that pandas is very compatible with tensorflow\n"
      ],
      "metadata": {
        "colab": {
          "base_uri": "https://localhost:8080/"
        },
        "id": "aQ6s31YcJni-",
        "outputId": "7cb0666a-4ec3-4990-e7ea-e7eecaf49d94"
      },
      "execution_count": null,
      "outputs": [
        {
          "output_type": "stream",
          "name": "stdout",
          "text": [
            "Epoch 1/100\n",
            "34/34 [==============================] - 0s 2ms/step - loss: 8656.5312 - mae: 8656.5312\n",
            "Epoch 2/100\n",
            "34/34 [==============================] - 0s 2ms/step - loss: 7884.8916 - mae: 7884.8916\n",
            "Epoch 3/100\n",
            "34/34 [==============================] - 0s 2ms/step - loss: 7594.0073 - mae: 7594.0073\n",
            "Epoch 4/100\n",
            "34/34 [==============================] - 0s 2ms/step - loss: 7684.7881 - mae: 7684.7881\n",
            "Epoch 5/100\n",
            "34/34 [==============================] - 0s 2ms/step - loss: 7728.2764 - mae: 7728.2764\n",
            "Epoch 6/100\n",
            "34/34 [==============================] - 0s 2ms/step - loss: 7664.3315 - mae: 7664.3315\n",
            "Epoch 7/100\n",
            "34/34 [==============================] - 0s 2ms/step - loss: 7536.2207 - mae: 7536.2207\n",
            "Epoch 8/100\n",
            "34/34 [==============================] - 0s 2ms/step - loss: 7796.6685 - mae: 7796.6685\n",
            "Epoch 9/100\n",
            "34/34 [==============================] - 0s 2ms/step - loss: 7489.7583 - mae: 7489.7583\n",
            "Epoch 10/100\n",
            "34/34 [==============================] - 0s 2ms/step - loss: 7666.4727 - mae: 7666.4727\n",
            "Epoch 11/100\n",
            "34/34 [==============================] - 0s 2ms/step - loss: 7517.7012 - mae: 7517.7012\n",
            "Epoch 12/100\n",
            "34/34 [==============================] - 0s 2ms/step - loss: 7632.7739 - mae: 7632.7739\n",
            "Epoch 13/100\n",
            "34/34 [==============================] - 0s 2ms/step - loss: 7686.6904 - mae: 7686.6904\n",
            "Epoch 14/100\n",
            "34/34 [==============================] - 0s 2ms/step - loss: 7743.4390 - mae: 7743.4390\n",
            "Epoch 15/100\n",
            "34/34 [==============================] - 0s 2ms/step - loss: 7332.1479 - mae: 7332.1479\n",
            "Epoch 16/100\n",
            "34/34 [==============================] - 0s 2ms/step - loss: 7773.8564 - mae: 7773.8564\n",
            "Epoch 17/100\n",
            "34/34 [==============================] - 0s 2ms/step - loss: 7582.0264 - mae: 7582.0264\n",
            "Epoch 18/100\n",
            "34/34 [==============================] - 0s 2ms/step - loss: 7745.6636 - mae: 7745.6636\n",
            "Epoch 19/100\n",
            "34/34 [==============================] - 0s 2ms/step - loss: 7738.4629 - mae: 7738.4629\n",
            "Epoch 20/100\n",
            "34/34 [==============================] - 0s 2ms/step - loss: 7933.6064 - mae: 7933.6064\n",
            "Epoch 21/100\n",
            "34/34 [==============================] - 0s 2ms/step - loss: 7468.9292 - mae: 7468.9292\n",
            "Epoch 22/100\n",
            "34/34 [==============================] - 0s 2ms/step - loss: 7741.7075 - mae: 7741.7075\n",
            "Epoch 23/100\n",
            "34/34 [==============================] - 0s 2ms/step - loss: 7630.8188 - mae: 7630.8188\n",
            "Epoch 24/100\n",
            "34/34 [==============================] - 0s 2ms/step - loss: 7508.7412 - mae: 7508.7412\n",
            "Epoch 25/100\n",
            "34/34 [==============================] - 0s 2ms/step - loss: 7586.8125 - mae: 7586.8125\n",
            "Epoch 26/100\n",
            "34/34 [==============================] - 0s 2ms/step - loss: 7671.1597 - mae: 7671.1597\n",
            "Epoch 27/100\n",
            "34/34 [==============================] - 0s 2ms/step - loss: 7488.5669 - mae: 7488.5669\n",
            "Epoch 28/100\n",
            "34/34 [==============================] - 0s 2ms/step - loss: 7539.8643 - mae: 7539.8643\n",
            "Epoch 29/100\n",
            "34/34 [==============================] - 0s 2ms/step - loss: 7685.3379 - mae: 7685.3379\n",
            "Epoch 30/100\n",
            "34/34 [==============================] - 0s 2ms/step - loss: 7605.2324 - mae: 7605.2329\n",
            "Epoch 31/100\n",
            "34/34 [==============================] - 0s 2ms/step - loss: 7687.8066 - mae: 7687.8066\n",
            "Epoch 32/100\n",
            "34/34 [==============================] - 0s 2ms/step - loss: 7541.4551 - mae: 7541.4551\n",
            "Epoch 33/100\n",
            "34/34 [==============================] - 0s 2ms/step - loss: 7329.6338 - mae: 7329.6338\n",
            "Epoch 34/100\n",
            "34/34 [==============================] - 0s 2ms/step - loss: 7453.1709 - mae: 7453.1709\n",
            "Epoch 35/100\n",
            "34/34 [==============================] - 0s 2ms/step - loss: 7609.7573 - mae: 7609.7573\n",
            "Epoch 36/100\n",
            "34/34 [==============================] - 0s 2ms/step - loss: 7586.3716 - mae: 7586.3716\n",
            "Epoch 37/100\n",
            "34/34 [==============================] - 0s 2ms/step - loss: 7568.8882 - mae: 7568.8882\n",
            "Epoch 38/100\n",
            "34/34 [==============================] - 0s 2ms/step - loss: 7561.4341 - mae: 7561.4341\n",
            "Epoch 39/100\n",
            "34/34 [==============================] - 0s 2ms/step - loss: 7549.9585 - mae: 7549.9585\n",
            "Epoch 40/100\n",
            "34/34 [==============================] - 0s 2ms/step - loss: 7408.2485 - mae: 7408.2485\n",
            "Epoch 41/100\n",
            "34/34 [==============================] - 0s 2ms/step - loss: 7722.3188 - mae: 7722.3188\n",
            "Epoch 42/100\n",
            "34/34 [==============================] - 0s 2ms/step - loss: 7695.7339 - mae: 7695.7339\n",
            "Epoch 43/100\n",
            "34/34 [==============================] - 0s 2ms/step - loss: 7767.8252 - mae: 7767.8252\n",
            "Epoch 44/100\n",
            "34/34 [==============================] - 0s 2ms/step - loss: 7490.4375 - mae: 7490.4375\n",
            "Epoch 45/100\n",
            "34/34 [==============================] - 0s 2ms/step - loss: 7325.5547 - mae: 7325.5547\n",
            "Epoch 46/100\n",
            "34/34 [==============================] - 0s 2ms/step - loss: 7452.8076 - mae: 7452.8076\n",
            "Epoch 47/100\n",
            "34/34 [==============================] - 0s 2ms/step - loss: 7403.7783 - mae: 7403.7783\n",
            "Epoch 48/100\n",
            "34/34 [==============================] - 0s 2ms/step - loss: 7306.4214 - mae: 7306.4214\n",
            "Epoch 49/100\n",
            "34/34 [==============================] - 0s 2ms/step - loss: 7520.6973 - mae: 7520.6973\n",
            "Epoch 50/100\n",
            "34/34 [==============================] - 0s 2ms/step - loss: 7498.9043 - mae: 7498.9043\n",
            "Epoch 51/100\n",
            "34/34 [==============================] - 0s 2ms/step - loss: 7403.6265 - mae: 7403.6265\n",
            "Epoch 52/100\n",
            "34/34 [==============================] - 0s 2ms/step - loss: 7315.9253 - mae: 7315.9253\n",
            "Epoch 53/100\n",
            "34/34 [==============================] - 0s 2ms/step - loss: 7575.7275 - mae: 7575.7275\n",
            "Epoch 54/100\n",
            "34/34 [==============================] - 0s 2ms/step - loss: 7250.9009 - mae: 7250.9009\n",
            "Epoch 55/100\n",
            "34/34 [==============================] - 0s 2ms/step - loss: 7487.6235 - mae: 7487.6235\n",
            "Epoch 56/100\n",
            "34/34 [==============================] - 0s 2ms/step - loss: 7409.3091 - mae: 7409.3091\n",
            "Epoch 57/100\n",
            "34/34 [==============================] - 0s 2ms/step - loss: 7421.2314 - mae: 7421.2314\n",
            "Epoch 58/100\n",
            "34/34 [==============================] - 0s 2ms/step - loss: 7569.5542 - mae: 7569.5542\n",
            "Epoch 59/100\n",
            "34/34 [==============================] - 0s 2ms/step - loss: 7505.3623 - mae: 7505.3623\n",
            "Epoch 60/100\n",
            "34/34 [==============================] - 0s 2ms/step - loss: 7479.7964 - mae: 7479.7964\n",
            "Epoch 61/100\n",
            "34/34 [==============================] - 0s 2ms/step - loss: 7347.1460 - mae: 7347.1460\n",
            "Epoch 62/100\n",
            "34/34 [==============================] - 0s 2ms/step - loss: 7339.8882 - mae: 7339.8882\n",
            "Epoch 63/100\n",
            "34/34 [==============================] - 0s 2ms/step - loss: 7347.2148 - mae: 7347.2148\n",
            "Epoch 64/100\n",
            "34/34 [==============================] - 0s 2ms/step - loss: 7477.4619 - mae: 7477.4619\n",
            "Epoch 65/100\n",
            "34/34 [==============================] - 0s 2ms/step - loss: 7452.2993 - mae: 7452.2993\n",
            "Epoch 66/100\n",
            "34/34 [==============================] - 0s 2ms/step - loss: 7269.4512 - mae: 7269.4512\n",
            "Epoch 67/100\n",
            "34/34 [==============================] - 0s 2ms/step - loss: 7255.1431 - mae: 7255.1431\n",
            "Epoch 68/100\n",
            "34/34 [==============================] - 0s 2ms/step - loss: 7518.0923 - mae: 7518.0923\n",
            "Epoch 69/100\n",
            "34/34 [==============================] - 0s 2ms/step - loss: 7463.7280 - mae: 7463.7280\n",
            "Epoch 70/100\n",
            "34/34 [==============================] - 0s 2ms/step - loss: 7672.1045 - mae: 7672.1045\n",
            "Epoch 71/100\n",
            "34/34 [==============================] - 0s 2ms/step - loss: 7157.5151 - mae: 7157.5151\n",
            "Epoch 72/100\n",
            "34/34 [==============================] - 0s 2ms/step - loss: 7273.2944 - mae: 7273.2944\n",
            "Epoch 73/100\n",
            "34/34 [==============================] - 0s 2ms/step - loss: 7388.2212 - mae: 7388.2212\n",
            "Epoch 74/100\n",
            "34/34 [==============================] - 0s 2ms/step - loss: 7372.7046 - mae: 7372.7046\n",
            "Epoch 75/100\n",
            "34/34 [==============================] - 0s 2ms/step - loss: 7364.8140 - mae: 7364.8140\n",
            "Epoch 76/100\n",
            "34/34 [==============================] - 0s 2ms/step - loss: 7066.4580 - mae: 7066.4580\n",
            "Epoch 77/100\n",
            "34/34 [==============================] - 0s 2ms/step - loss: 7171.9487 - mae: 7171.9487\n",
            "Epoch 78/100\n",
            "34/34 [==============================] - 0s 2ms/step - loss: 7345.8057 - mae: 7345.8057\n",
            "Epoch 79/100\n",
            "34/34 [==============================] - 0s 2ms/step - loss: 7477.1309 - mae: 7477.1309\n",
            "Epoch 80/100\n",
            "34/34 [==============================] - 0s 2ms/step - loss: 7298.7314 - mae: 7298.7314\n",
            "Epoch 81/100\n",
            "34/34 [==============================] - 0s 2ms/step - loss: 7247.1333 - mae: 7247.1333\n",
            "Epoch 82/100\n",
            "34/34 [==============================] - 0s 3ms/step - loss: 7121.0640 - mae: 7121.0640\n",
            "Epoch 83/100\n",
            "34/34 [==============================] - 0s 3ms/step - loss: 7543.7910 - mae: 7543.7910\n",
            "Epoch 84/100\n",
            "34/34 [==============================] - 0s 2ms/step - loss: 7396.7266 - mae: 7396.7266\n",
            "Epoch 85/100\n",
            "34/34 [==============================] - 0s 3ms/step - loss: 7355.1191 - mae: 7355.1191\n",
            "Epoch 86/100\n",
            "34/34 [==============================] - 0s 3ms/step - loss: 7480.2568 - mae: 7480.2568\n",
            "Epoch 87/100\n",
            "34/34 [==============================] - 0s 2ms/step - loss: 7124.2974 - mae: 7124.2974\n",
            "Epoch 88/100\n",
            "34/34 [==============================] - 0s 3ms/step - loss: 7410.9072 - mae: 7410.9072\n",
            "Epoch 89/100\n",
            "34/34 [==============================] - 0s 3ms/step - loss: 7360.0503 - mae: 7360.0503\n",
            "Epoch 90/100\n",
            "34/34 [==============================] - 0s 3ms/step - loss: 7162.0703 - mae: 7162.0703\n",
            "Epoch 91/100\n",
            "34/34 [==============================] - 0s 3ms/step - loss: 7146.8105 - mae: 7146.8105\n",
            "Epoch 92/100\n",
            "34/34 [==============================] - 0s 3ms/step - loss: 7127.1831 - mae: 7127.1831\n",
            "Epoch 93/100\n",
            "34/34 [==============================] - 0s 2ms/step - loss: 7426.1475 - mae: 7426.1475\n",
            "Epoch 94/100\n",
            "34/34 [==============================] - 0s 3ms/step - loss: 7239.8833 - mae: 7239.8833\n",
            "Epoch 95/100\n",
            "34/34 [==============================] - 0s 3ms/step - loss: 7102.3418 - mae: 7102.3418\n",
            "Epoch 96/100\n",
            "34/34 [==============================] - 0s 3ms/step - loss: 7241.6450 - mae: 7241.6450\n",
            "Epoch 97/100\n",
            "34/34 [==============================] - 0s 3ms/step - loss: 7230.7129 - mae: 7230.7129\n",
            "Epoch 98/100\n",
            "34/34 [==============================] - 0s 3ms/step - loss: 7447.3599 - mae: 7447.3599\n",
            "Epoch 99/100\n",
            "34/34 [==============================] - 0s 2ms/step - loss: 7410.1260 - mae: 7410.1260\n",
            "Epoch 100/100\n",
            "34/34 [==============================] - 0s 4ms/step - loss: 7302.8989 - mae: 7302.8989\n"
          ]
        },
        {
          "output_type": "execute_result",
          "data": {
            "text/plain": [
              "<keras.src.callbacks.History at 0x7ddb960d1c30>"
            ]
          },
          "metadata": {},
          "execution_count": 22
        }
      ]
    },
    {
      "cell_type": "code",
      "source": [
        "#Check the results of the test data on the insurance model\n",
        "insurance_model.evaluate(X_test, Y_test)"
      ],
      "metadata": {
        "colab": {
          "base_uri": "https://localhost:8080/"
        },
        "id": "BVYIG3zoLnbL",
        "outputId": "4841bcb5-4658-4dc1-fd1c-eca5728bce37"
      },
      "execution_count": null,
      "outputs": [
        {
          "output_type": "stream",
          "name": "stdout",
          "text": [
            "9/9 [==============================] - 0s 3ms/step - loss: 8576.0508 - mae: 8576.0508\n"
          ]
        },
        {
          "output_type": "execute_result",
          "data": {
            "text/plain": [
              "[8576.05078125, 8576.05078125]"
            ]
          },
          "metadata": {},
          "execution_count": 16
        }
      ]
    },
    {
      "cell_type": "markdown",
      "source": [
        "Right now our model is not performing the best.\n",
        "To try and improve our model we will try 2 experiments:\n",
        "1. Add another hidden layer to our model and use the adam optimizer\n",
        "2. Train our model longer"
      ],
      "metadata": {
        "id": "zz4ABw1oNLfy"
      }
    },
    {
      "cell_type": "code",
      "source": [
        "#Set the seed for reproducibility\n",
        "tf.random.set_seed(42)\n",
        "\n",
        "#1. Create the model\n",
        "insurance_model_2 = tf.keras.Sequential([\n",
        "    tf.keras.layers.Dense(100),\n",
        "    tf.keras.layers.Dense(10),\n",
        "    tf.keras.layers.Dense(1)\n",
        "])\n",
        "\n",
        "#2. Compile the model\n",
        "insurance_model_2.compile(loss=tf.keras.losses.mae,\n",
        "                        optimizer=tf.keras.optimizers.Adam(),\n",
        "#The model was to complex for the sgd optimizer which resulted in nan, so adam was used instead\n",
        "                        metrics=[\"mae\"])\n",
        "\n",
        "#3 Train/fit the model to the data\n",
        "insurance_model_2.fit(X_train, Y_train, epochs=100)"
      ],
      "metadata": {
        "colab": {
          "base_uri": "https://localhost:8080/"
        },
        "id": "qCGsoHGhN6C3",
        "outputId": "4754afa1-03de-49c9-f761-0db45aabb474"
      },
      "execution_count": null,
      "outputs": [
        {
          "output_type": "stream",
          "name": "stdout",
          "text": [
            "Epoch 1/100\n",
            "34/34 [==============================] - 2s 5ms/step - loss: 13303.0059 - mae: 13303.0059\n",
            "Epoch 2/100\n",
            "34/34 [==============================] - 0s 3ms/step - loss: 13162.6221 - mae: 13162.6221\n",
            "Epoch 3/100\n",
            "34/34 [==============================] - 0s 3ms/step - loss: 12859.9502 - mae: 12859.9502\n",
            "Epoch 4/100\n",
            "34/34 [==============================] - 0s 5ms/step - loss: 12251.4678 - mae: 12251.4678\n",
            "Epoch 5/100\n",
            "34/34 [==============================] - 0s 5ms/step - loss: 11196.1641 - mae: 11196.1641\n",
            "Epoch 6/100\n",
            "34/34 [==============================] - 0s 8ms/step - loss: 9766.2666 - mae: 9766.2666\n",
            "Epoch 7/100\n",
            "34/34 [==============================] - 0s 8ms/step - loss: 8362.8232 - mae: 8362.8232\n",
            "Epoch 8/100\n",
            "34/34 [==============================] - 0s 6ms/step - loss: 7589.6670 - mae: 7589.6670\n",
            "Epoch 9/100\n",
            "34/34 [==============================] - 0s 5ms/step - loss: 7432.6064 - mae: 7432.6064\n",
            "Epoch 10/100\n",
            "34/34 [==============================] - 0s 7ms/step - loss: 7409.7803 - mae: 7409.7803\n",
            "Epoch 11/100\n",
            "34/34 [==============================] - 0s 8ms/step - loss: 7391.6099 - mae: 7391.6099\n",
            "Epoch 12/100\n",
            "34/34 [==============================] - 0s 11ms/step - loss: 7370.5986 - mae: 7370.5986\n",
            "Epoch 13/100\n",
            "34/34 [==============================] - 0s 8ms/step - loss: 7351.0156 - mae: 7351.0156\n",
            "Epoch 14/100\n",
            "34/34 [==============================] - 0s 7ms/step - loss: 7329.5356 - mae: 7329.5356\n",
            "Epoch 15/100\n",
            "34/34 [==============================] - 0s 7ms/step - loss: 7311.6621 - mae: 7311.6621\n",
            "Epoch 16/100\n",
            "34/34 [==============================] - 0s 2ms/step - loss: 7290.1616 - mae: 7290.1616\n",
            "Epoch 17/100\n",
            "34/34 [==============================] - 0s 3ms/step - loss: 7270.6250 - mae: 7270.6250\n",
            "Epoch 18/100\n",
            "34/34 [==============================] - 0s 3ms/step - loss: 7248.6650 - mae: 7248.6650\n",
            "Epoch 19/100\n",
            "34/34 [==============================] - 0s 3ms/step - loss: 7227.3623 - mae: 7227.3623\n",
            "Epoch 20/100\n",
            "34/34 [==============================] - 0s 3ms/step - loss: 7205.0205 - mae: 7205.0205\n",
            "Epoch 21/100\n",
            "34/34 [==============================] - 0s 3ms/step - loss: 7188.1152 - mae: 7188.1152\n",
            "Epoch 22/100\n",
            "34/34 [==============================] - 0s 3ms/step - loss: 7160.4780 - mae: 7160.4780\n",
            "Epoch 23/100\n",
            "34/34 [==============================] - 0s 3ms/step - loss: 7137.0327 - mae: 7137.0327\n",
            "Epoch 24/100\n",
            "34/34 [==============================] - 0s 3ms/step - loss: 7113.2939 - mae: 7113.2939\n",
            "Epoch 25/100\n",
            "34/34 [==============================] - 0s 3ms/step - loss: 7096.3589 - mae: 7096.3589\n",
            "Epoch 26/100\n",
            "34/34 [==============================] - 0s 3ms/step - loss: 7065.7417 - mae: 7065.7417\n",
            "Epoch 27/100\n",
            "34/34 [==============================] - 0s 3ms/step - loss: 7038.5571 - mae: 7038.5571\n",
            "Epoch 28/100\n",
            "34/34 [==============================] - 0s 3ms/step - loss: 7011.8872 - mae: 7011.8872\n",
            "Epoch 29/100\n",
            "34/34 [==============================] - 0s 3ms/step - loss: 6984.8779 - mae: 6984.8779\n",
            "Epoch 30/100\n",
            "34/34 [==============================] - 0s 3ms/step - loss: 6959.4302 - mae: 6959.4302\n",
            "Epoch 31/100\n",
            "34/34 [==============================] - 0s 3ms/step - loss: 6929.2251 - mae: 6929.2251\n",
            "Epoch 32/100\n",
            "34/34 [==============================] - 0s 3ms/step - loss: 6902.9209 - mae: 6902.9209\n",
            "Epoch 33/100\n",
            "34/34 [==============================] - 0s 4ms/step - loss: 6873.2393 - mae: 6873.2393\n",
            "Epoch 34/100\n",
            "34/34 [==============================] - 0s 3ms/step - loss: 6842.1572 - mae: 6842.1572\n",
            "Epoch 35/100\n",
            "34/34 [==============================] - 0s 3ms/step - loss: 6811.0488 - mae: 6811.0488\n",
            "Epoch 36/100\n",
            "34/34 [==============================] - 0s 3ms/step - loss: 6778.2202 - mae: 6778.2202\n",
            "Epoch 37/100\n",
            "34/34 [==============================] - 0s 3ms/step - loss: 6743.7339 - mae: 6743.7339\n",
            "Epoch 38/100\n",
            "34/34 [==============================] - 0s 3ms/step - loss: 6712.7812 - mae: 6712.7812\n",
            "Epoch 39/100\n",
            "34/34 [==============================] - 0s 3ms/step - loss: 6676.0942 - mae: 6676.0942\n",
            "Epoch 40/100\n",
            "34/34 [==============================] - 0s 3ms/step - loss: 6642.2725 - mae: 6642.2725\n",
            "Epoch 41/100\n",
            "34/34 [==============================] - 0s 3ms/step - loss: 6609.8203 - mae: 6609.8203\n",
            "Epoch 42/100\n",
            "34/34 [==============================] - 0s 4ms/step - loss: 6581.1216 - mae: 6581.1216\n",
            "Epoch 43/100\n",
            "34/34 [==============================] - 0s 3ms/step - loss: 6550.3843 - mae: 6550.3843\n",
            "Epoch 44/100\n",
            "34/34 [==============================] - 0s 3ms/step - loss: 6525.9727 - mae: 6525.9727\n",
            "Epoch 45/100\n",
            "34/34 [==============================] - 0s 3ms/step - loss: 6507.7339 - mae: 6507.7339\n",
            "Epoch 46/100\n",
            "34/34 [==============================] - 0s 3ms/step - loss: 6490.5400 - mae: 6490.5400\n",
            "Epoch 47/100\n",
            "34/34 [==============================] - 0s 3ms/step - loss: 6473.7715 - mae: 6473.7715\n",
            "Epoch 48/100\n",
            "34/34 [==============================] - 0s 3ms/step - loss: 6458.1460 - mae: 6458.1460\n",
            "Epoch 49/100\n",
            "34/34 [==============================] - 0s 3ms/step - loss: 6445.0898 - mae: 6445.0898\n",
            "Epoch 50/100\n",
            "34/34 [==============================] - 0s 3ms/step - loss: 6431.8960 - mae: 6431.8960\n",
            "Epoch 51/100\n",
            "34/34 [==============================] - 0s 4ms/step - loss: 6418.2871 - mae: 6418.2871\n",
            "Epoch 52/100\n",
            "34/34 [==============================] - 0s 4ms/step - loss: 6408.0513 - mae: 6408.0513\n",
            "Epoch 53/100\n",
            "34/34 [==============================] - 0s 4ms/step - loss: 6393.6719 - mae: 6393.6719\n",
            "Epoch 54/100\n",
            "34/34 [==============================] - 0s 3ms/step - loss: 6380.3486 - mae: 6380.3486\n",
            "Epoch 55/100\n",
            "34/34 [==============================] - 0s 2ms/step - loss: 6367.1606 - mae: 6367.1606\n",
            "Epoch 56/100\n",
            "34/34 [==============================] - 0s 2ms/step - loss: 6353.1978 - mae: 6353.1978\n",
            "Epoch 57/100\n",
            "34/34 [==============================] - 0s 2ms/step - loss: 6341.4727 - mae: 6341.4727\n",
            "Epoch 58/100\n",
            "34/34 [==============================] - 0s 2ms/step - loss: 6328.0659 - mae: 6328.0659\n",
            "Epoch 59/100\n",
            "34/34 [==============================] - 0s 2ms/step - loss: 6313.0938 - mae: 6313.0938\n",
            "Epoch 60/100\n",
            "34/34 [==============================] - 0s 2ms/step - loss: 6303.4702 - mae: 6303.4702\n",
            "Epoch 61/100\n",
            "34/34 [==============================] - 0s 2ms/step - loss: 6284.7983 - mae: 6284.7983\n",
            "Epoch 62/100\n",
            "34/34 [==============================] - 0s 2ms/step - loss: 6272.2798 - mae: 6272.2798\n",
            "Epoch 63/100\n",
            "34/34 [==============================] - 0s 2ms/step - loss: 6254.6177 - mae: 6254.6177\n",
            "Epoch 64/100\n",
            "34/34 [==============================] - 0s 2ms/step - loss: 6239.6436 - mae: 6239.6436\n",
            "Epoch 65/100\n",
            "34/34 [==============================] - 0s 2ms/step - loss: 6223.5049 - mae: 6223.5049\n",
            "Epoch 66/100\n",
            "34/34 [==============================] - 0s 2ms/step - loss: 6207.4248 - mae: 6207.4248\n",
            "Epoch 67/100\n",
            "34/34 [==============================] - 0s 2ms/step - loss: 6195.6445 - mae: 6195.6445\n",
            "Epoch 68/100\n",
            "34/34 [==============================] - 0s 2ms/step - loss: 6174.7920 - mae: 6174.7920\n",
            "Epoch 69/100\n",
            "34/34 [==============================] - 0s 2ms/step - loss: 6158.9429 - mae: 6158.9429\n",
            "Epoch 70/100\n",
            "34/34 [==============================] - 0s 2ms/step - loss: 6139.6187 - mae: 6139.6187\n",
            "Epoch 71/100\n",
            "34/34 [==============================] - 0s 2ms/step - loss: 6121.1738 - mae: 6121.1738\n",
            "Epoch 72/100\n",
            "34/34 [==============================] - 0s 2ms/step - loss: 6104.3159 - mae: 6104.3159\n",
            "Epoch 73/100\n",
            "34/34 [==============================] - 0s 2ms/step - loss: 6088.5596 - mae: 6088.5596\n",
            "Epoch 74/100\n",
            "34/34 [==============================] - 0s 2ms/step - loss: 6064.4736 - mae: 6064.4736\n",
            "Epoch 75/100\n",
            "34/34 [==============================] - 0s 2ms/step - loss: 6044.8423 - mae: 6044.8423\n",
            "Epoch 76/100\n",
            "34/34 [==============================] - 0s 2ms/step - loss: 6032.2656 - mae: 6032.2656\n",
            "Epoch 77/100\n",
            "34/34 [==============================] - 0s 2ms/step - loss: 5999.9858 - mae: 5999.9858\n",
            "Epoch 78/100\n",
            "34/34 [==============================] - 0s 2ms/step - loss: 5979.4580 - mae: 5979.4580\n",
            "Epoch 79/100\n",
            "34/34 [==============================] - 0s 2ms/step - loss: 5957.1055 - mae: 5957.1055\n",
            "Epoch 80/100\n",
            "34/34 [==============================] - 0s 2ms/step - loss: 5932.1553 - mae: 5932.1553\n",
            "Epoch 81/100\n",
            "34/34 [==============================] - 0s 2ms/step - loss: 5908.4272 - mae: 5908.4272\n",
            "Epoch 82/100\n",
            "34/34 [==============================] - 0s 2ms/step - loss: 5882.6050 - mae: 5882.6050\n",
            "Epoch 83/100\n",
            "34/34 [==============================] - 0s 2ms/step - loss: 5856.9448 - mae: 5856.9448\n",
            "Epoch 84/100\n",
            "34/34 [==============================] - 0s 2ms/step - loss: 5824.8330 - mae: 5824.8330\n",
            "Epoch 85/100\n",
            "34/34 [==============================] - 0s 2ms/step - loss: 5802.3345 - mae: 5802.3345\n",
            "Epoch 86/100\n",
            "34/34 [==============================] - 0s 2ms/step - loss: 5769.8784 - mae: 5769.8784\n",
            "Epoch 87/100\n",
            "34/34 [==============================] - 0s 2ms/step - loss: 5737.3096 - mae: 5737.3096\n",
            "Epoch 88/100\n",
            "34/34 [==============================] - 0s 2ms/step - loss: 5707.5381 - mae: 5707.5381\n",
            "Epoch 89/100\n",
            "34/34 [==============================] - 0s 2ms/step - loss: 5670.4092 - mae: 5670.4092\n",
            "Epoch 90/100\n",
            "34/34 [==============================] - 0s 2ms/step - loss: 5633.5508 - mae: 5633.5508\n",
            "Epoch 91/100\n",
            "34/34 [==============================] - 0s 2ms/step - loss: 5602.5117 - mae: 5602.5117\n",
            "Epoch 92/100\n",
            "34/34 [==============================] - 0s 2ms/step - loss: 5556.4976 - mae: 5556.4976\n",
            "Epoch 93/100\n",
            "34/34 [==============================] - 0s 2ms/step - loss: 5520.0063 - mae: 5520.0063\n",
            "Epoch 94/100\n",
            "34/34 [==============================] - 0s 2ms/step - loss: 5481.9321 - mae: 5481.9321\n",
            "Epoch 95/100\n",
            "34/34 [==============================] - 0s 2ms/step - loss: 5433.1313 - mae: 5433.1313\n",
            "Epoch 96/100\n",
            "34/34 [==============================] - 0s 2ms/step - loss: 5391.8193 - mae: 5391.8193\n",
            "Epoch 97/100\n",
            "34/34 [==============================] - 0s 2ms/step - loss: 5345.5459 - mae: 5345.5459\n",
            "Epoch 98/100\n",
            "34/34 [==============================] - 0s 2ms/step - loss: 5289.1904 - mae: 5289.1904\n",
            "Epoch 99/100\n",
            "34/34 [==============================] - 0s 2ms/step - loss: 5236.5376 - mae: 5236.5376\n",
            "Epoch 100/100\n",
            "34/34 [==============================] - 0s 2ms/step - loss: 5183.5581 - mae: 5183.5581\n"
          ]
        },
        {
          "output_type": "execute_result",
          "data": {
            "text/plain": [
              "<keras.src.callbacks.History at 0x7ddb9615f5e0>"
            ]
          },
          "metadata": {},
          "execution_count": 24
        }
      ]
    },
    {
      "cell_type": "code",
      "source": [
        "insurance_model_2.evaluate(X_test, Y_test)"
      ],
      "metadata": {
        "colab": {
          "base_uri": "https://localhost:8080/"
        },
        "id": "2dmU4ZmePJyw",
        "outputId": "4174fb5f-b294-43e4-ea2b-c2ac85abb804"
      },
      "execution_count": null,
      "outputs": [
        {
          "output_type": "stream",
          "name": "stdout",
          "text": [
            "9/9 [==============================] - 0s 2ms/step - loss: 5052.5991 - mae: 5052.5991\n"
          ]
        },
        {
          "output_type": "execute_result",
          "data": {
            "text/plain": [
              "[5052.59912109375, 5052.59912109375]"
            ]
          },
          "metadata": {},
          "execution_count": 25
        }
      ]
    },
    {
      "cell_type": "code",
      "source": [
        "insurance_model.evaluate(X_test, Y_test)"
      ],
      "metadata": {
        "colab": {
          "base_uri": "https://localhost:8080/"
        },
        "id": "Z833Tc3oPSOA",
        "outputId": "ce8d8b49-06bd-42c8-c27e-65c2928b1ba9"
      },
      "execution_count": null,
      "outputs": [
        {
          "output_type": "stream",
          "name": "stdout",
          "text": [
            "9/9 [==============================] - 0s 8ms/step - loss: 7360.6050 - mae: 7360.6050\n"
          ]
        },
        {
          "output_type": "execute_result",
          "data": {
            "text/plain": [
              "[7360.60498046875, 7360.60498046875]"
            ]
          },
          "metadata": {},
          "execution_count": 26
        }
      ]
    },
    {
      "cell_type": "code",
      "source": [
        "#Set the seed for reproducibility\n",
        "tf.random.set_seed(42)\n",
        "\n",
        "#1. Create the model\n",
        "insurance_model_3 = tf.keras.Sequential([\n",
        "    tf.keras.layers.Dense(100),\n",
        "    tf.keras.layers.Dense(10),\n",
        "    tf.keras.layers.Dense(1)\n",
        "])\n",
        "\n",
        "#2. Compile the model\n",
        "insurance_model_3.compile(loss=tf.keras.losses.mae,\n",
        "                        optimizer=tf.keras.optimizers.Adam(),\n",
        "#The model was to complex for the sgd optimizer which resulted in nan, so adam was used instead\n",
        "                        metrics=[\"mae\"])\n",
        "\n",
        "#3 Train/fit the model to the data\n",
        "history = insurance_model_3.fit(X_train, Y_train, epochs=200)"
      ],
      "metadata": {
        "colab": {
          "base_uri": "https://localhost:8080/"
        },
        "id": "LDSxQWoLPlto",
        "outputId": "222b2c46-666c-4caf-c50c-bee491ea33e3"
      },
      "execution_count": null,
      "outputs": [
        {
          "output_type": "stream",
          "name": "stdout",
          "text": [
            "Epoch 1/200\n",
            "34/34 [==============================] - 1s 2ms/step - loss: 13319.6406 - mae: 13319.6406\n",
            "Epoch 2/200\n",
            "34/34 [==============================] - 0s 2ms/step - loss: 13201.9297 - mae: 13201.9297\n",
            "Epoch 3/200\n",
            "34/34 [==============================] - 0s 2ms/step - loss: 12927.4053 - mae: 12927.4053\n",
            "Epoch 4/200\n",
            "34/34 [==============================] - 0s 2ms/step - loss: 12349.4453 - mae: 12349.4453\n",
            "Epoch 5/200\n",
            "34/34 [==============================] - 0s 2ms/step - loss: 11322.9453 - mae: 11322.9453\n",
            "Epoch 6/200\n",
            "34/34 [==============================] - 0s 2ms/step - loss: 9890.8721 - mae: 9890.8721\n",
            "Epoch 7/200\n",
            "34/34 [==============================] - 0s 2ms/step - loss: 8449.2354 - mae: 8449.2354\n",
            "Epoch 8/200\n",
            "34/34 [==============================] - 0s 2ms/step - loss: 7613.8423 - mae: 7613.8423\n",
            "Epoch 9/200\n",
            "34/34 [==============================] - 0s 2ms/step - loss: 7440.4961 - mae: 7440.4961\n",
            "Epoch 10/200\n",
            "34/34 [==============================] - 0s 2ms/step - loss: 7416.4121 - mae: 7416.4121\n",
            "Epoch 11/200\n",
            "34/34 [==============================] - 0s 2ms/step - loss: 7398.3115 - mae: 7398.3115\n",
            "Epoch 12/200\n",
            "34/34 [==============================] - 0s 3ms/step - loss: 7377.6650 - mae: 7377.6650\n",
            "Epoch 13/200\n",
            "34/34 [==============================] - 0s 2ms/step - loss: 7358.0649 - mae: 7358.0649\n",
            "Epoch 14/200\n",
            "34/34 [==============================] - 0s 2ms/step - loss: 7336.9268 - mae: 7336.9268\n",
            "Epoch 15/200\n",
            "34/34 [==============================] - 0s 3ms/step - loss: 7318.8530 - mae: 7318.8530\n",
            "Epoch 16/200\n",
            "34/34 [==============================] - 0s 4ms/step - loss: 7297.4785 - mae: 7297.4785\n",
            "Epoch 17/200\n",
            "34/34 [==============================] - 0s 4ms/step - loss: 7278.6353 - mae: 7278.6353\n",
            "Epoch 18/200\n",
            "34/34 [==============================] - 0s 4ms/step - loss: 7256.5239 - mae: 7256.5239\n",
            "Epoch 19/200\n",
            "34/34 [==============================] - 0s 5ms/step - loss: 7235.7896 - mae: 7235.7896\n",
            "Epoch 20/200\n",
            "34/34 [==============================] - 0s 8ms/step - loss: 7214.1377 - mae: 7214.1377\n",
            "Epoch 21/200\n",
            "34/34 [==============================] - 0s 4ms/step - loss: 7196.3936 - mae: 7196.3936\n",
            "Epoch 22/200\n",
            "34/34 [==============================] - 0s 3ms/step - loss: 7170.6182 - mae: 7170.6182\n",
            "Epoch 23/200\n",
            "34/34 [==============================] - 0s 3ms/step - loss: 7147.7144 - mae: 7147.7144\n",
            "Epoch 24/200\n",
            "34/34 [==============================] - 0s 5ms/step - loss: 7124.7217 - mae: 7124.7217\n",
            "Epoch 25/200\n",
            "34/34 [==============================] - 0s 4ms/step - loss: 7108.0244 - mae: 7108.0244\n",
            "Epoch 26/200\n",
            "34/34 [==============================] - 0s 4ms/step - loss: 7078.6460 - mae: 7078.6460\n",
            "Epoch 27/200\n",
            "34/34 [==============================] - 0s 4ms/step - loss: 7052.0566 - mae: 7052.0566\n",
            "Epoch 28/200\n",
            "34/34 [==============================] - 0s 7ms/step - loss: 7026.2036 - mae: 7026.2036\n",
            "Epoch 29/200\n",
            "34/34 [==============================] - 0s 3ms/step - loss: 7000.1016 - mae: 7000.1016\n",
            "Epoch 30/200\n",
            "34/34 [==============================] - 0s 2ms/step - loss: 6975.4390 - mae: 6975.4390\n",
            "Epoch 31/200\n",
            "34/34 [==============================] - 0s 2ms/step - loss: 6946.8652 - mae: 6946.8652\n",
            "Epoch 32/200\n",
            "34/34 [==============================] - 0s 2ms/step - loss: 6921.5161 - mae: 6921.5161\n",
            "Epoch 33/200\n",
            "34/34 [==============================] - 0s 2ms/step - loss: 6891.9194 - mae: 6891.9194\n",
            "Epoch 34/200\n",
            "34/34 [==============================] - 0s 2ms/step - loss: 6862.6772 - mae: 6862.6772\n",
            "Epoch 35/200\n",
            "34/34 [==============================] - 0s 2ms/step - loss: 6832.6968 - mae: 6832.6968\n",
            "Epoch 36/200\n",
            "34/34 [==============================] - 0s 2ms/step - loss: 6801.3560 - mae: 6801.3560\n",
            "Epoch 37/200\n",
            "34/34 [==============================] - 0s 2ms/step - loss: 6768.8750 - mae: 6768.8750\n",
            "Epoch 38/200\n",
            "34/34 [==============================] - 0s 2ms/step - loss: 6738.5840 - mae: 6738.5840\n",
            "Epoch 39/200\n",
            "34/34 [==============================] - 0s 2ms/step - loss: 6701.7290 - mae: 6701.7290\n",
            "Epoch 40/200\n",
            "34/34 [==============================] - 0s 2ms/step - loss: 6668.0112 - mae: 6668.0112\n",
            "Epoch 41/200\n",
            "34/34 [==============================] - 0s 2ms/step - loss: 6635.4355 - mae: 6635.4355\n",
            "Epoch 42/200\n",
            "34/34 [==============================] - 0s 2ms/step - loss: 6606.0020 - mae: 6606.0020\n",
            "Epoch 43/200\n",
            "34/34 [==============================] - 0s 2ms/step - loss: 6571.9214 - mae: 6571.9214\n",
            "Epoch 44/200\n",
            "34/34 [==============================] - 0s 2ms/step - loss: 6542.8916 - mae: 6542.8916\n",
            "Epoch 45/200\n",
            "34/34 [==============================] - 0s 2ms/step - loss: 6521.8667 - mae: 6521.8667\n",
            "Epoch 46/200\n",
            "34/34 [==============================] - 0s 2ms/step - loss: 6500.1709 - mae: 6500.1709\n",
            "Epoch 47/200\n",
            "34/34 [==============================] - 0s 2ms/step - loss: 6482.3447 - mae: 6482.3447\n",
            "Epoch 48/200\n",
            "34/34 [==============================] - 0s 2ms/step - loss: 6465.5112 - mae: 6465.5112\n",
            "Epoch 49/200\n",
            "34/34 [==============================] - 0s 2ms/step - loss: 6451.1006 - mae: 6451.1006\n",
            "Epoch 50/200\n",
            "34/34 [==============================] - 0s 2ms/step - loss: 6437.6504 - mae: 6437.6504\n",
            "Epoch 51/200\n",
            "34/34 [==============================] - 0s 2ms/step - loss: 6424.0410 - mae: 6424.0410\n",
            "Epoch 52/200\n",
            "34/34 [==============================] - 0s 2ms/step - loss: 6414.1035 - mae: 6414.1035\n",
            "Epoch 53/200\n",
            "34/34 [==============================] - 0s 2ms/step - loss: 6399.8018 - mae: 6399.8018\n",
            "Epoch 54/200\n",
            "34/34 [==============================] - 0s 2ms/step - loss: 6386.5117 - mae: 6386.5117\n",
            "Epoch 55/200\n",
            "34/34 [==============================] - 0s 2ms/step - loss: 6373.7109 - mae: 6373.7109\n",
            "Epoch 56/200\n",
            "34/34 [==============================] - 0s 2ms/step - loss: 6360.2095 - mae: 6360.2095\n",
            "Epoch 57/200\n",
            "34/34 [==============================] - 0s 2ms/step - loss: 6348.5034 - mae: 6348.5034\n",
            "Epoch 58/200\n",
            "34/34 [==============================] - 0s 2ms/step - loss: 6334.3696 - mae: 6334.3696\n",
            "Epoch 59/200\n",
            "34/34 [==============================] - 0s 2ms/step - loss: 6321.2490 - mae: 6321.2490\n",
            "Epoch 60/200\n",
            "34/34 [==============================] - 0s 2ms/step - loss: 6311.1650 - mae: 6311.1650\n",
            "Epoch 61/200\n",
            "34/34 [==============================] - 0s 2ms/step - loss: 6293.1816 - mae: 6293.1816\n",
            "Epoch 62/200\n",
            "34/34 [==============================] - 0s 2ms/step - loss: 6281.5161 - mae: 6281.5161\n",
            "Epoch 63/200\n",
            "34/34 [==============================] - 0s 2ms/step - loss: 6264.3765 - mae: 6264.3765\n",
            "Epoch 64/200\n",
            "34/34 [==============================] - 0s 2ms/step - loss: 6250.1147 - mae: 6250.1147\n",
            "Epoch 65/200\n",
            "34/34 [==============================] - 0s 2ms/step - loss: 6234.0791 - mae: 6234.0791\n",
            "Epoch 66/200\n",
            "34/34 [==============================] - 0s 2ms/step - loss: 6218.5215 - mae: 6218.5215\n",
            "Epoch 67/200\n",
            "34/34 [==============================] - 0s 4ms/step - loss: 6207.2119 - mae: 6207.2119\n",
            "Epoch 68/200\n",
            "34/34 [==============================] - 0s 4ms/step - loss: 6187.1558 - mae: 6187.1558\n",
            "Epoch 69/200\n",
            "34/34 [==============================] - 0s 3ms/step - loss: 6171.6978 - mae: 6171.6978\n",
            "Epoch 70/200\n",
            "34/34 [==============================] - 0s 3ms/step - loss: 6153.0234 - mae: 6153.0234\n",
            "Epoch 71/200\n",
            "34/34 [==============================] - 0s 4ms/step - loss: 6135.0469 - mae: 6135.0469\n",
            "Epoch 72/200\n",
            "34/34 [==============================] - 0s 4ms/step - loss: 6118.7178 - mae: 6118.7178\n",
            "Epoch 73/200\n",
            "34/34 [==============================] - 0s 4ms/step - loss: 6103.9478 - mae: 6103.9478\n",
            "Epoch 74/200\n",
            "34/34 [==============================] - 0s 3ms/step - loss: 6081.2476 - mae: 6081.2476\n",
            "Epoch 75/200\n",
            "34/34 [==============================] - 0s 3ms/step - loss: 6063.5488 - mae: 6063.5488\n",
            "Epoch 76/200\n",
            "34/34 [==============================] - 0s 3ms/step - loss: 6048.5952 - mae: 6048.5952\n",
            "Epoch 77/200\n",
            "34/34 [==============================] - 0s 3ms/step - loss: 6018.2148 - mae: 6018.2148\n",
            "Epoch 78/200\n",
            "34/34 [==============================] - 0s 3ms/step - loss: 5998.6260 - mae: 5998.6260\n",
            "Epoch 79/200\n",
            "34/34 [==============================] - 0s 3ms/step - loss: 5977.0864 - mae: 5977.0864\n",
            "Epoch 80/200\n",
            "34/34 [==============================] - 0s 3ms/step - loss: 5953.4717 - mae: 5953.4717\n",
            "Epoch 81/200\n",
            "34/34 [==============================] - 0s 3ms/step - loss: 5930.6406 - mae: 5930.6406\n",
            "Epoch 82/200\n",
            "34/34 [==============================] - 0s 3ms/step - loss: 5907.2666 - mae: 5907.2666\n",
            "Epoch 83/200\n",
            "34/34 [==============================] - 0s 3ms/step - loss: 5881.6685 - mae: 5881.6685\n",
            "Epoch 84/200\n",
            "34/34 [==============================] - 0s 3ms/step - loss: 5851.2446 - mae: 5851.2446\n",
            "Epoch 85/200\n",
            "34/34 [==============================] - 0s 4ms/step - loss: 5830.9351 - mae: 5830.9351\n",
            "Epoch 86/200\n",
            "34/34 [==============================] - 0s 4ms/step - loss: 5798.2744 - mae: 5798.2744\n",
            "Epoch 87/200\n",
            "34/34 [==============================] - 0s 4ms/step - loss: 5767.7690 - mae: 5767.7690\n",
            "Epoch 88/200\n",
            "34/34 [==============================] - 0s 4ms/step - loss: 5739.3022 - mae: 5739.3022\n",
            "Epoch 89/200\n",
            "34/34 [==============================] - 0s 3ms/step - loss: 5704.1143 - mae: 5704.1143\n",
            "Epoch 90/200\n",
            "34/34 [==============================] - 0s 3ms/step - loss: 5669.1309 - mae: 5669.1309\n",
            "Epoch 91/200\n",
            "34/34 [==============================] - 0s 3ms/step - loss: 5639.6230 - mae: 5639.6230\n",
            "Epoch 92/200\n",
            "34/34 [==============================] - 0s 3ms/step - loss: 5595.4272 - mae: 5595.4272\n",
            "Epoch 93/200\n",
            "34/34 [==============================] - 0s 4ms/step - loss: 5561.1904 - mae: 5561.1904\n",
            "Epoch 94/200\n",
            "34/34 [==============================] - 0s 3ms/step - loss: 5526.5122 - mae: 5526.5122\n",
            "Epoch 95/200\n",
            "34/34 [==============================] - 0s 3ms/step - loss: 5478.9385 - mae: 5478.9385\n",
            "Epoch 96/200\n",
            "34/34 [==============================] - 0s 3ms/step - loss: 5439.4214 - mae: 5439.4214\n",
            "Epoch 97/200\n",
            "34/34 [==============================] - 0s 4ms/step - loss: 5390.9399 - mae: 5390.9399\n",
            "Epoch 98/200\n",
            "34/34 [==============================] - 0s 3ms/step - loss: 5341.4048 - mae: 5341.4048\n",
            "Epoch 99/200\n",
            "34/34 [==============================] - 0s 4ms/step - loss: 5290.7837 - mae: 5290.7837\n",
            "Epoch 100/200\n",
            "34/34 [==============================] - 0s 3ms/step - loss: 5241.9009 - mae: 5241.9009\n",
            "Epoch 101/200\n",
            "34/34 [==============================] - 0s 3ms/step - loss: 5181.9995 - mae: 5181.9995\n",
            "Epoch 102/200\n",
            "34/34 [==============================] - 0s 2ms/step - loss: 5124.3228 - mae: 5124.3228\n",
            "Epoch 103/200\n",
            "34/34 [==============================] - 0s 2ms/step - loss: 5065.4482 - mae: 5065.4482\n",
            "Epoch 104/200\n",
            "34/34 [==============================] - 0s 2ms/step - loss: 4998.7954 - mae: 4998.7954\n",
            "Epoch 105/200\n",
            "34/34 [==============================] - 0s 2ms/step - loss: 4930.0063 - mae: 4930.0063\n",
            "Epoch 106/200\n",
            "34/34 [==============================] - 0s 2ms/step - loss: 4856.4194 - mae: 4856.4194\n",
            "Epoch 107/200\n",
            "34/34 [==============================] - 0s 2ms/step - loss: 4782.8066 - mae: 4782.8066\n",
            "Epoch 108/200\n",
            "34/34 [==============================] - 0s 2ms/step - loss: 4705.0107 - mae: 4705.0107\n",
            "Epoch 109/200\n",
            "34/34 [==============================] - 0s 2ms/step - loss: 4627.1807 - mae: 4627.1807\n",
            "Epoch 110/200\n",
            "34/34 [==============================] - 0s 2ms/step - loss: 4537.0645 - mae: 4537.0645\n",
            "Epoch 111/200\n",
            "34/34 [==============================] - 0s 2ms/step - loss: 4449.9219 - mae: 4449.9219\n",
            "Epoch 112/200\n",
            "34/34 [==============================] - 0s 2ms/step - loss: 4375.4800 - mae: 4375.4800\n",
            "Epoch 113/200\n",
            "34/34 [==============================] - 0s 2ms/step - loss: 4288.3555 - mae: 4288.3555\n",
            "Epoch 114/200\n",
            "34/34 [==============================] - 0s 2ms/step - loss: 4200.5688 - mae: 4200.5688\n",
            "Epoch 115/200\n",
            "34/34 [==============================] - 0s 2ms/step - loss: 4119.4771 - mae: 4119.4771\n",
            "Epoch 116/200\n",
            "34/34 [==============================] - 0s 2ms/step - loss: 4053.0776 - mae: 4053.0776\n",
            "Epoch 117/200\n",
            "34/34 [==============================] - 0s 2ms/step - loss: 4003.0383 - mae: 4003.0383\n",
            "Epoch 118/200\n",
            "34/34 [==============================] - 0s 2ms/step - loss: 3968.9636 - mae: 3968.9636\n",
            "Epoch 119/200\n",
            "34/34 [==============================] - 0s 2ms/step - loss: 3928.7029 - mae: 3928.7029\n",
            "Epoch 120/200\n",
            "34/34 [==============================] - 0s 2ms/step - loss: 3892.5554 - mae: 3892.5554\n",
            "Epoch 121/200\n",
            "34/34 [==============================] - 0s 2ms/step - loss: 3873.4390 - mae: 3873.4390\n",
            "Epoch 122/200\n",
            "34/34 [==============================] - 0s 2ms/step - loss: 3860.7942 - mae: 3860.7942\n",
            "Epoch 123/200\n",
            "34/34 [==============================] - 0s 2ms/step - loss: 3846.5984 - mae: 3846.5984\n",
            "Epoch 124/200\n",
            "34/34 [==============================] - 0s 2ms/step - loss: 3835.5625 - mae: 3835.5625\n",
            "Epoch 125/200\n",
            "34/34 [==============================] - 0s 2ms/step - loss: 3822.5962 - mae: 3822.5962\n",
            "Epoch 126/200\n",
            "34/34 [==============================] - 0s 2ms/step - loss: 3823.2922 - mae: 3823.2922\n",
            "Epoch 127/200\n",
            "34/34 [==============================] - 0s 2ms/step - loss: 3814.1631 - mae: 3814.1631\n",
            "Epoch 128/200\n",
            "34/34 [==============================] - 0s 2ms/step - loss: 3809.5833 - mae: 3809.5833\n",
            "Epoch 129/200\n",
            "34/34 [==============================] - 0s 2ms/step - loss: 3810.7930 - mae: 3810.7930\n",
            "Epoch 130/200\n",
            "34/34 [==============================] - 0s 2ms/step - loss: 3798.5918 - mae: 3798.5918\n",
            "Epoch 131/200\n",
            "34/34 [==============================] - 0s 2ms/step - loss: 3793.6914 - mae: 3793.6914\n",
            "Epoch 132/200\n",
            "34/34 [==============================] - 0s 2ms/step - loss: 3786.1292 - mae: 3786.1292\n",
            "Epoch 133/200\n",
            "34/34 [==============================] - 0s 2ms/step - loss: 3781.0574 - mae: 3781.0574\n",
            "Epoch 134/200\n",
            "34/34 [==============================] - 0s 2ms/step - loss: 3779.1045 - mae: 3779.1045\n",
            "Epoch 135/200\n",
            "34/34 [==============================] - 0s 2ms/step - loss: 3776.1267 - mae: 3776.1267\n",
            "Epoch 136/200\n",
            "34/34 [==============================] - 0s 2ms/step - loss: 3775.3013 - mae: 3775.3013\n",
            "Epoch 137/200\n",
            "34/34 [==============================] - 0s 2ms/step - loss: 3783.9087 - mae: 3783.9087\n",
            "Epoch 138/200\n",
            "34/34 [==============================] - 0s 2ms/step - loss: 3790.2993 - mae: 3790.2993\n",
            "Epoch 139/200\n",
            "34/34 [==============================] - 0s 2ms/step - loss: 3770.8020 - mae: 3770.8020\n",
            "Epoch 140/200\n",
            "34/34 [==============================] - 0s 2ms/step - loss: 3771.6143 - mae: 3771.6143\n",
            "Epoch 141/200\n",
            "34/34 [==============================] - 0s 2ms/step - loss: 3771.7966 - mae: 3771.7966\n",
            "Epoch 142/200\n",
            "34/34 [==============================] - 0s 2ms/step - loss: 3771.5439 - mae: 3771.5439\n",
            "Epoch 143/200\n",
            "34/34 [==============================] - 0s 2ms/step - loss: 3763.1887 - mae: 3763.1887\n",
            "Epoch 144/200\n",
            "34/34 [==============================] - 0s 2ms/step - loss: 3758.0691 - mae: 3758.0691\n",
            "Epoch 145/200\n",
            "34/34 [==============================] - 0s 2ms/step - loss: 3761.0388 - mae: 3761.0388\n",
            "Epoch 146/200\n",
            "34/34 [==============================] - 0s 2ms/step - loss: 3764.2478 - mae: 3764.2478\n",
            "Epoch 147/200\n",
            "34/34 [==============================] - 0s 2ms/step - loss: 3759.8660 - mae: 3759.8660\n",
            "Epoch 148/200\n",
            "34/34 [==============================] - 0s 2ms/step - loss: 3764.8110 - mae: 3764.8110\n",
            "Epoch 149/200\n",
            "34/34 [==============================] - 0s 2ms/step - loss: 3750.9380 - mae: 3750.9380\n",
            "Epoch 150/200\n",
            "34/34 [==============================] - 0s 2ms/step - loss: 3746.4485 - mae: 3746.4485\n",
            "Epoch 151/200\n",
            "34/34 [==============================] - 0s 2ms/step - loss: 3750.0664 - mae: 3750.0664\n",
            "Epoch 152/200\n",
            "34/34 [==============================] - 0s 2ms/step - loss: 3750.8835 - mae: 3750.8835\n",
            "Epoch 153/200\n",
            "34/34 [==============================] - 0s 2ms/step - loss: 3750.3005 - mae: 3750.3005\n",
            "Epoch 154/200\n",
            "34/34 [==============================] - 0s 2ms/step - loss: 3745.1033 - mae: 3745.1033\n",
            "Epoch 155/200\n",
            "34/34 [==============================] - 0s 2ms/step - loss: 3746.9426 - mae: 3746.9426\n",
            "Epoch 156/200\n",
            "34/34 [==============================] - 0s 2ms/step - loss: 3742.7539 - mae: 3742.7539\n",
            "Epoch 157/200\n",
            "34/34 [==============================] - 0s 2ms/step - loss: 3740.5444 - mae: 3740.5444\n",
            "Epoch 158/200\n",
            "34/34 [==============================] - 0s 2ms/step - loss: 3737.1572 - mae: 3737.1572\n",
            "Epoch 159/200\n",
            "34/34 [==============================] - 0s 2ms/step - loss: 3735.2532 - mae: 3735.2532\n",
            "Epoch 160/200\n",
            "34/34 [==============================] - 0s 2ms/step - loss: 3740.5964 - mae: 3740.5964\n",
            "Epoch 161/200\n",
            "34/34 [==============================] - 0s 2ms/step - loss: 3735.2400 - mae: 3735.2400\n",
            "Epoch 162/200\n",
            "34/34 [==============================] - 0s 2ms/step - loss: 3730.6431 - mae: 3730.6431\n",
            "Epoch 163/200\n",
            "34/34 [==============================] - 0s 2ms/step - loss: 3731.4900 - mae: 3731.4900\n",
            "Epoch 164/200\n",
            "34/34 [==============================] - 0s 2ms/step - loss: 3734.6379 - mae: 3734.6379\n",
            "Epoch 165/200\n",
            "34/34 [==============================] - 0s 2ms/step - loss: 3723.5708 - mae: 3723.5708\n",
            "Epoch 166/200\n",
            "34/34 [==============================] - 0s 2ms/step - loss: 3727.8010 - mae: 3727.8010\n",
            "Epoch 167/200\n",
            "34/34 [==============================] - 0s 2ms/step - loss: 3726.9531 - mae: 3726.9531\n",
            "Epoch 168/200\n",
            "34/34 [==============================] - 0s 2ms/step - loss: 3723.0281 - mae: 3723.0281\n",
            "Epoch 169/200\n",
            "34/34 [==============================] - 0s 2ms/step - loss: 3721.8977 - mae: 3721.8977\n",
            "Epoch 170/200\n",
            "34/34 [==============================] - 0s 2ms/step - loss: 3715.8655 - mae: 3715.8655\n",
            "Epoch 171/200\n",
            "34/34 [==============================] - 0s 2ms/step - loss: 3714.8777 - mae: 3714.8777\n",
            "Epoch 172/200\n",
            "34/34 [==============================] - 0s 2ms/step - loss: 3717.2737 - mae: 3717.2737\n",
            "Epoch 173/200\n",
            "34/34 [==============================] - 0s 2ms/step - loss: 3712.8647 - mae: 3712.8647\n",
            "Epoch 174/200\n",
            "34/34 [==============================] - 0s 2ms/step - loss: 3717.6660 - mae: 3717.6660\n",
            "Epoch 175/200\n",
            "34/34 [==============================] - 0s 3ms/step - loss: 3719.8047 - mae: 3719.8047\n",
            "Epoch 176/200\n",
            "34/34 [==============================] - 0s 2ms/step - loss: 3713.2791 - mae: 3713.2791\n",
            "Epoch 177/200\n",
            "34/34 [==============================] - 0s 2ms/step - loss: 3707.3184 - mae: 3707.3184\n",
            "Epoch 178/200\n",
            "34/34 [==============================] - 0s 2ms/step - loss: 3706.5325 - mae: 3706.5325\n",
            "Epoch 179/200\n",
            "34/34 [==============================] - 0s 2ms/step - loss: 3715.1802 - mae: 3715.1802\n",
            "Epoch 180/200\n",
            "34/34 [==============================] - 0s 2ms/step - loss: 3719.0872 - mae: 3719.0872\n",
            "Epoch 181/200\n",
            "34/34 [==============================] - 0s 2ms/step - loss: 3704.4014 - mae: 3704.4014\n",
            "Epoch 182/200\n",
            "34/34 [==============================] - 0s 2ms/step - loss: 3702.8259 - mae: 3702.8259\n",
            "Epoch 183/200\n",
            "34/34 [==============================] - 0s 2ms/step - loss: 3700.9680 - mae: 3700.9680\n",
            "Epoch 184/200\n",
            "34/34 [==============================] - 0s 2ms/step - loss: 3705.4229 - mae: 3705.4229\n",
            "Epoch 185/200\n",
            "34/34 [==============================] - 0s 2ms/step - loss: 3702.7065 - mae: 3702.7065\n",
            "Epoch 186/200\n",
            "34/34 [==============================] - 0s 2ms/step - loss: 3705.4673 - mae: 3705.4673\n",
            "Epoch 187/200\n",
            "34/34 [==============================] - 0s 2ms/step - loss: 3697.1008 - mae: 3697.1008\n",
            "Epoch 188/200\n",
            "34/34 [==============================] - 0s 2ms/step - loss: 3701.2341 - mae: 3701.2341\n",
            "Epoch 189/200\n",
            "34/34 [==============================] - 0s 2ms/step - loss: 3692.4482 - mae: 3692.4482\n",
            "Epoch 190/200\n",
            "34/34 [==============================] - 0s 2ms/step - loss: 3692.7266 - mae: 3692.7266\n",
            "Epoch 191/200\n",
            "34/34 [==============================] - 0s 2ms/step - loss: 3707.8586 - mae: 3707.8586\n",
            "Epoch 192/200\n",
            "34/34 [==============================] - 0s 2ms/step - loss: 3692.2463 - mae: 3692.2463\n",
            "Epoch 193/200\n",
            "34/34 [==============================] - 0s 2ms/step - loss: 3683.7134 - mae: 3683.7134\n",
            "Epoch 194/200\n",
            "34/34 [==============================] - 0s 2ms/step - loss: 3684.2910 - mae: 3684.2910\n",
            "Epoch 195/200\n",
            "34/34 [==============================] - 0s 2ms/step - loss: 3682.5698 - mae: 3682.5698\n",
            "Epoch 196/200\n",
            "34/34 [==============================] - 0s 2ms/step - loss: 3689.2751 - mae: 3689.2751\n",
            "Epoch 197/200\n",
            "34/34 [==============================] - 0s 2ms/step - loss: 3674.8477 - mae: 3674.8477\n",
            "Epoch 198/200\n",
            "34/34 [==============================] - 0s 2ms/step - loss: 3680.5156 - mae: 3680.5156\n",
            "Epoch 199/200\n",
            "34/34 [==============================] - 0s 2ms/step - loss: 3688.5398 - mae: 3688.5398\n",
            "Epoch 200/200\n",
            "34/34 [==============================] - 0s 3ms/step - loss: 3674.3333 - mae: 3674.3333\n"
          ]
        }
      ]
    },
    {
      "cell_type": "code",
      "source": [
        "insurance_model_3.evaluate(X_test, Y_test)"
      ],
      "metadata": {
        "colab": {
          "base_uri": "https://localhost:8080/"
        },
        "id": "QP9lZuz9P_gq",
        "outputId": "4842e7f2-8b2d-423a-9872-e1cda2eeb51e"
      },
      "execution_count": null,
      "outputs": [
        {
          "output_type": "stream",
          "name": "stdout",
          "text": [
            "9/9 [==============================] - 0s 4ms/step - loss: 3507.5764 - mae: 3507.5764\n"
          ]
        },
        {
          "output_type": "execute_result",
          "data": {
            "text/plain": [
              "[3507.576416015625, 3507.576416015625]"
            ]
          },
          "metadata": {},
          "execution_count": 28
        }
      ]
    },
    {
      "cell_type": "code",
      "source": [
        "#Plot your models training history (Also known as a loss curve or a training curve)\n",
        "pd.DataFrame(history.history).plot()\n",
        "plt.ylabel(\"loss\")\n",
        "plt.xlabel(\"epochs\")\n",
        "#When training ourt neural networks, we want the loss curve to go down because that means that the predictions our model\n",
        "#is making is becoming less and less wrong"
      ],
      "metadata": {
        "colab": {
          "base_uri": "https://localhost:8080/",
          "height": 466
        },
        "id": "4jH-NqpJQNPn",
        "outputId": "7728607a-8625-4afa-c431-c316c8a36412"
      },
      "execution_count": null,
      "outputs": [
        {
          "output_type": "execute_result",
          "data": {
            "text/plain": [
              "Text(0.5, 0, 'epochs')"
            ]
          },
          "metadata": {},
          "execution_count": 30
        },
        {
          "output_type": "display_data",
          "data": {
            "text/plain": [
              "<Figure size 640x480 with 1 Axes>"
            ],
            "image/png": "[encoded data removed]"
          },
          "metadata": {}
        }
      ]
    },
    {
      "cell_type": "markdown",
      "source": [
        "**Question**: How long should you train for?\n",
        "*  It depends.It depends on the problem your working on.However, people have asked this question before so tensorflow has a solution! Its called the `Early Stopping Callback`: https://www.tensorflow.org/api_docs/python/tf/keras/callbacks/EarlyStopping , Which is a tensorflow component that you cn add t your model to stop training once it stops improving.\n"
      ],
      "metadata": {
        "id": "eTBSn050Rx0l"
      }
    },
    {
      "cell_type": "markdown",
      "source": [
        "### Preprocessing data(Normalization and Standardization)\n",
        "**`Normalization`**- Changing the values of numeric columns in a dataset to a common scale. Also known as `Scale Features` or `Scale`. Its often used as the Default scaler with neural networks.\n",
        "For Instance, with our X variable, while all the columns are now numeric the scale of those numbers do not correlate with each other(for example one column has a range of 0-1 while another has a range of 10-80). By scaling the dataset, we will convert all the values to 0-1 while keeping the distribution the same.\n",
        "* In terms of scaling values, neural networks tend to prefer scaling values(normalization)."
      ],
      "metadata": {
        "id": "iGg7gJ8UqorB"
      }
    },
    {
      "cell_type": "code",
      "source": [
        "!pip install sklearn"
      ],
      "metadata": {
        "id": "kPuggkYO14E-"
      },
      "execution_count": null,
      "outputs": []
    },
    {
      "cell_type": "code",
      "source": [
        "#Import the required libaries\n",
        "import tensorflow as tf\n",
        "import pandas as pd\n",
        "import matplotlib.pyplot as plt\n",
        "#from sklearn.model_selection import train_test_split  #Used to create training and testing sets\n",
        "from sklearn.compose import make_column_transformer\n",
        "from sklearn.preprocessing import MinMaxScaler, OneHotEncoder\n",
        "from sklearn.model_selection import train_test_split  #Used to create training and testing sets\n",
        "\n",
        "#pd.read_csv will read the csv from the 'raw' github hyperlink\n",
        "insurance = pd.read_csv(\"https://raw.githubusercontent.com/stedy/Machine-Learning-with-R-datasets/master/insurance.csv\")\n",
        "print(insurance)"
      ],
      "metadata": {
        "colab": {
          "base_uri": "https://localhost:8080/"
        },
        "id": "sm3gt7xGwUHo",
        "outputId": "aa482e50-0685-4ddd-e98a-f824580a34ca"
      },
      "execution_count": null,
      "outputs": [
        {
          "output_type": "stream",
          "name": "stdout",
          "text": [
            "      age     sex     bmi  children smoker     region      charges\n",
            "0      19  female  27.900         0    yes  southwest  16884.92400\n",
            "1      18    male  33.770         1     no  southeast   1725.55230\n",
            "2      28    male  33.000         3     no  southeast   4449.46200\n",
            "3      33    male  22.705         0     no  northwest  21984.47061\n",
            "4      32    male  28.880         0     no  northwest   3866.85520\n",
            "...   ...     ...     ...       ...    ...        ...          ...\n",
            "1333   50    male  30.970         3     no  northwest  10600.54830\n",
            "1334   18  female  31.920         0     no  northeast   2205.98080\n",
            "1335   18  female  36.850         0     no  southeast   1629.83350\n",
            "1336   21  female  25.800         0     no  southwest   2007.94500\n",
            "1337   61  female  29.070         0    yes  northwest  29141.36030\n",
            "\n",
            "[1338 rows x 7 columns]\n"
          ]
        }
      ]
    },
    {
      "cell_type": "code",
      "source": [
        "#Create a column transformer\n",
        "ct = make_column_transformer(\n",
        "    (MinMaxScaler(),[\"age\", \"bmi\", \"children\"]),#turns all values in thses columns between 0 and 1\n",
        "    (OneHotEncoder(handle_unknown=\"ignore\"), [\"sex\", \"smoker\", \"region\"])\n",
        "     #handle_unknown=\"ignore\" just tells the oneHotEncoder to ignore any columns it doesnt know about\n",
        ")\n",
        "\n",
        "#Create variable\n",
        "X = insurance.drop(\"charges\", axis=1)\n",
        "Y = insurance[\"charges\"]\n",
        "\n",
        "X_train, X_test, Y_train, Y_test = train_test_split(X, Y, test_size=0.2,random_state=42)\n",
        "\n",
        "#Fit the column transformer to the training data. Whenever you have a column transformer\n",
        "#you want to fit it to the training data, and then use the column fit transformer to fit the test data.\n",
        "ct.fit(X_train)\n",
        "\n",
        "#Transform training and test data with normalization(MinMaxScaler and OneHotEncoder)\n",
        "X_train_normal = ct.transform(X_train)\n",
        "X_test_normal = ct.transform(X_test)"
      ],
      "metadata": {
        "id": "1sOe9uxjwbpU"
      },
      "execution_count": null,
      "outputs": []
    },
    {
      "cell_type": "code",
      "source": [
        "#What does our data look like now\n",
        "X_train_normal[0]"
      ],
      "metadata": {
        "colab": {
          "base_uri": "https://localhost:8080/"
        },
        "id": "-aT7meU82L5R",
        "outputId": "8ead9d2f-04a2-4f75-fa66-73284e4683d2"
      },
      "execution_count": null,
      "outputs": [
        {
          "output_type": "execute_result",
          "data": {
            "text/plain": [
              "array([0.60869565, 0.10734463, 0.4       , 1.        , 0.        ,\n",
              "       1.        , 0.        , 0.        , 1.        , 0.        ,\n",
              "       0.        ])"
            ]
          },
          "metadata": {},
          "execution_count": 3
        }
      ]
    },
    {
      "cell_type": "markdown",
      "source": [
        "### Our data has been normalized and one hot encoded, now lets build a neural network and see how it goes."
      ],
      "metadata": {
        "id": "QuKezzxH2wWb"
      }
    },
    {
      "cell_type": "code",
      "source": [
        "#Set the seed to have reproducivility\n",
        "tf.random.set_seed(42)\n",
        "\n",
        "#Build a neural network for our normalized data\n",
        "insurance_model_4 = tf.keras.Sequential([\n",
        "    tf.keras.layers.Dense(100),\n",
        "    tf.keras.layers.Dense(10),\n",
        "    tf.keras.layers.Dense(1)\n",
        "])\n",
        "\n",
        "insurance_model_4.compile(loss = tf.keras.losses.mae,\n",
        "                        optimizer = tf.keras.optimizers.Adam(),\n",
        "                        metrics = [\"mae\"])\n",
        "\n",
        "insurance_model_4.fit(X_train_normal, Y_train, epochs=100)"
      ],
      "metadata": {
        "colab": {
          "base_uri": "https://localhost:8080/"
        },
        "id": "thykwo3qiE9z",
        "outputId": "1e58b8e7-470b-4e6e-abb0-9e8ffa569128"
      },
      "execution_count": null,
      "outputs": [
        {
          "output_type": "stream",
          "name": "stdout",
          "text": [
            "Epoch 1/100\n",
            "34/34 [==============================] - 7s 16ms/step - loss: 13344.3145 - mae: 13344.3145\n",
            "Epoch 2/100\n",
            "34/34 [==============================] - 1s 16ms/step - loss: 13336.9678 - mae: 13336.9678\n",
            "Epoch 3/100\n",
            "34/34 [==============================] - 1s 18ms/step - loss: 13318.6367 - mae: 13318.6367\n",
            "Epoch 4/100\n",
            "34/34 [==============================] - 1s 15ms/step - loss: 13278.8848 - mae: 13278.8848\n",
            "Epoch 5/100\n",
            "34/34 [==============================] - 0s 10ms/step - loss: 13205.8838 - mae: 13205.8838\n",
            "Epoch 6/100\n",
            "34/34 [==============================] - 0s 9ms/step - loss: 13088.1768 - mae: 13088.1768\n",
            "Epoch 7/100\n",
            "34/34 [==============================] - 0s 11ms/step - loss: 12915.0957 - mae: 12915.0957\n",
            "Epoch 8/100\n",
            "34/34 [==============================] - 0s 8ms/step - loss: 12676.4697 - mae: 12676.4697\n",
            "Epoch 9/100\n",
            "34/34 [==============================] - 0s 6ms/step - loss: 12362.0938 - mae: 12362.0938\n",
            "Epoch 10/100\n",
            "34/34 [==============================] - 0s 6ms/step - loss: 11966.4453 - mae: 11966.4453\n",
            "Epoch 11/100\n",
            "34/34 [==============================] - 0s 9ms/step - loss: 11497.2061 - mae: 11497.2061\n",
            "Epoch 12/100\n",
            "34/34 [==============================] - 0s 10ms/step - loss: 10990.4443 - mae: 10990.4443\n",
            "Epoch 13/100\n",
            "34/34 [==============================] - 0s 7ms/step - loss: 10488.1006 - mae: 10488.1006\n",
            "Epoch 14/100\n",
            "34/34 [==============================] - 0s 5ms/step - loss: 9988.1230 - mae: 9988.1230\n",
            "Epoch 15/100\n",
            "34/34 [==============================] - 0s 7ms/step - loss: 9515.4609 - mae: 9515.4609\n",
            "Epoch 16/100\n",
            "34/34 [==============================] - 0s 7ms/step - loss: 9094.7520 - mae: 9094.7520\n",
            "Epoch 17/100\n",
            "34/34 [==============================] - 0s 7ms/step - loss: 8745.2227 - mae: 8745.2227\n",
            "Epoch 18/100\n",
            "34/34 [==============================] - 0s 7ms/step - loss: 8462.1680 - mae: 8462.1680\n",
            "Epoch 19/100\n",
            "34/34 [==============================] - 0s 8ms/step - loss: 8243.4072 - mae: 8243.4072\n",
            "Epoch 20/100\n",
            "34/34 [==============================] - 0s 6ms/step - loss: 8094.8066 - mae: 8094.8066\n",
            "Epoch 21/100\n",
            "34/34 [==============================] - 0s 6ms/step - loss: 7984.7227 - mae: 7984.7227\n",
            "Epoch 22/100\n",
            "34/34 [==============================] - 0s 6ms/step - loss: 7909.5615 - mae: 7909.5615\n",
            "Epoch 23/100\n",
            "34/34 [==============================] - 0s 9ms/step - loss: 7850.2114 - mae: 7850.2114\n",
            "Epoch 24/100\n",
            "34/34 [==============================] - 0s 6ms/step - loss: 7797.6689 - mae: 7797.6689\n",
            "Epoch 25/100\n",
            "34/34 [==============================] - 0s 7ms/step - loss: 7758.8770 - mae: 7758.8770\n",
            "Epoch 26/100\n",
            "34/34 [==============================] - 0s 7ms/step - loss: 7707.3306 - mae: 7707.3306\n",
            "Epoch 27/100\n",
            "34/34 [==============================] - 0s 4ms/step - loss: 7665.5581 - mae: 7665.5581\n",
            "Epoch 28/100\n",
            "34/34 [==============================] - 0s 3ms/step - loss: 7623.3262 - mae: 7623.3262\n",
            "Epoch 29/100\n",
            "34/34 [==============================] - 0s 3ms/step - loss: 7580.7563 - mae: 7580.7563\n",
            "Epoch 30/100\n",
            "34/34 [==============================] - 0s 3ms/step - loss: 7537.5234 - mae: 7537.5234\n",
            "Epoch 31/100\n",
            "34/34 [==============================] - 0s 3ms/step - loss: 7493.8472 - mae: 7493.8472\n",
            "Epoch 32/100\n",
            "34/34 [==============================] - 0s 3ms/step - loss: 7450.0161 - mae: 7450.0161\n",
            "Epoch 33/100\n",
            "34/34 [==============================] - 0s 3ms/step - loss: 7406.0181 - mae: 7406.0181\n",
            "Epoch 34/100\n",
            "34/34 [==============================] - 0s 3ms/step - loss: 7358.0908 - mae: 7358.0908\n",
            "Epoch 35/100\n",
            "34/34 [==============================] - 0s 3ms/step - loss: 7311.6567 - mae: 7311.6567\n",
            "Epoch 36/100\n",
            "34/34 [==============================] - 0s 4ms/step - loss: 7261.9248 - mae: 7261.9248\n",
            "Epoch 37/100\n",
            "34/34 [==============================] - 0s 3ms/step - loss: 7211.9966 - mae: 7211.9966\n",
            "Epoch 38/100\n",
            "34/34 [==============================] - 0s 3ms/step - loss: 7161.3330 - mae: 7161.3330\n",
            "Epoch 39/100\n",
            "34/34 [==============================] - 0s 3ms/step - loss: 7107.0190 - mae: 7107.0190\n",
            "Epoch 40/100\n",
            "34/34 [==============================] - 0s 3ms/step - loss: 7052.1089 - mae: 7052.1089\n",
            "Epoch 41/100\n",
            "34/34 [==============================] - 0s 3ms/step - loss: 6996.2241 - mae: 6996.2241\n",
            "Epoch 42/100\n",
            "34/34 [==============================] - 0s 3ms/step - loss: 6937.7178 - mae: 6937.7178\n",
            "Epoch 43/100\n",
            "34/34 [==============================] - 0s 3ms/step - loss: 6875.8564 - mae: 6875.8564\n",
            "Epoch 44/100\n",
            "34/34 [==============================] - 0s 3ms/step - loss: 6810.2764 - mae: 6810.2764\n",
            "Epoch 45/100\n",
            "34/34 [==============================] - 0s 4ms/step - loss: 6743.8945 - mae: 6743.8945\n",
            "Epoch 46/100\n",
            "34/34 [==============================] - 0s 3ms/step - loss: 6675.6294 - mae: 6675.6294\n",
            "Epoch 47/100\n",
            "34/34 [==============================] - 0s 3ms/step - loss: 6605.1436 - mae: 6605.1436\n",
            "Epoch 48/100\n",
            "34/34 [==============================] - 0s 3ms/step - loss: 6527.5273 - mae: 6527.5273\n",
            "Epoch 49/100\n",
            "34/34 [==============================] - 0s 3ms/step - loss: 6449.6978 - mae: 6449.6978\n",
            "Epoch 50/100\n",
            "34/34 [==============================] - 0s 3ms/step - loss: 6365.0347 - mae: 6365.0347\n",
            "Epoch 51/100\n",
            "34/34 [==============================] - 0s 3ms/step - loss: 6281.6470 - mae: 6281.6470\n",
            "Epoch 52/100\n",
            "34/34 [==============================] - 0s 3ms/step - loss: 6189.4331 - mae: 6189.4331\n",
            "Epoch 53/100\n",
            "34/34 [==============================] - 0s 3ms/step - loss: 6094.7632 - mae: 6094.7632\n",
            "Epoch 54/100\n",
            "34/34 [==============================] - 0s 3ms/step - loss: 5997.6885 - mae: 5997.6885\n",
            "Epoch 55/100\n",
            "34/34 [==============================] - 0s 3ms/step - loss: 5891.8096 - mae: 5891.8096\n",
            "Epoch 56/100\n",
            "34/34 [==============================] - 0s 3ms/step - loss: 5784.9492 - mae: 5784.9492\n",
            "Epoch 57/100\n",
            "34/34 [==============================] - 0s 3ms/step - loss: 5670.7358 - mae: 5670.7358\n",
            "Epoch 58/100\n",
            "34/34 [==============================] - 0s 3ms/step - loss: 5554.7500 - mae: 5554.7500\n",
            "Epoch 59/100\n",
            "34/34 [==============================] - 0s 3ms/step - loss: 5438.3799 - mae: 5438.3799\n",
            "Epoch 60/100\n",
            "34/34 [==============================] - 0s 3ms/step - loss: 5316.6836 - mae: 5316.6836\n",
            "Epoch 61/100\n",
            "34/34 [==============================] - 0s 3ms/step - loss: 5190.9810 - mae: 5190.9810\n",
            "Epoch 62/100\n",
            "34/34 [==============================] - 0s 5ms/step - loss: 5062.6602 - mae: 5062.6602\n",
            "Epoch 63/100\n",
            "34/34 [==============================] - 0s 5ms/step - loss: 4934.8115 - mae: 4934.8115\n",
            "Epoch 64/100\n",
            "34/34 [==============================] - 0s 4ms/step - loss: 4804.5527 - mae: 4804.5527\n",
            "Epoch 65/100\n",
            "34/34 [==============================] - 0s 4ms/step - loss: 4678.0542 - mae: 4678.0542\n",
            "Epoch 66/100\n",
            "34/34 [==============================] - 0s 4ms/step - loss: 4551.7568 - mae: 4551.7568\n",
            "Epoch 67/100\n",
            "34/34 [==============================] - 0s 4ms/step - loss: 4441.9512 - mae: 4441.9512\n",
            "Epoch 68/100\n",
            "34/34 [==============================] - 0s 4ms/step - loss: 4334.6455 - mae: 4334.6455\n",
            "Epoch 69/100\n",
            "34/34 [==============================] - 0s 4ms/step - loss: 4232.3691 - mae: 4232.3691\n",
            "Epoch 70/100\n",
            "34/34 [==============================] - 0s 4ms/step - loss: 4138.1436 - mae: 4138.1436\n",
            "Epoch 71/100\n",
            "34/34 [==============================] - 0s 4ms/step - loss: 4048.3350 - mae: 4048.3350\n",
            "Epoch 72/100\n",
            "34/34 [==============================] - 0s 4ms/step - loss: 3969.1331 - mae: 3969.1331\n",
            "Epoch 73/100\n",
            "34/34 [==============================] - 0s 4ms/step - loss: 3899.7183 - mae: 3899.7183\n",
            "Epoch 74/100\n",
            "34/34 [==============================] - 0s 5ms/step - loss: 3842.7961 - mae: 3842.7961\n",
            "Epoch 75/100\n",
            "34/34 [==============================] - 0s 4ms/step - loss: 3796.5759 - mae: 3796.5759\n",
            "Epoch 76/100\n",
            "34/34 [==============================] - 0s 5ms/step - loss: 3760.7380 - mae: 3760.7380\n",
            "Epoch 77/100\n",
            "34/34 [==============================] - 0s 4ms/step - loss: 3732.7339 - mae: 3732.7339\n",
            "Epoch 78/100\n",
            "34/34 [==============================] - 0s 4ms/step - loss: 3712.3408 - mae: 3712.3408\n",
            "Epoch 79/100\n",
            "34/34 [==============================] - 0s 4ms/step - loss: 3697.4158 - mae: 3697.4158\n",
            "Epoch 80/100\n",
            "34/34 [==============================] - 0s 4ms/step - loss: 3686.5718 - mae: 3686.5718\n",
            "Epoch 81/100\n",
            "34/34 [==============================] - 0s 5ms/step - loss: 3678.7532 - mae: 3678.7532\n",
            "Epoch 82/100\n",
            "34/34 [==============================] - 0s 5ms/step - loss: 3674.3225 - mae: 3674.3225\n",
            "Epoch 83/100\n",
            "34/34 [==============================] - 0s 4ms/step - loss: 3667.5906 - mae: 3667.5906\n",
            "Epoch 84/100\n",
            "34/34 [==============================] - 0s 3ms/step - loss: 3664.2742 - mae: 3664.2742\n",
            "Epoch 85/100\n",
            "34/34 [==============================] - 0s 3ms/step - loss: 3661.9771 - mae: 3661.9771\n",
            "Epoch 86/100\n",
            "34/34 [==============================] - 0s 3ms/step - loss: 3659.9243 - mae: 3659.9243\n",
            "Epoch 87/100\n",
            "34/34 [==============================] - 0s 4ms/step - loss: 3656.8005 - mae: 3656.8005\n",
            "Epoch 88/100\n",
            "34/34 [==============================] - 0s 3ms/step - loss: 3654.1035 - mae: 3654.1035\n",
            "Epoch 89/100\n",
            "34/34 [==============================] - 0s 4ms/step - loss: 3652.3286 - mae: 3652.3286\n",
            "Epoch 90/100\n",
            "34/34 [==============================] - 0s 4ms/step - loss: 3650.6558 - mae: 3650.6558\n",
            "Epoch 91/100\n",
            "34/34 [==============================] - 0s 4ms/step - loss: 3647.6887 - mae: 3647.6887\n",
            "Epoch 92/100\n",
            "34/34 [==============================] - 0s 3ms/step - loss: 3646.9094 - mae: 3646.9094\n",
            "Epoch 93/100\n",
            "34/34 [==============================] - 0s 3ms/step - loss: 3644.7080 - mae: 3644.7080\n",
            "Epoch 94/100\n",
            "34/34 [==============================] - 0s 3ms/step - loss: 3643.0115 - mae: 3643.0115\n",
            "Epoch 95/100\n",
            "34/34 [==============================] - 0s 3ms/step - loss: 3644.0989 - mae: 3644.0989\n",
            "Epoch 96/100\n",
            "34/34 [==============================] - 0s 3ms/step - loss: 3640.7185 - mae: 3640.7185\n",
            "Epoch 97/100\n",
            "34/34 [==============================] - 0s 3ms/step - loss: 3638.5671 - mae: 3638.5671\n",
            "Epoch 98/100\n",
            "34/34 [==============================] - 0s 4ms/step - loss: 3636.3909 - mae: 3636.3909\n",
            "Epoch 99/100\n",
            "34/34 [==============================] - 0s 4ms/step - loss: 3635.9460 - mae: 3635.9460\n",
            "Epoch 100/100\n",
            "34/34 [==============================] - 0s 4ms/step - loss: 3634.3582 - mae: 3634.3582\n"
          ]
        },
        {
          "output_type": "execute_result",
          "data": {
            "text/plain": [
              "<keras.src.callbacks.History at 0x7851ccbdceb0>"
            ]
          },
          "metadata": {},
          "execution_count": 4
        }
      ]
    },
    {
      "cell_type": "code",
      "source": [
        "#Evaluate our model on the normalized data. We need to make sure to evaluate our model on the same type of data that it recieved.\n",
        "#So because we trained it on normalized data, we need to evaluate it on normalized data\n",
        "insurance_model_4.evaluate(X_test_normal, Y_test)\n",
        "#By normalizing our data we see and decrease in the loss metric meaning that our model is performing better.\n",
        "#Typically, when we normalize our data out model tends to converg faster(Get better results faster)"
      ],
      "metadata": {
        "colab": {
          "base_uri": "https://localhost:8080/"
        },
        "id": "SsBEigOtj4Sb",
        "outputId": "535a8f50-ce6c-420a-d6ac-965801b99c76"
      },
      "execution_count": null,
      "outputs": [
        {
          "output_type": "stream",
          "name": "stdout",
          "text": [
            "9/9 [==============================] - 0s 9ms/step - loss: 3436.9202 - mae: 3436.9202\n"
          ]
        },
        {
          "output_type": "execute_result",
          "data": {
            "text/plain": [
              "[3436.920166015625, 3436.920166015625]"
            ]
          },
          "metadata": {},
          "execution_count": 5
        }
      ]
    }
  ]
}